{
  "nbformat": 4,
  "nbformat_minor": 0,
  "metadata": {
    "colab": {
      "name": "Classification model - Optimisation",
      "provenance": [],
      "collapsed_sections": []
    },
    "kernelspec": {
      "display_name": "Python 3",
      "language": "python",
      "name": "python3"
    },
    "language_info": {
      "codemirror_mode": {
        "name": "ipython",
        "version": 3
      },
      "file_extension": ".py",
      "mimetype": "text/x-python",
      "name": "python",
      "nbconvert_exporter": "python",
      "pygments_lexer": "ipython3",
      "version": "3.8.3"
    }
  },
  "cells": [
    {
      "cell_type": "code",
      "metadata": {
        "id": "2FeaAPfJb9ft"
      },
      "source": [
        "import pandas as pd\n",
        "import numpy as np\n",
        "import matplotlib.pyplot as plt\n",
        "import seaborn as sns\n",
        "from sklearn.preprocessing import MinMaxScaler\n",
        "from tensorflow.keras.models import Sequential\n",
        "from tensorflow.keras.layers import Dense,LSTM,Activation,Dropout,Bidirectional,TimeDistributed\n",
        "from tensorflow import keras\n",
        "import tensorflow as tf\n",
        "import keras_tuner as kt\n",
        "from sklearn.metrics import f1_score, confusion_matrix, ConfusionMatrixDisplay\n",
        "import ta as ta                                                        # technical analysis library\n",
        "from scipy.stats import mannwhitneyu\n"
      ],
      "execution_count": null,
      "outputs": []
    },
    {
      "cell_type": "markdown",
      "metadata": {
        "id": "kHx3s20Rb9fy"
      },
      "source": [
        "# Load the dataset"
      ]
    },
    {
      "cell_type": "code",
      "metadata": {
        "colab": {
          "resources": {
            "http://localhost:8080/nbextensions/google.colab/files.js": {
              "data": "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",
              "ok": true,
              "headers": [
                [
                  "content-type",
                  "application/javascript"
                ]
              ],
              "status": 200,
              "status_text": ""
            }
          },
          "base_uri": "https://localhost:8080/",
          "height": 74
        },
        "id": "eMXMMRUWuk0F",
        "outputId": "44a256be-751d-4844-e67c-db175800819f"
      },
      "source": [
        "from google.colab import files\n",
        "import io\n",
        "uploaded = files.upload()"
      ],
      "execution_count": null,
      "outputs": [
        {
          "output_type": "display_data",
          "data": {
            "text/html": [
              "\n",
              "     <input type=\"file\" id=\"files-219384d4-9577-4973-9307-a334b24a821c\" name=\"files[]\" multiple disabled\n",
              "        style=\"border:none\" />\n",
              "     <output id=\"result-219384d4-9577-4973-9307-a334b24a821c\">\n",
              "      Upload widget is only available when the cell has been executed in the\n",
              "      current browser session. Please rerun this cell to enable.\n",
              "      </output>\n",
              "      <script src=\"/nbextensions/google.colab/files.js\"></script> "
            ],
            "text/plain": [
              "<IPython.core.display.HTML object>"
            ]
          },
          "metadata": {}
        },
        {
          "output_type": "stream",
          "name": "stdout",
          "text": [
            "Saving dataset.csv to dataset.csv\n"
          ]
        }
      ]
    },
    {
      "cell_type": "code",
      "metadata": {
        "id": "v89NaOAlumND"
      },
      "source": [
        "df = pd.read_csv(io.BytesIO(uploaded['dataset.csv']), header=None)"
      ],
      "execution_count": null,
      "outputs": []
    },
    {
      "cell_type": "code",
      "metadata": {
        "id": "ut4tcQUib9fz"
      },
      "source": [
        "df.columns = ['Open Time', 'Open', 'High', 'Low', 'Close', 'Volume (ETH)', 'Close Time', 'Quote Asset Volume (USDT)', \n",
        "              'No. of trades', 'Buy Base Volume (ETH)', 'Buy Quote Volume (USDT)', 'Ignore']"
      ],
      "execution_count": null,
      "outputs": []
    },
    {
      "cell_type": "markdown",
      "metadata": {
        "id": "hzkJHzWTb9f1"
      },
      "source": [
        "# Preprocessing steps \n",
        "##### (Explained in the workbook titled 'Exploratory Data Analysis & Preprocessing)"
      ]
    },
    {
      "cell_type": "code",
      "metadata": {
        "id": "0jOAG2clb9f2"
      },
      "source": [
        "df['Open Date'] = pd.to_datetime(df['Open Time'], unit='ms')"
      ],
      "execution_count": null,
      "outputs": []
    },
    {
      "cell_type": "code",
      "metadata": {
        "id": "_XlN1AtMb9f2"
      },
      "source": [
        "df['Close Date'] = pd.to_datetime(df['Close Time'], unit='ms')"
      ],
      "execution_count": null,
      "outputs": []
    },
    {
      "cell_type": "code",
      "metadata": {
        "id": "rbj3JkZjb9f3"
      },
      "source": [
        "df['Close Date'] = df['Close Date'].dt.normalize()"
      ],
      "execution_count": null,
      "outputs": []
    },
    {
      "cell_type": "code",
      "metadata": {
        "id": "8MwpH5clb9f4"
      },
      "source": [
        "df.drop(['Open Time', 'Close Time'], axis=1, inplace=True)"
      ],
      "execution_count": null,
      "outputs": []
    },
    {
      "cell_type": "code",
      "metadata": {
        "id": "6iF_cLTSb9f4"
      },
      "source": [
        "df.drop(['Ignore', 'Volume (ETH)', 'No. of trades', 'Buy Base Volume (ETH)', 'Buy Quote Volume (USDT)', 'Open Date'], axis=1, inplace=True)"
      ],
      "execution_count": null,
      "outputs": []
    },
    {
      "cell_type": "code",
      "metadata": {
        "id": "JRR_2rsib9f5"
      },
      "source": [
        "df.rename(columns = {'Quote Asset Volume (USDT)':'Volume'}, inplace = True)"
      ],
      "execution_count": null,
      "outputs": []
    },
    {
      "cell_type": "code",
      "metadata": {
        "colab": {
          "base_uri": "https://localhost:8080/",
          "height": 234
        },
        "id": "W4kDcSwfb9f6",
        "outputId": "b9652677-1d58-4782-c3f4-12c12f554d34"
      },
      "source": [
        "df.set_index('Close Date', inplace=True)\n",
        "df.head()"
      ],
      "execution_count": null,
      "outputs": [
        {
          "output_type": "execute_result",
          "data": {
            "text/html": [
              "<div>\n",
              "<style scoped>\n",
              "    .dataframe tbody tr th:only-of-type {\n",
              "        vertical-align: middle;\n",
              "    }\n",
              "\n",
              "    .dataframe tbody tr th {\n",
              "        vertical-align: top;\n",
              "    }\n",
              "\n",
              "    .dataframe thead th {\n",
              "        text-align: right;\n",
              "    }\n",
              "</style>\n",
              "<table border=\"1\" class=\"dataframe\">\n",
              "  <thead>\n",
              "    <tr style=\"text-align: right;\">\n",
              "      <th></th>\n",
              "      <th>Open</th>\n",
              "      <th>High</th>\n",
              "      <th>Low</th>\n",
              "      <th>Close</th>\n",
              "      <th>Volume</th>\n",
              "    </tr>\n",
              "    <tr>\n",
              "      <th>Close Date</th>\n",
              "      <th></th>\n",
              "      <th></th>\n",
              "      <th></th>\n",
              "      <th></th>\n",
              "      <th></th>\n",
              "    </tr>\n",
              "  </thead>\n",
              "  <tbody>\n",
              "    <tr>\n",
              "      <th>2017-08-17</th>\n",
              "      <td>301.13</td>\n",
              "      <td>312.18</td>\n",
              "      <td>298.00</td>\n",
              "      <td>302.00</td>\n",
              "      <td>2.154655e+06</td>\n",
              "    </tr>\n",
              "    <tr>\n",
              "      <th>2017-08-18</th>\n",
              "      <td>302.00</td>\n",
              "      <td>311.79</td>\n",
              "      <td>283.94</td>\n",
              "      <td>293.96</td>\n",
              "      <td>2.858947e+06</td>\n",
              "    </tr>\n",
              "    <tr>\n",
              "      <th>2017-08-19</th>\n",
              "      <td>293.31</td>\n",
              "      <td>299.90</td>\n",
              "      <td>278.00</td>\n",
              "      <td>290.91</td>\n",
              "      <td>6.200226e+05</td>\n",
              "    </tr>\n",
              "    <tr>\n",
              "      <th>2017-08-20</th>\n",
              "      <td>289.41</td>\n",
              "      <td>300.53</td>\n",
              "      <td>282.85</td>\n",
              "      <td>299.10</td>\n",
              "      <td>7.428479e+05</td>\n",
              "    </tr>\n",
              "    <tr>\n",
              "      <th>2017-08-21</th>\n",
              "      <td>299.10</td>\n",
              "      <td>346.52</td>\n",
              "      <td>294.60</td>\n",
              "      <td>323.29</td>\n",
              "      <td>1.689472e+06</td>\n",
              "    </tr>\n",
              "  </tbody>\n",
              "</table>\n",
              "</div>"
            ],
            "text/plain": [
              "              Open    High     Low   Close        Volume\n",
              "Close Date                                              \n",
              "2017-08-17  301.13  312.18  298.00  302.00  2.154655e+06\n",
              "2017-08-18  302.00  311.79  283.94  293.96  2.858947e+06\n",
              "2017-08-19  293.31  299.90  278.00  290.91  6.200226e+05\n",
              "2017-08-20  289.41  300.53  282.85  299.10  7.428479e+05\n",
              "2017-08-21  299.10  346.52  294.60  323.29  1.689472e+06"
            ]
          },
          "metadata": {},
          "execution_count": 12
        }
      ]
    },
    {
      "cell_type": "code",
      "metadata": {
        "id": "-a-XRuDNv17D"
      },
      "source": [
        "columns = df.columns.tolist()\n",
        "columns = columns[-1:] + columns[:-1]\n",
        "df = df[columns]"
      ],
      "execution_count": null,
      "outputs": []
    },
    {
      "cell_type": "code",
      "metadata": {
        "colab": {
          "base_uri": "https://localhost:8080/",
          "height": 234
        },
        "id": "xC7TQSxZwKLk",
        "outputId": "3d071058-e9e3-49ee-9d8a-5606f9d3267d"
      },
      "source": [
        "df.head()"
      ],
      "execution_count": null,
      "outputs": [
        {
          "output_type": "execute_result",
          "data": {
            "text/html": [
              "<div>\n",
              "<style scoped>\n",
              "    .dataframe tbody tr th:only-of-type {\n",
              "        vertical-align: middle;\n",
              "    }\n",
              "\n",
              "    .dataframe tbody tr th {\n",
              "        vertical-align: top;\n",
              "    }\n",
              "\n",
              "    .dataframe thead th {\n",
              "        text-align: right;\n",
              "    }\n",
              "</style>\n",
              "<table border=\"1\" class=\"dataframe\">\n",
              "  <thead>\n",
              "    <tr style=\"text-align: right;\">\n",
              "      <th></th>\n",
              "      <th>Volume</th>\n",
              "      <th>Open</th>\n",
              "      <th>High</th>\n",
              "      <th>Low</th>\n",
              "      <th>Close</th>\n",
              "    </tr>\n",
              "    <tr>\n",
              "      <th>Close Date</th>\n",
              "      <th></th>\n",
              "      <th></th>\n",
              "      <th></th>\n",
              "      <th></th>\n",
              "      <th></th>\n",
              "    </tr>\n",
              "  </thead>\n",
              "  <tbody>\n",
              "    <tr>\n",
              "      <th>2017-08-17</th>\n",
              "      <td>2.154655e+06</td>\n",
              "      <td>301.13</td>\n",
              "      <td>312.18</td>\n",
              "      <td>298.00</td>\n",
              "      <td>302.00</td>\n",
              "    </tr>\n",
              "    <tr>\n",
              "      <th>2017-08-18</th>\n",
              "      <td>2.858947e+06</td>\n",
              "      <td>302.00</td>\n",
              "      <td>311.79</td>\n",
              "      <td>283.94</td>\n",
              "      <td>293.96</td>\n",
              "    </tr>\n",
              "    <tr>\n",
              "      <th>2017-08-19</th>\n",
              "      <td>6.200226e+05</td>\n",
              "      <td>293.31</td>\n",
              "      <td>299.90</td>\n",
              "      <td>278.00</td>\n",
              "      <td>290.91</td>\n",
              "    </tr>\n",
              "    <tr>\n",
              "      <th>2017-08-20</th>\n",
              "      <td>7.428479e+05</td>\n",
              "      <td>289.41</td>\n",
              "      <td>300.53</td>\n",
              "      <td>282.85</td>\n",
              "      <td>299.10</td>\n",
              "    </tr>\n",
              "    <tr>\n",
              "      <th>2017-08-21</th>\n",
              "      <td>1.689472e+06</td>\n",
              "      <td>299.10</td>\n",
              "      <td>346.52</td>\n",
              "      <td>294.60</td>\n",
              "      <td>323.29</td>\n",
              "    </tr>\n",
              "  </tbody>\n",
              "</table>\n",
              "</div>"
            ],
            "text/plain": [
              "                  Volume    Open    High     Low   Close\n",
              "Close Date                                              \n",
              "2017-08-17  2.154655e+06  301.13  312.18  298.00  302.00\n",
              "2017-08-18  2.858947e+06  302.00  311.79  283.94  293.96\n",
              "2017-08-19  6.200226e+05  293.31  299.90  278.00  290.91\n",
              "2017-08-20  7.428479e+05  289.41  300.53  282.85  299.10\n",
              "2017-08-21  1.689472e+06  299.10  346.52  294.60  323.29"
            ]
          },
          "metadata": {},
          "execution_count": 14
        }
      ]
    },
    {
      "cell_type": "code",
      "metadata": {
        "colab": {
          "base_uri": "https://localhost:8080/"
        },
        "id": "ZmfRfbx1b9f8",
        "outputId": "f47d3415-184a-4bbf-fbbb-21eeada67f6e"
      },
      "source": [
        "df.info()"
      ],
      "execution_count": null,
      "outputs": [
        {
          "output_type": "stream",
          "name": "stdout",
          "text": [
            "<class 'pandas.core.frame.DataFrame'>\n",
            "DatetimeIndex: 1412 entries, 2017-08-17 to 2021-06-28\n",
            "Data columns (total 5 columns):\n",
            " #   Column  Non-Null Count  Dtype  \n",
            "---  ------  --------------  -----  \n",
            " 0   Volume  1412 non-null   float64\n",
            " 1   Open    1412 non-null   float64\n",
            " 2   High    1412 non-null   float64\n",
            " 3   Low     1412 non-null   float64\n",
            " 4   Close   1412 non-null   float64\n",
            "dtypes: float64(5)\n",
            "memory usage: 66.2 KB\n"
          ]
        }
      ]
    },
    {
      "cell_type": "markdown",
      "metadata": {
        "id": "kBm7i8DmR3f_"
      },
      "source": [
        "# Create classes"
      ]
    },
    {
      "cell_type": "code",
      "metadata": {
        "id": "4W-KYqup15NJ"
      },
      "source": [
        "# create a column to indicate the price movement: 1 means the price has increased compared to the previous day, 0 means the price has decreased\n",
        "\n",
        "movement = []\n",
        "\n",
        "for i in range(len(df)-1):\n",
        "\n",
        "  if df['Close'][i+1] < df['Close'][i]:\n",
        "    movement.append(0)\n",
        "  \n",
        "  else:\n",
        "    movement.append(1)\n"
      ],
      "execution_count": null,
      "outputs": []
    },
    {
      "cell_type": "code",
      "metadata": {
        "colab": {
          "base_uri": "https://localhost:8080/",
          "height": 234
        },
        "id": "slYxoi727QYk",
        "outputId": "828e6f79-2f01-4431-a37e-d208ee94d878"
      },
      "source": [
        "# datapoint 0 in the dataset (2017-08-17) will be dropped because there is no price information prior to this day so it can not be put into a class.\n",
        "df.drop(df.index[0], inplace=True)\n",
        "df.head()"
      ],
      "execution_count": null,
      "outputs": [
        {
          "output_type": "execute_result",
          "data": {
            "text/html": [
              "<div>\n",
              "<style scoped>\n",
              "    .dataframe tbody tr th:only-of-type {\n",
              "        vertical-align: middle;\n",
              "    }\n",
              "\n",
              "    .dataframe tbody tr th {\n",
              "        vertical-align: top;\n",
              "    }\n",
              "\n",
              "    .dataframe thead th {\n",
              "        text-align: right;\n",
              "    }\n",
              "</style>\n",
              "<table border=\"1\" class=\"dataframe\">\n",
              "  <thead>\n",
              "    <tr style=\"text-align: right;\">\n",
              "      <th></th>\n",
              "      <th>Volume</th>\n",
              "      <th>Open</th>\n",
              "      <th>High</th>\n",
              "      <th>Low</th>\n",
              "      <th>Close</th>\n",
              "    </tr>\n",
              "    <tr>\n",
              "      <th>Close Date</th>\n",
              "      <th></th>\n",
              "      <th></th>\n",
              "      <th></th>\n",
              "      <th></th>\n",
              "      <th></th>\n",
              "    </tr>\n",
              "  </thead>\n",
              "  <tbody>\n",
              "    <tr>\n",
              "      <th>2017-08-18</th>\n",
              "      <td>2.858947e+06</td>\n",
              "      <td>302.00</td>\n",
              "      <td>311.79</td>\n",
              "      <td>283.94</td>\n",
              "      <td>293.96</td>\n",
              "    </tr>\n",
              "    <tr>\n",
              "      <th>2017-08-19</th>\n",
              "      <td>6.200226e+05</td>\n",
              "      <td>293.31</td>\n",
              "      <td>299.90</td>\n",
              "      <td>278.00</td>\n",
              "      <td>290.91</td>\n",
              "    </tr>\n",
              "    <tr>\n",
              "      <th>2017-08-20</th>\n",
              "      <td>7.428479e+05</td>\n",
              "      <td>289.41</td>\n",
              "      <td>300.53</td>\n",
              "      <td>282.85</td>\n",
              "      <td>299.10</td>\n",
              "    </tr>\n",
              "    <tr>\n",
              "      <th>2017-08-21</th>\n",
              "      <td>1.689472e+06</td>\n",
              "      <td>299.10</td>\n",
              "      <td>346.52</td>\n",
              "      <td>294.60</td>\n",
              "      <td>323.29</td>\n",
              "    </tr>\n",
              "    <tr>\n",
              "      <th>2017-08-22</th>\n",
              "      <td>2.454426e+06</td>\n",
              "      <td>321.04</td>\n",
              "      <td>330.41</td>\n",
              "      <td>144.21</td>\n",
              "      <td>309.80</td>\n",
              "    </tr>\n",
              "  </tbody>\n",
              "</table>\n",
              "</div>"
            ],
            "text/plain": [
              "                  Volume    Open    High     Low   Close\n",
              "Close Date                                              \n",
              "2017-08-18  2.858947e+06  302.00  311.79  283.94  293.96\n",
              "2017-08-19  6.200226e+05  293.31  299.90  278.00  290.91\n",
              "2017-08-20  7.428479e+05  289.41  300.53  282.85  299.10\n",
              "2017-08-21  1.689472e+06  299.10  346.52  294.60  323.29\n",
              "2017-08-22  2.454426e+06  321.04  330.41  144.21  309.80"
            ]
          },
          "metadata": {},
          "execution_count": 17
        }
      ]
    },
    {
      "cell_type": "code",
      "metadata": {
        "id": "mpLu53Yo6ISP"
      },
      "source": [
        "df['Price Movement'] = np.array(movement)"
      ],
      "execution_count": null,
      "outputs": []
    },
    {
      "cell_type": "code",
      "metadata": {
        "colab": {
          "base_uri": "https://localhost:8080/",
          "height": 447
        },
        "id": "lOdjClAv3T_M",
        "outputId": "8d85c12c-c586-45ef-e290-0219ef73c729"
      },
      "source": [
        "df"
      ],
      "execution_count": null,
      "outputs": [
        {
          "output_type": "execute_result",
          "data": {
            "text/html": [
              "<div>\n",
              "<style scoped>\n",
              "    .dataframe tbody tr th:only-of-type {\n",
              "        vertical-align: middle;\n",
              "    }\n",
              "\n",
              "    .dataframe tbody tr th {\n",
              "        vertical-align: top;\n",
              "    }\n",
              "\n",
              "    .dataframe thead th {\n",
              "        text-align: right;\n",
              "    }\n",
              "</style>\n",
              "<table border=\"1\" class=\"dataframe\">\n",
              "  <thead>\n",
              "    <tr style=\"text-align: right;\">\n",
              "      <th></th>\n",
              "      <th>Volume</th>\n",
              "      <th>Open</th>\n",
              "      <th>High</th>\n",
              "      <th>Low</th>\n",
              "      <th>Close</th>\n",
              "      <th>Price Movement</th>\n",
              "    </tr>\n",
              "    <tr>\n",
              "      <th>Close Date</th>\n",
              "      <th></th>\n",
              "      <th></th>\n",
              "      <th></th>\n",
              "      <th></th>\n",
              "      <th></th>\n",
              "      <th></th>\n",
              "    </tr>\n",
              "  </thead>\n",
              "  <tbody>\n",
              "    <tr>\n",
              "      <th>2017-08-18</th>\n",
              "      <td>2.858947e+06</td>\n",
              "      <td>302.00</td>\n",
              "      <td>311.79</td>\n",
              "      <td>283.94</td>\n",
              "      <td>293.96</td>\n",
              "      <td>0</td>\n",
              "    </tr>\n",
              "    <tr>\n",
              "      <th>2017-08-19</th>\n",
              "      <td>6.200226e+05</td>\n",
              "      <td>293.31</td>\n",
              "      <td>299.90</td>\n",
              "      <td>278.00</td>\n",
              "      <td>290.91</td>\n",
              "      <td>0</td>\n",
              "    </tr>\n",
              "    <tr>\n",
              "      <th>2017-08-20</th>\n",
              "      <td>7.428479e+05</td>\n",
              "      <td>289.41</td>\n",
              "      <td>300.53</td>\n",
              "      <td>282.85</td>\n",
              "      <td>299.10</td>\n",
              "      <td>1</td>\n",
              "    </tr>\n",
              "    <tr>\n",
              "      <th>2017-08-21</th>\n",
              "      <td>1.689472e+06</td>\n",
              "      <td>299.10</td>\n",
              "      <td>346.52</td>\n",
              "      <td>294.60</td>\n",
              "      <td>323.29</td>\n",
              "      <td>1</td>\n",
              "    </tr>\n",
              "    <tr>\n",
              "      <th>2017-08-22</th>\n",
              "      <td>2.454426e+06</td>\n",
              "      <td>321.04</td>\n",
              "      <td>330.41</td>\n",
              "      <td>144.21</td>\n",
              "      <td>309.80</td>\n",
              "      <td>0</td>\n",
              "    </tr>\n",
              "    <tr>\n",
              "      <th>...</th>\n",
              "      <td>...</td>\n",
              "      <td>...</td>\n",
              "      <td>...</td>\n",
              "      <td>...</td>\n",
              "      <td>...</td>\n",
              "      <td>...</td>\n",
              "    </tr>\n",
              "    <tr>\n",
              "      <th>2021-06-24</th>\n",
              "      <td>1.377800e+09</td>\n",
              "      <td>1967.95</td>\n",
              "      <td>2036.61</td>\n",
              "      <td>1884.79</td>\n",
              "      <td>1989.52</td>\n",
              "      <td>1</td>\n",
              "    </tr>\n",
              "    <tr>\n",
              "      <th>2021-06-25</th>\n",
              "      <td>1.612557e+09</td>\n",
              "      <td>1989.53</td>\n",
              "      <td>2019.99</td>\n",
              "      <td>1791.22</td>\n",
              "      <td>1808.82</td>\n",
              "      <td>0</td>\n",
              "    </tr>\n",
              "    <tr>\n",
              "      <th>2021-06-26</th>\n",
              "      <td>1.478551e+09</td>\n",
              "      <td>1808.97</td>\n",
              "      <td>1852.80</td>\n",
              "      <td>1717.32</td>\n",
              "      <td>1829.64</td>\n",
              "      <td>1</td>\n",
              "    </tr>\n",
              "    <tr>\n",
              "      <th>2021-06-27</th>\n",
              "      <td>1.299522e+09</td>\n",
              "      <td>1829.84</td>\n",
              "      <td>1984.50</td>\n",
              "      <td>1804.26</td>\n",
              "      <td>1982.28</td>\n",
              "      <td>1</td>\n",
              "    </tr>\n",
              "    <tr>\n",
              "      <th>2021-06-28</th>\n",
              "      <td>1.740555e+09</td>\n",
              "      <td>1982.27</td>\n",
              "      <td>2136.71</td>\n",
              "      <td>1960.52</td>\n",
              "      <td>2088.28</td>\n",
              "      <td>1</td>\n",
              "    </tr>\n",
              "  </tbody>\n",
              "</table>\n",
              "<p>1411 rows × 6 columns</p>\n",
              "</div>"
            ],
            "text/plain": [
              "                  Volume     Open     High      Low    Close  Price Movement\n",
              "Close Date                                                                  \n",
              "2017-08-18  2.858947e+06   302.00   311.79   283.94   293.96               0\n",
              "2017-08-19  6.200226e+05   293.31   299.90   278.00   290.91               0\n",
              "2017-08-20  7.428479e+05   289.41   300.53   282.85   299.10               1\n",
              "2017-08-21  1.689472e+06   299.10   346.52   294.60   323.29               1\n",
              "2017-08-22  2.454426e+06   321.04   330.41   144.21   309.80               0\n",
              "...                  ...      ...      ...      ...      ...             ...\n",
              "2021-06-24  1.377800e+09  1967.95  2036.61  1884.79  1989.52               1\n",
              "2021-06-25  1.612557e+09  1989.53  2019.99  1791.22  1808.82               0\n",
              "2021-06-26  1.478551e+09  1808.97  1852.80  1717.32  1829.64               1\n",
              "2021-06-27  1.299522e+09  1829.84  1984.50  1804.26  1982.28               1\n",
              "2021-06-28  1.740555e+09  1982.27  2136.71  1960.52  2088.28               1\n",
              "\n",
              "[1411 rows x 6 columns]"
            ]
          },
          "metadata": {},
          "execution_count": 19
        }
      ]
    },
    {
      "cell_type": "code",
      "metadata": {
        "colab": {
          "base_uri": "https://localhost:8080/"
        },
        "id": "9-FIp6vr43bk",
        "outputId": "456364dc-88a0-4a2e-8890-68699fade961"
      },
      "source": [
        "df.info()"
      ],
      "execution_count": null,
      "outputs": [
        {
          "output_type": "stream",
          "name": "stdout",
          "text": [
            "<class 'pandas.core.frame.DataFrame'>\n",
            "DatetimeIndex: 1411 entries, 2017-08-18 to 2021-06-28\n",
            "Data columns (total 6 columns):\n",
            " #   Column          Non-Null Count  Dtype  \n",
            "---  ------          --------------  -----  \n",
            " 0   Volume          1411 non-null   float64\n",
            " 1   Open            1411 non-null   float64\n",
            " 2   High            1411 non-null   float64\n",
            " 3   Low             1411 non-null   float64\n",
            " 4   Close           1411 non-null   float64\n",
            " 5   Price Movement  1411 non-null   int64  \n",
            "dtypes: float64(5), int64(1)\n",
            "memory usage: 77.2 KB\n"
          ]
        }
      ]
    },
    {
      "cell_type": "markdown",
      "metadata": {
        "id": "b93fV6nAb9f9"
      },
      "source": [
        "# Split dataset into training, validation and testing datasets for optimisation"
      ]
    },
    {
      "cell_type": "markdown",
      "metadata": {
        "id": "WCRlPqQFb9f9"
      },
      "source": [
        "#### I will now split the timeseries into training and test sets, before I scale it to prevent data leakage. https://machinelearningmastery.com/machine-learning-data-transforms-for-time-series-forecasting/\n",
        "#### I'll be splitting the data into three sets (Training, Validation and Test)  as per the holdout method to help with determining the generalisation ability of the model during model selection. \n",
        "#### 61.45% of the data will be used for training, 12.7% will be used as the validation set and the remaining 25.85% will be used as the test set"
      ]
    },
    {
      "cell_type": "code",
      "metadata": {
        "id": "dXg1O9ENb9f-"
      },
      "source": [
        "split = int(len(df)*0.6145)\n",
        "training_set = df[:split]      # 18/8/2017 - 1/1/2020\n",
        "\n",
        "subset = df[split:]\n",
        "split2 = int(len(subset)*0.3303)\n",
        "\n",
        "val_set = subset[:split2]      # 2/1/2020 - 28/6/2020\n",
        "test_set = subset[split2:]     # 29/6/2020 - 28/6/2021"
      ],
      "execution_count": null,
      "outputs": []
    },
    {
      "cell_type": "code",
      "metadata": {
        "colab": {
          "base_uri": "https://localhost:8080/"
        },
        "id": "x5oTK5hevHP5",
        "outputId": "d190e964-7691-4b0c-b3fb-31ec1ee45e28"
      },
      "source": [
        "print('Training: ', training_set.shape, '\\nValidation: ', val_set.shape, '\\nTest: ', test_set.shape)"
      ],
      "execution_count": null,
      "outputs": [
        {
          "output_type": "stream",
          "name": "stdout",
          "text": [
            "Training:  (867, 6) \n",
            "Validation:  (179, 6) \n",
            "Test:  (365, 6)\n"
          ]
        }
      ]
    },
    {
      "cell_type": "markdown",
      "metadata": {
        "id": "rwSNvmT6wkGx"
      },
      "source": [
        "# Split the data into X variables and y targets"
      ]
    },
    {
      "cell_type": "code",
      "metadata": {
        "colab": {
          "base_uri": "https://localhost:8080/"
        },
        "id": "j0jH_bixwiU5",
        "outputId": "a201e961-99d6-4178-f64d-1d98d92687e4"
      },
      "source": [
        "# the x values will contain the first 5 features in the dataset and the y value will contain only the target feature to predict (price movement) \n",
        "\n",
        "X_training = (training_set.iloc[:, :-1]).values.reshape(training_set.shape[0],training_set.shape[1]-1)\n",
        "y_training = (training_set.iloc[:, -1]).values.reshape(training_set.shape[0],1)\n",
        "\n",
        "print(X_training.shape, y_training.shape)\n",
        "\n",
        "X_valid = (val_set.iloc[:, :-1]).values.reshape(val_set.shape[0],val_set.shape[1]-1)\n",
        "y_valid = (val_set.iloc[:, -1]).values.reshape(val_set.shape[0],1)\n",
        "\n",
        "print(X_valid.shape, y_valid.shape)\n",
        "\n",
        "X_testing = (test_set.iloc[:, :-1]).values.reshape(test_set.shape[0],test_set.shape[1]-1)\n",
        "y_testing = (test_set.iloc[:, -1]).values.reshape(test_set.shape[0],1)\n",
        "\n",
        "print(X_testing.shape, y_testing.shape)"
      ],
      "execution_count": null,
      "outputs": [
        {
          "output_type": "stream",
          "name": "stdout",
          "text": [
            "(867, 5) (867, 1)\n",
            "(179, 5) (179, 1)\n",
            "(365, 5) (365, 1)\n"
          ]
        }
      ]
    },
    {
      "cell_type": "markdown",
      "metadata": {
        "id": "KX1DFcZ__mUY"
      },
      "source": [
        "# I will check how imbalanced the classes are in each of the datasets' target vectors. \n",
        "###I am following a Keras tutorial on how to check for and deal with imbalanced class sizes when training neural networks for classification tasks:\n",
        "https://keras.io/examples/structured_data/imbalanced_classification/\n"
      ]
    },
    {
      "cell_type": "code",
      "metadata": {
        "colab": {
          "base_uri": "https://localhost:8080/"
        },
        "id": "o1in2d5K_tUY",
        "outputId": "555f272a-71e5-4d33-d33f-6c718a61f5cf"
      },
      "source": [
        "print('TRAINING SET\\n', 'Count:\\n', training_set['Price Movement'].value_counts(), '\\n\\nRelative Frequencies:\\n',training_set['Price Movement'].value_counts(normalize=True))\n",
        "print('\\nVALIDATION SET\\n', 'Count:\\n', val_set['Price Movement'].value_counts(), '\\n\\nRelative Frequencies:\\n',val_set['Price Movement'].value_counts(normalize=True))\n",
        "print('\\nTESTING SET\\n', 'Count:\\n', test_set['Price Movement'].value_counts(), '\\n\\nRelative Frequencies:\\n',test_set['Price Movement'].value_counts(normalize=True))\n"
      ],
      "execution_count": null,
      "outputs": [
        {
          "output_type": "stream",
          "name": "stdout",
          "text": [
            "TRAINING SET\n",
            " Count:\n",
            " 0    445\n",
            "1    422\n",
            "Name: Price Movement, dtype: int64 \n",
            "\n",
            "Relative Frequencies:\n",
            " 0    0.513264\n",
            "1    0.486736\n",
            "Name: Price Movement, dtype: float64\n",
            "\n",
            "VALIDATION SET\n",
            " Count:\n",
            " 1    92\n",
            "0    87\n",
            "Name: Price Movement, dtype: int64 \n",
            "\n",
            "Relative Frequencies:\n",
            " 1    0.513966\n",
            "0    0.486034\n",
            "Name: Price Movement, dtype: float64\n",
            "\n",
            "TESTING SET\n",
            " Count:\n",
            " 1    213\n",
            "0    152\n",
            "Name: Price Movement, dtype: int64 \n",
            "\n",
            "Relative Frequencies:\n",
            " 1    0.583562\n",
            "0    0.416438\n",
            "Name: Price Movement, dtype: float64\n"
          ]
        }
      ]
    },
    {
      "cell_type": "code",
      "metadata": {
        "id": "ejq_ma6iNdhA"
      },
      "source": [
        "class_labels = pd.unique(df['Price Movement'])"
      ],
      "execution_count": null,
      "outputs": []
    },
    {
      "cell_type": "code",
      "metadata": {
        "colab": {
          "base_uri": "https://localhost:8080/",
          "height": 1000
        },
        "id": "AlNj99hPJV6N",
        "outputId": "c36bbf26-69c3-4919-b39b-7402ea4d5bde"
      },
      "source": [
        "plt.figure(figsize = (10, 5))\n",
        "sns.barplot(x = ['Down', 'Up'], y= training_set['Price Movement'].value_counts(), palette='Set1')\n",
        "plt.title('Distribution of Classes - Training Dataset')\n",
        "plt.xlabel(\"Price Movement\")\n",
        "plt.ylabel(\"Count\")\n",
        "plt.show()\n",
        "\n",
        "plt.figure(figsize = (10, 5))\n",
        "sns.barplot(x = ['Down', 'Up'], y= val_set['Price Movement'].value_counts(), palette='Set1')\n",
        "plt.title('Distribution of Classes - Validation Dataset')\n",
        "plt.xlabel(\"Price Movement\")\n",
        "plt.ylabel(\"Count\")\n",
        "plt.show()\n",
        "\n",
        "plt.figure(figsize = (10, 5))\n",
        "sns.barplot(x = ['Down', 'Up'], y= test_set['Price Movement'].value_counts(), palette='Set1')\n",
        "plt.title('Distribution of Classes - Testing Dataset', fontsize=14)\n",
        "plt.xlabel(\"Price Movement\", fontsize=12)\n",
        "plt.ylabel(\"Count\", fontsize=12)\n",
        "plt.show()"
      ],
      "execution_count": null,
      "outputs": [
        {
          "output_type": "display_data",
          "data": {
            "image/png": "[encoded data removed]",
            "text/plain": [
              "<Figure size 720x360 with 1 Axes>"
            ]
          },
          "metadata": {
            "needs_background": "light"
          }
        },
        {
          "output_type": "display_data",
          "data": {
            "image/png": "[encoded data removed]",
            "text/plain": [
              "<Figure size 720x360 with 1 Axes>"
            ]
          },
          "metadata": {
            "needs_background": "light"
          }
        },
        {
          "output_type": "display_data",
          "data": {
            "image/png": "[encoded data removed]",
            "text/plain": [
              "<Figure size 720x360 with 1 Axes>"
            ]
          },
          "metadata": {
            "needs_background": "light"
          }
        }
      ]
    },
    {
      "cell_type": "markdown",
      "metadata": {
        "id": "L9yC4S10b9f-"
      },
      "source": [
        "# Normalisation"
      ]
    },
    {
      "cell_type": "markdown",
      "metadata": {
        "id": "tmPv5CrJQdn_"
      },
      "source": [
        "#### The values need to be scaled to between 0 and 1 so I will use MinMaxScaler from scikit-learn to do this.\n",
        "#### https://scikit-learn.org/stable/modules/generated/sklearn.preprocessing.MinMaxScaler.html"
      ]
    },
    {
      "cell_type": "code",
      "metadata": {
        "id": "sInwy4duQdoI"
      },
      "source": [
        "Xscaler = MinMaxScaler(feature_range=(0,1))\n",
        "yscaler = MinMaxScaler(feature_range=(0,1))\n",
        "\n",
        "X_train = Xscaler.fit_transform(X_training)\n",
        "y_train = yscaler.fit_transform(y_training)\n",
        "\n",
        "X_val = Xscaler.fit_transform(X_valid)\n",
        "y_val = yscaler.fit_transform(y_valid)\n",
        "\n",
        "X_test = Xscaler.fit_transform(X_testing)\n",
        "y_test = yscaler.fit_transform(y_testing)"
      ],
      "execution_count": null,
      "outputs": []
    },
    {
      "cell_type": "markdown",
      "metadata": {
        "id": "PXdorkq6QtDT"
      },
      "source": [
        "## Prepare data for multi-step LSTM\n",
        "##### source code: https://pangkh98.medium.com/multi-step-multivariate-time-series-forecasting-using-lstm-92c6d22cd9c2"
      ]
    },
    {
      "cell_type": "code",
      "metadata": {
        "colab": {
          "base_uri": "https://localhost:8080/"
        },
        "id": "nwBjpX0QO96M",
        "outputId": "b2165280-72e2-48f4-8aa4-5982d611de12"
      },
      "source": [
        "# stack the data horizontally\n",
        "\n",
        "train_stacked = np.hstack((X_training, y_training))\n",
        "print (\"Stacked Training Data Shape: \" , train_stacked.shape)\n",
        "\n",
        "val_stacked = np.hstack((X_valid, y_valid))\n",
        "print (\"Stacked Validation Data Shape: \" , val_stacked.shape)\n",
        "\n",
        "test_stacked = np.hstack((X_testing, y_testing))\n",
        "print (\"Stacked Test Data Shape: \" , test_stacked.shape)"
      ],
      "execution_count": null,
      "outputs": [
        {
          "output_type": "stream",
          "name": "stdout",
          "text": [
            "Stacked Training Data Shape:  (867, 6)\n",
            "Stacked Validation Data Shape:  (179, 6)\n",
            "Stacked Test Data Shape:  (365, 6)\n"
          ]
        }
      ]
    },
    {
      "cell_type": "code",
      "metadata": {
        "id": "ex1aH0q5QJTw"
      },
      "source": [
        "# create sequences (n_steps_in = input timesteps, n_steps_out = output timesteps)\n",
        "\n",
        "def create_sequences(sequences, n_steps_in, n_steps_out):\n",
        " X, y = [], []\n",
        "\n",
        " for i in range(len(sequences)):\n",
        "\n",
        "  # find the end of this pattern\n",
        "  end_ix = i + n_steps_in\n",
        "  out_end_ix = end_ix + n_steps_out-1\n",
        "\n",
        "  # check if we are beyond the dataset\n",
        "  if out_end_ix > len(sequences):\n",
        "   break\n",
        "\n",
        "  # gather input and output parts of the pattern\n",
        "  seq_x, seq_y = sequences[i:end_ix, :-1], sequences[end_ix-1:out_end_ix, -1]\n",
        "  X.append(seq_x)\n",
        "  y.append(seq_y)\n",
        " return np.array(X), np.array(y)\n",
        "\n",
        "   "
      ],
      "execution_count": null,
      "outputs": []
    },
    {
      "cell_type": "code",
      "metadata": {
        "colab": {
          "base_uri": "https://localhost:8080/"
        },
        "id": "z1tNnTyXjW5h",
        "outputId": "a0a2ee0d-5324-440d-86f1-f04077f4d2ca"
      },
      "source": [
        "# choose a number of time steps \n",
        "n_steps_in, n_steps_out = 14, 14\n",
        "\n",
        "# run function\n",
        "X_train, y_train = create_sequences(train_stacked, n_steps_in, n_steps_out)\n",
        "print (\"X train sequences: \" , X_train.shape, \"y train sequences\" , y_train.shape)            \n",
        "\n",
        "X_val, y_val = create_sequences(val_stacked, n_steps_in, n_steps_out)\n",
        "print (\"X val sequences: \" , X_val.shape, \"y val sequences\" , y_val.shape) \n",
        "\n",
        "X_test, y_test = create_sequences(test_stacked, n_steps_in, n_steps_out)\n",
        "print (\"X test sequences: \" , X_test.shape, \"y test sequences\" , y_test.shape)      "
      ],
      "execution_count": null,
      "outputs": [
        {
          "output_type": "stream",
          "name": "stdout",
          "text": [
            "X train sequences:  (841, 14, 5) y train sequences (841, 14)\n",
            "X val sequences:  (153, 14, 5) y val sequences (153, 14)\n",
            "X test sequences:  (339, 14, 5) y test sequences (339, 14)\n"
          ]
        }
      ]
    },
    {
      "cell_type": "markdown",
      "metadata": {
        "id": "wzBdRK4jb9gA"
      },
      "source": [
        "# Model Building on CoLab\n",
        "### I will tune the model using Keras Tuner\n",
        "\n",
        "##### https://www.danielpovey.com/files/2017_interspeech_dropout.pdf \n",
        "##### https://www.tensorflow.org/tutorials/keras/keras_tuner#define_the_model\n",
        "##### Using Bidirectional wrappers to create a Bidirectional LSTM: https://keras.io/api/layers/recurrent_layers/bidirectional/\n",
        "##### Code for classification Bidirectional LSTM adapted from: https://machinelearningmastery.com/develop-bidirectional-lstm-sequence-classification-python-keras/"
      ]
    },
    {
      "cell_type": "code",
      "metadata": {
        "id": "4BSjsu7wb9gA"
      },
      "source": [
        "n_features = X_train.shape[2]\n",
        "\n",
        "# I need to define the features during model creation so that the Keras Tuner can find the optimum values\n",
        "\n",
        "# create LSTM model\n",
        "def create_model(hp):\n",
        "\n",
        "  model = Sequential()\n",
        "  # Tuner for number of nodules/units in the model layers\n",
        "  model.add(Bidirectional(LSTM(units=hp.Int('units', min_value=10, max_value=100, step=10), activation='relu', return_sequences=True), input_shape=(n_steps_in, n_features),\n",
        "                          merge_mode=hp.Choice('merge_mode', values=['sum', 'mul', 'concat', 'ave'])))\n",
        " \n",
        "  for i in range(hp.Int('n_layers', 1, 3)):  # adding additional layers.\n",
        "    model.add(Bidirectional(LSTM(units=hp.Int('units', min_value=10, max_value=100, step=10), activation='relu', return_sequences=True), \n",
        "            merge_mode=hp.Choice('merge_mode', values=['sum', 'mul', 'concat', 'ave'])))\n",
        "    model.add(Dropout(hp.Choice('dropout', values=[0.3, 0.5, 0.7])))\n",
        "\n",
        "  model.add(Bidirectional(LSTM(units=hp.Int('units', min_value=10, max_value=100, step=10), activation='relu', return_sequences=True), \n",
        "            merge_mode=hp.Choice('merge_mode', values=['sum', 'mul', 'concat', 'ave'])))\n",
        "  model.add(Dropout(hp.Choice('dropout', values=[0.3, 0.5, 0.7])))\n",
        "  model.add(TimeDistributed(Dense(1, activation='sigmoid')))\n",
        "  model.compile(loss='binary_crossentropy' , optimizer=tf.keras.optimizers.Adam(hp.Choice('learning_rate', values=[0.0001, 0.00001, 0.000001])) , metrics=['accuracy'])\n",
        "\n",
        "  return model\n",
        "\n",
        "\n"
      ],
      "execution_count": null,
      "outputs": []
    },
    {
      "cell_type": "markdown",
      "metadata": {
        "id": "QK8SbbsUK5Y8"
      },
      "source": [
        "# Hypertune the model"
      ]
    },
    {
      "cell_type": "code",
      "metadata": {
        "id": "BKhRNWtwK8qH"
      },
      "source": [
        "# I need to set up the tuner with the correct objective function which in this case is to minimise the validation loss (i.e. the generalisation error)\n",
        "\n",
        "tuner = kt.RandomSearch(create_model, objective = \"val_accuracy\", max_trials=10)"
      ],
      "execution_count": null,
      "outputs": []
    },
    {
      "cell_type": "markdown",
      "metadata": {
        "id": "1LWZa736P-qy"
      },
      "source": [
        "# Search for the best parameters"
      ]
    },
    {
      "cell_type": "code",
      "metadata": {
        "colab": {
          "base_uri": "https://localhost:8080/"
        },
        "id": "IQ58h410Reeq",
        "outputId": "3df3b922-6f7e-4d9a-eb6d-2a1bd0d526f0"
      },
      "source": [
        "tuner.search_space_summary()"
      ],
      "execution_count": null,
      "outputs": [
        {
          "output_type": "stream",
          "name": "stdout",
          "text": [
            "Search space summary\n",
            "Default search space size: 5\n",
            "units (Int)\n",
            "{'default': None, 'conditions': [], 'min_value': 10, 'max_value': 100, 'step': 10, 'sampling': None}\n",
            "merge_mode (Choice)\n",
            "{'default': 'sum', 'conditions': [], 'values': ['sum', 'mul', 'concat', 'ave'], 'ordered': False}\n",
            "n_layers (Int)\n",
            "{'default': None, 'conditions': [], 'min_value': 1, 'max_value': 3, 'step': 1, 'sampling': None}\n",
            "dropout (Choice)\n",
            "{'default': 0.3, 'conditions': [], 'values': [0.3, 0.5, 0.7], 'ordered': True}\n",
            "learning_rate (Choice)\n",
            "{'default': 0.0001, 'conditions': [], 'values': [0.0001, 1e-05, 1e-06], 'ordered': True}\n"
          ]
        }
      ]
    },
    {
      "cell_type": "code",
      "metadata": {
        "id": "71ouGcrlmIg-"
      },
      "source": [
        "stop_early = tf.keras.callbacks.EarlyStopping(monitor='val_accuracy', mode='max', patience=10)"
      ],
      "execution_count": null,
      "outputs": []
    },
    {
      "cell_type": "code",
      "metadata": {
        "colab": {
          "base_uri": "https://localhost:8080/"
        },
        "id": "QN7TB19hP9tO",
        "outputId": "6c5f6db4-f723-4bc2-b361-0054ff2d3a3e"
      },
      "source": [
        "# The tuner will now search across the potential values for each hyperparameter and select the best combination\n",
        "\n",
        "tuner.search(X_train , y_train , epochs=100 , validation_data=(X_val, y_val)  ,shuffle=False, callbacks=[stop_early])"
      ],
      "execution_count": null,
      "outputs": [
        {
          "output_type": "stream",
          "name": "stdout",
          "text": [
            "Trial 10 Complete [00h 00m 38s]\n",
            "val_accuracy: 0.5014005899429321\n",
            "\n",
            "Best val_accuracy So Far: 0.523809552192688\n",
            "Total elapsed time: 00h 07m 24s\n",
            "INFO:tensorflow:Oracle triggered exit\n"
          ]
        }
      ]
    },
    {
      "cell_type": "markdown",
      "metadata": {
        "id": "4a6p3wilRwVv"
      },
      "source": [
        "# Results of hypertuning"
      ]
    },
    {
      "cell_type": "code",
      "metadata": {
        "colab": {
          "base_uri": "https://localhost:8080/"
        },
        "id": "kNc7FgTmRvRg",
        "outputId": "a62fb627-a61b-403c-be47-77f3f938640b"
      },
      "source": [
        "# This will provide a list of the top 10 best models in ascending order, with their respective parameters. \n",
        "# Model 1 at the top of the list is the optimised model that I will use for training and testing.\n",
        "\n",
        "tuner.results_summary()"
      ],
      "execution_count": null,
      "outputs": [
        {
          "output_type": "stream",
          "name": "stdout",
          "text": [
            "Results summary\n",
            "Results in ./untitled_project\n",
            "Showing 10 best trials\n",
            "Objective(name='val_accuracy', direction='max')\n",
            "Trial summary\n",
            "Hyperparameters:\n",
            "units: 90\n",
            "merge_mode: ave\n",
            "n_layers: 2\n",
            "dropout: 0.3\n",
            "learning_rate: 1e-05\n",
            "Score: 0.523809552192688\n",
            "Trial summary\n",
            "Hyperparameters:\n",
            "units: 10\n",
            "merge_mode: sum\n",
            "n_layers: 2\n",
            "dropout: 0.7\n",
            "learning_rate: 1e-06\n",
            "Score: 0.5168067812919617\n",
            "Trial summary\n",
            "Hyperparameters:\n",
            "units: 90\n",
            "merge_mode: ave\n",
            "n_layers: 3\n",
            "dropout: 0.3\n",
            "learning_rate: 0.0001\n",
            "Score: 0.5158730149269104\n",
            "Trial summary\n",
            "Hyperparameters:\n",
            "units: 70\n",
            "merge_mode: concat\n",
            "n_layers: 3\n",
            "dropout: 0.3\n",
            "learning_rate: 1e-05\n",
            "Score: 0.5098039507865906\n",
            "Trial summary\n",
            "Hyperparameters:\n",
            "units: 40\n",
            "merge_mode: concat\n",
            "n_layers: 3\n",
            "dropout: 0.5\n",
            "learning_rate: 1e-05\n",
            "Score: 0.5014005899429321\n",
            "Trial summary\n",
            "Hyperparameters:\n",
            "units: 40\n",
            "merge_mode: concat\n",
            "n_layers: 2\n",
            "dropout: 0.5\n",
            "learning_rate: 1e-06\n",
            "Score: 0.49859943985939026\n",
            "Trial summary\n",
            "Hyperparameters:\n",
            "units: 70\n",
            "merge_mode: sum\n",
            "n_layers: 1\n",
            "dropout: 0.3\n",
            "learning_rate: 1e-06\n",
            "Score: 0.4771241843700409\n",
            "Trial summary\n",
            "Hyperparameters:\n",
            "units: 50\n",
            "merge_mode: mul\n",
            "n_layers: 2\n",
            "dropout: 0.7\n",
            "learning_rate: 1e-05\n",
            "Score: 0.4757235646247864\n",
            "Trial summary\n",
            "Hyperparameters:\n",
            "units: 70\n",
            "merge_mode: mul\n",
            "n_layers: 1\n",
            "dropout: 0.3\n",
            "learning_rate: 0.0001\n",
            "Score: 0.4757235646247864\n",
            "Trial summary\n",
            "Hyperparameters:\n",
            "units: 60\n",
            "merge_mode: mul\n",
            "n_layers: 2\n",
            "dropout: 0.3\n",
            "learning_rate: 1e-05\n",
            "Score: 0.4757235646247864\n"
          ]
        }
      ]
    },
    {
      "cell_type": "code",
      "metadata": {
        "id": "DyC2v0MvR8BS"
      },
      "source": [
        "best_model = tuner.get_best_models(num_models=1)[0]"
      ],
      "execution_count": null,
      "outputs": []
    },
    {
      "cell_type": "code",
      "metadata": {
        "colab": {
          "base_uri": "https://localhost:8080/"
        },
        "id": "mJw97SfvTzV0",
        "outputId": "601728bc-bb4c-4e45-f8d7-0bafaa753c49"
      },
      "source": [
        "best_model.summary()"
      ],
      "execution_count": null,
      "outputs": [
        {
          "output_type": "stream",
          "name": "stdout",
          "text": [
            "Model: \"sequential\"\n",
            "_________________________________________________________________\n",
            "Layer (type)                 Output Shape              Param #   \n",
            "=================================================================\n",
            "bidirectional (Bidirectional (None, 14, 90)            69120     \n",
            "_________________________________________________________________\n",
            "bidirectional_1 (Bidirection (None, 14, 90)            130320    \n",
            "_________________________________________________________________\n",
            "dropout (Dropout)            (None, 14, 90)            0         \n",
            "_________________________________________________________________\n",
            "bidirectional_2 (Bidirection (None, 14, 90)            130320    \n",
            "_________________________________________________________________\n",
            "dropout_1 (Dropout)          (None, 14, 90)            0         \n",
            "_________________________________________________________________\n",
            "bidirectional_3 (Bidirection (None, 14, 90)            130320    \n",
            "_________________________________________________________________\n",
            "dropout_2 (Dropout)          (None, 14, 90)            0         \n",
            "_________________________________________________________________\n",
            "time_distributed (TimeDistri (None, 14, 1)             91        \n",
            "=================================================================\n",
            "Total params: 460,171\n",
            "Trainable params: 460,171\n",
            "Non-trainable params: 0\n",
            "_________________________________________________________________\n"
          ]
        }
      ]
    },
    {
      "cell_type": "markdown",
      "metadata": {
        "id": "aYMC0t2eprZZ"
      },
      "source": [
        "#Now that the optimised model has been selected, I will create 4 classification models to compare to 4 regression models that were made earlier.\n"
      ]
    },
    {
      "cell_type": "markdown",
      "metadata": {
        "id": "jS1Z5PADsPvp"
      },
      "source": [
        "#**1. Baseline Classification BiLSTM Model**\n",
        "### Train and test the baseline model 5 times to get a list of scores to use later for statistical comparison."
      ]
    },
    {
      "cell_type": "code",
      "metadata": {
        "colab": {
          "base_uri": "https://localhost:8080/",
          "height": 1000
        },
        "id": "t5toT2Qkpmzn",
        "outputId": "da026369-e4b9-4d5f-e91c-58c339ecf25d"
      },
      "source": [
        "acc_list = []\n",
        "fscore_list = []\n",
        "\n",
        "for i in range(5):\n",
        "\n",
        "  # fit model\n",
        "  print('\\nTraining Number ', i)\n",
        "  best_model.fit(X_train , y_train , epochs=100 , verbose=0 , validation_data=(X_val, y_val) ,shuffle=False)\n",
        "\n",
        "  # predict\n",
        "\n",
        "  test_pred = best_model.predict(X_test)\n",
        "\n",
        "  # generate the metric scores\n",
        "\n",
        "  y_test_reshaped = y_test.reshape(y_test.shape[0], y_test.shape[1])\n",
        "\n",
        "  test_loss, test_accuracy = best_model.evaluate(X_test, y_test_reshaped, verbose = 0)\n",
        "\n",
        "  test_pred = test_pred.astype(int).reshape(-1)\n",
        "  y_test_flat = y_test.astype(int).reshape(-1)\n",
        "\n",
        "  fscore = f1_score(y_test_flat, test_pred, average='weighted')\n",
        "\n",
        "  print('Test Accuracy: ', float('%.3g' % test_accuracy)*100, '|| Test F-score: ', float('%.3g' % fscore), '\\n')\n",
        "\n",
        "  acc_list.append(test_accuracy)\n",
        "  fscore_list.append(fscore)\n",
        "\n",
        "  matrix = confusion_matrix(y_test_flat, test_pred, normalize='all')\n",
        "  matrix_image = ConfusionMatrixDisplay(confusion_matrix=matrix, display_labels=[0,1])\n",
        "  matrix_image.plot(cmap='Blues') \n",
        "\n",
        "print('\\nBaseline Classification BiLSTM Model -- \\nAverage Test Accuracy: ', float('%.3g' % np.mean(acc_list))*100, \n",
        "      ' ||  Average Test F-score: ', float('%.3g' % np.mean(fscore_list)))\n"
      ],
      "execution_count": null,
      "outputs": [
        {
          "output_type": "stream",
          "name": "stdout",
          "text": [
            "\n",
            "Training Number  0\n",
            "Test Accuracy:  55.900000000000006 || Test F-score:  0.521 \n",
            "\n",
            "\n",
            "Training Number  1\n",
            "Test Accuracy:  55.7 || Test F-score:  0.522 \n",
            "\n",
            "\n",
            "Training Number  2\n",
            "Test Accuracy:  53.6 || Test F-score:  0.502 \n",
            "\n",
            "\n",
            "Training Number  3\n",
            "Test Accuracy:  55.50000000000001 || Test F-score:  0.519 \n",
            "\n",
            "\n",
            "Training Number  4\n",
            "Test Accuracy:  53.6 || Test F-score:  0.499 \n",
            "\n",
            "\n",
            "Baseline Classification BiLSTM Model -- \n",
            "Average Test Accuracy:  54.900000000000006  ||  Average Test F-score:  0.513\n"
          ]
        },
        {
          "output_type": "display_data",
          "data": {
            "image/png": "[encoded data removed]",
            "text/plain": [
              "<Figure size 432x288 with 2 Axes>"
            ]
          },
          "metadata": {
            "needs_background": "light"
          }
        },
        {
          "output_type": "display_data",
          "data": {
            "image/png": "[encoded data removed]",
            "text/plain": [
              "<Figure size 432x288 with 2 Axes>"
            ]
          },
          "metadata": {
            "needs_background": "light"
          }
        },
        {
          "output_type": "display_data",
          "data": {
            "image/png": "[encoded data removed]",
            "text/plain": [
              "<Figure size 432x288 with 2 Axes>"
            ]
          },
          "metadata": {
            "needs_background": "light"
          }
        },
        {
          "output_type": "display_data",
          "data": {
            "image/png": "[encoded data removed]",
            "text/plain": [
              "<Figure size 432x288 with 2 Axes>"
            ]
          },
          "metadata": {
            "needs_background": "light"
          }
        },
        {
          "output_type": "display_data",
          "data": {
            "image/png": "[encoded data removed]",
            "text/plain": [
              "<Figure size 432x288 with 2 Axes>"
            ]
          },
          "metadata": {
            "needs_background": "light"
          }
        }
      ]
    },
    {
      "cell_type": "markdown",
      "metadata": {
        "id": "2YNjezaK6x3g"
      },
      "source": [
        "#**2. BTC input - Classification Model**"
      ]
    },
    {
      "cell_type": "markdown",
      "metadata": {
        "id": "h2n1jIK8P6kL"
      },
      "source": [
        "### Since I am going to be using BTC prices as the input for this model, I need to load the BTC dataset and carry out the same pre-processing steps as above on the BTC data."
      ]
    },
    {
      "cell_type": "markdown",
      "metadata": {
        "id": "HmRu2lXrWSeT"
      },
      "source": [
        "Load the dataset"
      ]
    },
    {
      "cell_type": "code",
      "metadata": {
        "colab": {
          "resources": {
            "http://localhost:8080/nbextensions/google.colab/files.js": {
              "data": "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",
              "ok": true,
              "headers": [
                [
                  "content-type",
                  "application/javascript"
                ]
              ],
              "status": 200,
              "status_text": ""
            }
          },
          "base_uri": "https://localhost:8080/",
          "height": 74
        },
        "id": "ydMS0E_YQE-6",
        "outputId": "62f96cda-22f3-48f3-b6d5-f7e09dc11885"
      },
      "source": [
        "from google.colab import files\n",
        "import io\n",
        "uploaded = files.upload()"
      ],
      "execution_count": null,
      "outputs": [
        {
          "output_type": "display_data",
          "data": {
            "text/html": [
              "\n",
              "     <input type=\"file\" id=\"files-e3cdbf9a-b1a3-43f1-bbc3-b5877cbef440\" name=\"files[]\" multiple disabled\n",
              "        style=\"border:none\" />\n",
              "     <output id=\"result-e3cdbf9a-b1a3-43f1-bbc3-b5877cbef440\">\n",
              "      Upload widget is only available when the cell has been executed in the\n",
              "      current browser session. Please rerun this cell to enable.\n",
              "      </output>\n",
              "      <script src=\"/nbextensions/google.colab/files.js\"></script> "
            ],
            "text/plain": [
              "<IPython.core.display.HTML object>"
            ]
          },
          "metadata": {}
        },
        {
          "output_type": "stream",
          "name": "stdout",
          "text": [
            "Saving btc_data.csv to btc_data.csv\n"
          ]
        }
      ]
    },
    {
      "cell_type": "code",
      "metadata": {
        "id": "BRr24rcTWWHG"
      },
      "source": [
        "btc_data = pd.read_csv(io.BytesIO(uploaded['btc_data.csv']), header=None)"
      ],
      "execution_count": null,
      "outputs": []
    },
    {
      "cell_type": "code",
      "metadata": {
        "id": "OCpYgaEhWjrc"
      },
      "source": [
        "btc_data.columns = ['Open Time', 'Open', 'High', 'Low', 'Close', 'Volume (ETH)', 'Close Time', 'Quote Asset Volume (USDT)', \n",
        "              'No. of trades', 'Buy Base Volume (ETH)', 'Buy Quote Volume (USDT)', 'Ignore']"
      ],
      "execution_count": null,
      "outputs": []
    },
    {
      "cell_type": "markdown",
      "metadata": {
        "id": "ZAar-9izWkvk"
      },
      "source": [
        "Preprocessing steps"
      ]
    },
    {
      "cell_type": "code",
      "metadata": {
        "id": "uh84--k0Wmj1"
      },
      "source": [
        "btc_data['Open Date'] = pd.to_datetime(btc_data['Open Time'], unit='ms')\n",
        "btc_data['Close Date'] = pd.to_datetime(btc_data['Close Time'], unit='ms')"
      ],
      "execution_count": null,
      "outputs": []
    },
    {
      "cell_type": "code",
      "metadata": {
        "id": "VrRWKx03WxW0"
      },
      "source": [
        "btc_data['Close Date'] = btc_data['Close Date'].dt.normalize()"
      ],
      "execution_count": null,
      "outputs": []
    },
    {
      "cell_type": "code",
      "metadata": {
        "id": "ikDpcuU1W06y"
      },
      "source": [
        "btc_data.drop(['Open Time', 'Close Time', 'Ignore', 'Volume (ETH)', 'No. of trades', 'Buy Base Volume (ETH)', 'Buy Quote Volume (USDT)', 'Open Date'], axis=1, inplace=True)"
      ],
      "execution_count": null,
      "outputs": []
    },
    {
      "cell_type": "code",
      "metadata": {
        "id": "ejBHOjjOXHwL"
      },
      "source": [
        "btc_data.rename(columns = {'Quote Asset Volume (USDT)':'Volume'}, inplace = True)"
      ],
      "execution_count": null,
      "outputs": []
    },
    {
      "cell_type": "code",
      "metadata": {
        "id": "LYNVEHP0XMj-",
        "colab": {
          "base_uri": "https://localhost:8080/",
          "height": 234
        },
        "outputId": "89711dc2-207a-44f3-dd05-9eda9eceb20f"
      },
      "source": [
        "btc_data.set_index('Close Date', inplace=True)\n",
        "btc_data.head()"
      ],
      "execution_count": null,
      "outputs": [
        {
          "output_type": "execute_result",
          "data": {
            "text/html": [
              "<div>\n",
              "<style scoped>\n",
              "    .dataframe tbody tr th:only-of-type {\n",
              "        vertical-align: middle;\n",
              "    }\n",
              "\n",
              "    .dataframe tbody tr th {\n",
              "        vertical-align: top;\n",
              "    }\n",
              "\n",
              "    .dataframe thead th {\n",
              "        text-align: right;\n",
              "    }\n",
              "</style>\n",
              "<table border=\"1\" class=\"dataframe\">\n",
              "  <thead>\n",
              "    <tr style=\"text-align: right;\">\n",
              "      <th></th>\n",
              "      <th>Open</th>\n",
              "      <th>High</th>\n",
              "      <th>Low</th>\n",
              "      <th>Close</th>\n",
              "      <th>Volume</th>\n",
              "    </tr>\n",
              "    <tr>\n",
              "      <th>Close Date</th>\n",
              "      <th></th>\n",
              "      <th></th>\n",
              "      <th></th>\n",
              "      <th></th>\n",
              "      <th></th>\n",
              "    </tr>\n",
              "  </thead>\n",
              "  <tbody>\n",
              "    <tr>\n",
              "      <th>2017-08-17</th>\n",
              "      <td>4261.48</td>\n",
              "      <td>4485.39</td>\n",
              "      <td>4200.74</td>\n",
              "      <td>4285.08</td>\n",
              "      <td>3.454770e+06</td>\n",
              "    </tr>\n",
              "    <tr>\n",
              "      <th>2017-08-18</th>\n",
              "      <td>4285.08</td>\n",
              "      <td>4371.52</td>\n",
              "      <td>3938.77</td>\n",
              "      <td>4108.37</td>\n",
              "      <td>5.086958e+06</td>\n",
              "    </tr>\n",
              "    <tr>\n",
              "      <th>2017-08-19</th>\n",
              "      <td>4108.37</td>\n",
              "      <td>4184.69</td>\n",
              "      <td>3850.00</td>\n",
              "      <td>4139.98</td>\n",
              "      <td>1.549484e+06</td>\n",
              "    </tr>\n",
              "    <tr>\n",
              "      <th>2017-08-20</th>\n",
              "      <td>4120.98</td>\n",
              "      <td>4211.08</td>\n",
              "      <td>4032.62</td>\n",
              "      <td>4086.29</td>\n",
              "      <td>1.930364e+06</td>\n",
              "    </tr>\n",
              "    <tr>\n",
              "      <th>2017-08-21</th>\n",
              "      <td>4069.13</td>\n",
              "      <td>4119.62</td>\n",
              "      <td>3911.79</td>\n",
              "      <td>4016.00</td>\n",
              "      <td>2.797232e+06</td>\n",
              "    </tr>\n",
              "  </tbody>\n",
              "</table>\n",
              "</div>"
            ],
            "text/plain": [
              "               Open     High      Low    Close        Volume\n",
              "Close Date                                                  \n",
              "2017-08-17  4261.48  4485.39  4200.74  4285.08  3.454770e+06\n",
              "2017-08-18  4285.08  4371.52  3938.77  4108.37  5.086958e+06\n",
              "2017-08-19  4108.37  4184.69  3850.00  4139.98  1.549484e+06\n",
              "2017-08-20  4120.98  4211.08  4032.62  4086.29  1.930364e+06\n",
              "2017-08-21  4069.13  4119.62  3911.79  4016.00  2.797232e+06"
            ]
          },
          "metadata": {},
          "execution_count": 60
        }
      ]
    },
    {
      "cell_type": "code",
      "metadata": {
        "id": "K784i_rqXNNm"
      },
      "source": [
        "columns = btc_data.columns.tolist()\n",
        "columns = columns[-1:] + columns[:-1]\n",
        "btc_data = btc_data[columns]"
      ],
      "execution_count": null,
      "outputs": []
    },
    {
      "cell_type": "code",
      "metadata": {
        "id": "adirqKq5XV67",
        "colab": {
          "base_uri": "https://localhost:8080/",
          "height": 234
        },
        "outputId": "4d54bbf2-a150-489d-ced0-c8fd54d96a09"
      },
      "source": [
        "btc_data.head()"
      ],
      "execution_count": null,
      "outputs": [
        {
          "output_type": "execute_result",
          "data": {
            "text/html": [
              "<div>\n",
              "<style scoped>\n",
              "    .dataframe tbody tr th:only-of-type {\n",
              "        vertical-align: middle;\n",
              "    }\n",
              "\n",
              "    .dataframe tbody tr th {\n",
              "        vertical-align: top;\n",
              "    }\n",
              "\n",
              "    .dataframe thead th {\n",
              "        text-align: right;\n",
              "    }\n",
              "</style>\n",
              "<table border=\"1\" class=\"dataframe\">\n",
              "  <thead>\n",
              "    <tr style=\"text-align: right;\">\n",
              "      <th></th>\n",
              "      <th>Volume</th>\n",
              "      <th>Open</th>\n",
              "      <th>High</th>\n",
              "      <th>Low</th>\n",
              "      <th>Close</th>\n",
              "    </tr>\n",
              "    <tr>\n",
              "      <th>Close Date</th>\n",
              "      <th></th>\n",
              "      <th></th>\n",
              "      <th></th>\n",
              "      <th></th>\n",
              "      <th></th>\n",
              "    </tr>\n",
              "  </thead>\n",
              "  <tbody>\n",
              "    <tr>\n",
              "      <th>2017-08-17</th>\n",
              "      <td>3.454770e+06</td>\n",
              "      <td>4261.48</td>\n",
              "      <td>4485.39</td>\n",
              "      <td>4200.74</td>\n",
              "      <td>4285.08</td>\n",
              "    </tr>\n",
              "    <tr>\n",
              "      <th>2017-08-18</th>\n",
              "      <td>5.086958e+06</td>\n",
              "      <td>4285.08</td>\n",
              "      <td>4371.52</td>\n",
              "      <td>3938.77</td>\n",
              "      <td>4108.37</td>\n",
              "    </tr>\n",
              "    <tr>\n",
              "      <th>2017-08-19</th>\n",
              "      <td>1.549484e+06</td>\n",
              "      <td>4108.37</td>\n",
              "      <td>4184.69</td>\n",
              "      <td>3850.00</td>\n",
              "      <td>4139.98</td>\n",
              "    </tr>\n",
              "    <tr>\n",
              "      <th>2017-08-20</th>\n",
              "      <td>1.930364e+06</td>\n",
              "      <td>4120.98</td>\n",
              "      <td>4211.08</td>\n",
              "      <td>4032.62</td>\n",
              "      <td>4086.29</td>\n",
              "    </tr>\n",
              "    <tr>\n",
              "      <th>2017-08-21</th>\n",
              "      <td>2.797232e+06</td>\n",
              "      <td>4069.13</td>\n",
              "      <td>4119.62</td>\n",
              "      <td>3911.79</td>\n",
              "      <td>4016.00</td>\n",
              "    </tr>\n",
              "  </tbody>\n",
              "</table>\n",
              "</div>"
            ],
            "text/plain": [
              "                  Volume     Open     High      Low    Close\n",
              "Close Date                                                  \n",
              "2017-08-17  3.454770e+06  4261.48  4485.39  4200.74  4285.08\n",
              "2017-08-18  5.086958e+06  4285.08  4371.52  3938.77  4108.37\n",
              "2017-08-19  1.549484e+06  4108.37  4184.69  3850.00  4139.98\n",
              "2017-08-20  1.930364e+06  4120.98  4211.08  4032.62  4086.29\n",
              "2017-08-21  2.797232e+06  4069.13  4119.62  3911.79  4016.00"
            ]
          },
          "metadata": {},
          "execution_count": 62
        }
      ]
    },
    {
      "cell_type": "code",
      "metadata": {
        "id": "8NOcukm9XWri",
        "colab": {
          "base_uri": "https://localhost:8080/"
        },
        "outputId": "3154f006-4f5b-4108-f4a4-927d92c2e25a"
      },
      "source": [
        "btc_data.info()"
      ],
      "execution_count": null,
      "outputs": [
        {
          "output_type": "stream",
          "name": "stdout",
          "text": [
            "<class 'pandas.core.frame.DataFrame'>\n",
            "DatetimeIndex: 1461 entries, 2017-08-17 to 2021-08-16\n",
            "Data columns (total 5 columns):\n",
            " #   Column  Non-Null Count  Dtype  \n",
            "---  ------  --------------  -----  \n",
            " 0   Volume  1461 non-null   float64\n",
            " 1   Open    1461 non-null   float64\n",
            " 2   High    1461 non-null   float64\n",
            " 3   Low     1461 non-null   float64\n",
            " 4   Close   1461 non-null   float64\n",
            "dtypes: float64(5)\n",
            "memory usage: 68.5 KB\n"
          ]
        }
      ]
    },
    {
      "cell_type": "markdown",
      "metadata": {
        "id": "2X8bJPNbcmz4"
      },
      "source": [
        "I need the BTC dataset to end on 28-6-2021 like the ETH dataset, so I will have to drop some rows."
      ]
    },
    {
      "cell_type": "code",
      "metadata": {
        "id": "qPVUyT17cv0Q"
      },
      "source": [
        "btc_data = pd.DataFrame(btc_data.iloc[0:1412,:])"
      ],
      "execution_count": null,
      "outputs": []
    },
    {
      "cell_type": "code",
      "metadata": {
        "id": "ZbDFkaigdEH2",
        "colab": {
          "base_uri": "https://localhost:8080/"
        },
        "outputId": "8ab4f6be-d0f1-4c69-dee4-4112cc39af40"
      },
      "source": [
        "btc_data.info()"
      ],
      "execution_count": null,
      "outputs": [
        {
          "output_type": "stream",
          "name": "stdout",
          "text": [
            "<class 'pandas.core.frame.DataFrame'>\n",
            "DatetimeIndex: 1412 entries, 2017-08-17 to 2021-06-28\n",
            "Data columns (total 5 columns):\n",
            " #   Column  Non-Null Count  Dtype  \n",
            "---  ------  --------------  -----  \n",
            " 0   Volume  1412 non-null   float64\n",
            " 1   Open    1412 non-null   float64\n",
            " 2   High    1412 non-null   float64\n",
            " 3   Low     1412 non-null   float64\n",
            " 4   Close   1412 non-null   float64\n",
            "dtypes: float64(5)\n",
            "memory usage: 66.2 KB\n"
          ]
        }
      ]
    },
    {
      "cell_type": "markdown",
      "metadata": {
        "id": "Nw0RIKqWwuaX"
      },
      "source": [
        " ## Create classes"
      ]
    },
    {
      "cell_type": "code",
      "metadata": {
        "id": "1gXSwXTSww2j"
      },
      "source": [
        "# create a column to indicate the price movement: 1 means the price has increased compared to the previous day, 0 means the price has decreased\n",
        "\n",
        "btc_movement = []\n",
        "\n",
        "for i in range(len(btc_data)-1):\n",
        "\n",
        "  if btc_data['Close'][i+1] < btc_data['Close'][i]:\n",
        "    btc_movement.append(0)\n",
        "  \n",
        "  else:\n",
        "    btc_movement.append(1)"
      ],
      "execution_count": null,
      "outputs": []
    },
    {
      "cell_type": "code",
      "metadata": {
        "colab": {
          "base_uri": "https://localhost:8080/",
          "height": 234
        },
        "id": "iT93VOBTxBor",
        "outputId": "eef9ab25-dbaf-4060-fc4c-ff93b1539b6f"
      },
      "source": [
        "# datapoint 0 in the dataset (2017-08-17) will be dropped because there is no price information prior to this day so it can not be put into a class.\n",
        "btc_data.drop(btc_data.index[0], inplace=True)\n",
        "btc_data.head()"
      ],
      "execution_count": null,
      "outputs": [
        {
          "output_type": "execute_result",
          "data": {
            "text/html": [
              "<div>\n",
              "<style scoped>\n",
              "    .dataframe tbody tr th:only-of-type {\n",
              "        vertical-align: middle;\n",
              "    }\n",
              "\n",
              "    .dataframe tbody tr th {\n",
              "        vertical-align: top;\n",
              "    }\n",
              "\n",
              "    .dataframe thead th {\n",
              "        text-align: right;\n",
              "    }\n",
              "</style>\n",
              "<table border=\"1\" class=\"dataframe\">\n",
              "  <thead>\n",
              "    <tr style=\"text-align: right;\">\n",
              "      <th></th>\n",
              "      <th>Volume</th>\n",
              "      <th>Open</th>\n",
              "      <th>High</th>\n",
              "      <th>Low</th>\n",
              "      <th>Close</th>\n",
              "    </tr>\n",
              "    <tr>\n",
              "      <th>Close Date</th>\n",
              "      <th></th>\n",
              "      <th></th>\n",
              "      <th></th>\n",
              "      <th></th>\n",
              "      <th></th>\n",
              "    </tr>\n",
              "  </thead>\n",
              "  <tbody>\n",
              "    <tr>\n",
              "      <th>2017-08-18</th>\n",
              "      <td>5.086958e+06</td>\n",
              "      <td>4285.08</td>\n",
              "      <td>4371.52</td>\n",
              "      <td>3938.77</td>\n",
              "      <td>4108.37</td>\n",
              "    </tr>\n",
              "    <tr>\n",
              "      <th>2017-08-19</th>\n",
              "      <td>1.549484e+06</td>\n",
              "      <td>4108.37</td>\n",
              "      <td>4184.69</td>\n",
              "      <td>3850.00</td>\n",
              "      <td>4139.98</td>\n",
              "    </tr>\n",
              "    <tr>\n",
              "      <th>2017-08-20</th>\n",
              "      <td>1.930364e+06</td>\n",
              "      <td>4120.98</td>\n",
              "      <td>4211.08</td>\n",
              "      <td>4032.62</td>\n",
              "      <td>4086.29</td>\n",
              "    </tr>\n",
              "    <tr>\n",
              "      <th>2017-08-21</th>\n",
              "      <td>2.797232e+06</td>\n",
              "      <td>4069.13</td>\n",
              "      <td>4119.62</td>\n",
              "      <td>3911.79</td>\n",
              "      <td>4016.00</td>\n",
              "    </tr>\n",
              "    <tr>\n",
              "      <th>2017-08-22</th>\n",
              "      <td>3.752506e+06</td>\n",
              "      <td>4016.00</td>\n",
              "      <td>4104.82</td>\n",
              "      <td>3400.00</td>\n",
              "      <td>4040.00</td>\n",
              "    </tr>\n",
              "  </tbody>\n",
              "</table>\n",
              "</div>"
            ],
            "text/plain": [
              "                  Volume     Open     High      Low    Close\n",
              "Close Date                                                  \n",
              "2017-08-18  5.086958e+06  4285.08  4371.52  3938.77  4108.37\n",
              "2017-08-19  1.549484e+06  4108.37  4184.69  3850.00  4139.98\n",
              "2017-08-20  1.930364e+06  4120.98  4211.08  4032.62  4086.29\n",
              "2017-08-21  2.797232e+06  4069.13  4119.62  3911.79  4016.00\n",
              "2017-08-22  3.752506e+06  4016.00  4104.82  3400.00  4040.00"
            ]
          },
          "metadata": {},
          "execution_count": 71
        }
      ]
    },
    {
      "cell_type": "code",
      "metadata": {
        "id": "EK9721S3xHjh"
      },
      "source": [
        "btc_data['Price Movement'] = np.array(btc_movement) "
      ],
      "execution_count": null,
      "outputs": []
    },
    {
      "cell_type": "code",
      "metadata": {
        "colab": {
          "base_uri": "https://localhost:8080/",
          "height": 447
        },
        "id": "8PLfSpmrxISF",
        "outputId": "500a253c-942c-45cf-ff91-a75b2cf837f5"
      },
      "source": [
        "btc_data"
      ],
      "execution_count": null,
      "outputs": [
        {
          "output_type": "execute_result",
          "data": {
            "text/html": [
              "<div>\n",
              "<style scoped>\n",
              "    .dataframe tbody tr th:only-of-type {\n",
              "        vertical-align: middle;\n",
              "    }\n",
              "\n",
              "    .dataframe tbody tr th {\n",
              "        vertical-align: top;\n",
              "    }\n",
              "\n",
              "    .dataframe thead th {\n",
              "        text-align: right;\n",
              "    }\n",
              "</style>\n",
              "<table border=\"1\" class=\"dataframe\">\n",
              "  <thead>\n",
              "    <tr style=\"text-align: right;\">\n",
              "      <th></th>\n",
              "      <th>Volume</th>\n",
              "      <th>Open</th>\n",
              "      <th>High</th>\n",
              "      <th>Low</th>\n",
              "      <th>Close</th>\n",
              "      <th>Price Movement</th>\n",
              "    </tr>\n",
              "    <tr>\n",
              "      <th>Close Date</th>\n",
              "      <th></th>\n",
              "      <th></th>\n",
              "      <th></th>\n",
              "      <th></th>\n",
              "      <th></th>\n",
              "      <th></th>\n",
              "    </tr>\n",
              "  </thead>\n",
              "  <tbody>\n",
              "    <tr>\n",
              "      <th>2017-08-18</th>\n",
              "      <td>5.086958e+06</td>\n",
              "      <td>4285.08</td>\n",
              "      <td>4371.52</td>\n",
              "      <td>3938.77</td>\n",
              "      <td>4108.37</td>\n",
              "      <td>0</td>\n",
              "    </tr>\n",
              "    <tr>\n",
              "      <th>2017-08-19</th>\n",
              "      <td>1.549484e+06</td>\n",
              "      <td>4108.37</td>\n",
              "      <td>4184.69</td>\n",
              "      <td>3850.00</td>\n",
              "      <td>4139.98</td>\n",
              "      <td>1</td>\n",
              "    </tr>\n",
              "    <tr>\n",
              "      <th>2017-08-20</th>\n",
              "      <td>1.930364e+06</td>\n",
              "      <td>4120.98</td>\n",
              "      <td>4211.08</td>\n",
              "      <td>4032.62</td>\n",
              "      <td>4086.29</td>\n",
              "      <td>0</td>\n",
              "    </tr>\n",
              "    <tr>\n",
              "      <th>2017-08-21</th>\n",
              "      <td>2.797232e+06</td>\n",
              "      <td>4069.13</td>\n",
              "      <td>4119.62</td>\n",
              "      <td>3911.79</td>\n",
              "      <td>4016.00</td>\n",
              "      <td>0</td>\n",
              "    </tr>\n",
              "    <tr>\n",
              "      <th>2017-08-22</th>\n",
              "      <td>3.752506e+06</td>\n",
              "      <td>4016.00</td>\n",
              "      <td>4104.82</td>\n",
              "      <td>3400.00</td>\n",
              "      <td>4040.00</td>\n",
              "      <td>1</td>\n",
              "    </tr>\n",
              "    <tr>\n",
              "      <th>...</th>\n",
              "      <td>...</td>\n",
              "      <td>...</td>\n",
              "      <td>...</td>\n",
              "      <td>...</td>\n",
              "      <td>...</td>\n",
              "      <td>...</td>\n",
              "    </tr>\n",
              "    <tr>\n",
              "      <th>2021-06-24</th>\n",
              "      <td>2.925373e+09</td>\n",
              "      <td>33675.07</td>\n",
              "      <td>35298.00</td>\n",
              "      <td>32286.57</td>\n",
              "      <td>34663.09</td>\n",
              "      <td>1</td>\n",
              "    </tr>\n",
              "    <tr>\n",
              "      <th>2021-06-25</th>\n",
              "      <td>3.846121e+09</td>\n",
              "      <td>34663.08</td>\n",
              "      <td>35500.00</td>\n",
              "      <td>31275.00</td>\n",
              "      <td>31584.45</td>\n",
              "      <td>0</td>\n",
              "    </tr>\n",
              "    <tr>\n",
              "      <th>2021-06-26</th>\n",
              "      <td>3.376415e+09</td>\n",
              "      <td>31576.09</td>\n",
              "      <td>32730.00</td>\n",
              "      <td>30151.00</td>\n",
              "      <td>32283.65</td>\n",
              "      <td>1</td>\n",
              "    </tr>\n",
              "    <tr>\n",
              "      <th>2021-06-27</th>\n",
              "      <td>3.199980e+09</td>\n",
              "      <td>32283.65</td>\n",
              "      <td>34749.00</td>\n",
              "      <td>31973.45</td>\n",
              "      <td>34700.34</td>\n",
              "      <td>1</td>\n",
              "    </tr>\n",
              "    <tr>\n",
              "      <th>2021-06-28</th>\n",
              "      <td>2.837123e+09</td>\n",
              "      <td>34702.49</td>\n",
              "      <td>35297.71</td>\n",
              "      <td>33862.72</td>\n",
              "      <td>34494.89</td>\n",
              "      <td>0</td>\n",
              "    </tr>\n",
              "  </tbody>\n",
              "</table>\n",
              "<p>1411 rows × 6 columns</p>\n",
              "</div>"
            ],
            "text/plain": [
              "                  Volume      Open  ...     Close  Price Movement\n",
              "Close Date                          ...                          \n",
              "2017-08-18  5.086958e+06   4285.08  ...   4108.37               0\n",
              "2017-08-19  1.549484e+06   4108.37  ...   4139.98               1\n",
              "2017-08-20  1.930364e+06   4120.98  ...   4086.29               0\n",
              "2017-08-21  2.797232e+06   4069.13  ...   4016.00               0\n",
              "2017-08-22  3.752506e+06   4016.00  ...   4040.00               1\n",
              "...                  ...       ...  ...       ...             ...\n",
              "2021-06-24  2.925373e+09  33675.07  ...  34663.09               1\n",
              "2021-06-25  3.846121e+09  34663.08  ...  31584.45               0\n",
              "2021-06-26  3.376415e+09  31576.09  ...  32283.65               1\n",
              "2021-06-27  3.199980e+09  32283.65  ...  34700.34               1\n",
              "2021-06-28  2.837123e+09  34702.49  ...  34494.89               0\n",
              "\n",
              "[1411 rows x 6 columns]"
            ]
          },
          "metadata": {},
          "execution_count": 73
        }
      ]
    },
    {
      "cell_type": "code",
      "metadata": {
        "colab": {
          "base_uri": "https://localhost:8080/"
        },
        "id": "lA_yytV4xNz-",
        "outputId": "c6040d61-546d-447a-f112-70acf75804ee"
      },
      "source": [
        "btc_data.info()"
      ],
      "execution_count": null,
      "outputs": [
        {
          "output_type": "stream",
          "name": "stdout",
          "text": [
            "<class 'pandas.core.frame.DataFrame'>\n",
            "DatetimeIndex: 1411 entries, 2017-08-18 to 2021-06-28\n",
            "Data columns (total 6 columns):\n",
            " #   Column          Non-Null Count  Dtype  \n",
            "---  ------          --------------  -----  \n",
            " 0   Volume          1411 non-null   float64\n",
            " 1   Open            1411 non-null   float64\n",
            " 2   High            1411 non-null   float64\n",
            " 3   Low             1411 non-null   float64\n",
            " 4   Close           1411 non-null   float64\n",
            " 5   Price Movement  1411 non-null   int64  \n",
            "dtypes: float64(5), int64(1)\n",
            "memory usage: 77.2 KB\n"
          ]
        }
      ]
    },
    {
      "cell_type": "markdown",
      "metadata": {
        "id": "0hxHXL8jYtcs"
      },
      "source": [
        "Split the data into the same sized sets as the ETH data"
      ]
    },
    {
      "cell_type": "code",
      "metadata": {
        "id": "Y5q-ts5HYsqW"
      },
      "source": [
        "btc_split = int(len(btc_data)*0.6145)\n",
        "btc_training_set = btc_data[:btc_split]      \n",
        "\n",
        "btc_subset = btc_data[btc_split:]\n",
        "btc_split2 = int(len(btc_subset)*0.3303)\n",
        "\n",
        "btc_val_set = btc_subset[:btc_split2]      \n",
        "btc_test_set = btc_subset[btc_split2:]     \n"
      ],
      "execution_count": null,
      "outputs": []
    },
    {
      "cell_type": "code",
      "metadata": {
        "id": "un61_iWaZHh4",
        "colab": {
          "base_uri": "https://localhost:8080/"
        },
        "outputId": "9aa7c6f4-fec9-442c-cdcd-08498c1fea6f"
      },
      "source": [
        "print('BTC Training: ', btc_training_set.shape, '\\nBTC Validation: ', btc_val_set.shape, '\\nBTC Test: ', btc_test_set.shape)"
      ],
      "execution_count": null,
      "outputs": [
        {
          "output_type": "stream",
          "name": "stdout",
          "text": [
            "BTC Training:  (867, 6) \n",
            "BTC Validation:  (179, 6) \n",
            "BTC Test:  (365, 6)\n"
          ]
        }
      ]
    },
    {
      "cell_type": "code",
      "metadata": {
        "id": "U3-j3XfdZNbO",
        "colab": {
          "base_uri": "https://localhost:8080/"
        },
        "outputId": "2510c3be-9f61-4c4b-d258-b8bc63f47c20"
      },
      "source": [
        "btc_X_training = (btc_training_set.iloc[:, :-1]).values.reshape(btc_training_set.shape[0],btc_training_set.shape[1]-1)\n",
        "btc_y_training = (btc_training_set.iloc[:, -1]).values.reshape(btc_training_set.shape[0],1)\n",
        "\n",
        "print(btc_X_training.shape, btc_y_training.shape)\n",
        "\n",
        "btc_X_valid = (btc_val_set.iloc[:, :-1]).values.reshape(btc_val_set.shape[0],btc_val_set.shape[1]-1)\n",
        "btc_y_valid = (btc_val_set.iloc[:, -1]).values.reshape(btc_val_set.shape[0],1)\n",
        "\n",
        "print(btc_X_valid.shape, btc_y_valid.shape)\n",
        "\n",
        "btc_X_testing = (btc_test_set.iloc[:, :-1]).values.reshape(btc_test_set.shape[0],btc_test_set.shape[1]-1)\n",
        "btc_y_testing = (btc_test_set.iloc[:, -1]).values.reshape(btc_test_set.shape[0],1)\n",
        "\n",
        "print(btc_X_testing.shape, btc_y_testing.shape)"
      ],
      "execution_count": null,
      "outputs": [
        {
          "output_type": "stream",
          "name": "stdout",
          "text": [
            "(867, 5) (867, 1)\n",
            "(179, 5) (179, 1)\n",
            "(365, 5) (365, 1)\n"
          ]
        }
      ]
    },
    {
      "cell_type": "markdown",
      "metadata": {
        "id": "E6OJYyBK733S"
      },
      "source": [
        "I will check for class imbalance again"
      ]
    },
    {
      "cell_type": "code",
      "metadata": {
        "id": "fIy7K0-O78Ln",
        "colab": {
          "base_uri": "https://localhost:8080/"
        },
        "outputId": "2b6740fc-af41-4982-82db-1b366a7d9a05"
      },
      "source": [
        "print('BTC TRAINING SET\\n', 'Count:\\n', btc_training_set['Price Movement'].value_counts(), '\\n\\nRelative Frequencies:\\n',btc_training_set['Price Movement'].value_counts(normalize=True))\n",
        "print('\\nVALIDATION SET\\n', 'Count:\\n', btc_val_set['Price Movement'].value_counts(), '\\n\\nRelative Frequencies:\\n',btc_val_set['Price Movement'].value_counts(normalize=True))\n",
        "print('\\nTESTING SET\\n', 'Count:\\n', btc_test_set['Price Movement'].value_counts(), '\\n\\nRelative Frequencies:\\n',btc_test_set['Price Movement'].value_counts(normalize=True))\n"
      ],
      "execution_count": null,
      "outputs": [
        {
          "output_type": "stream",
          "name": "stdout",
          "text": [
            "BTC TRAINING SET\n",
            " Count:\n",
            " 1    450\n",
            "0    417\n",
            "Name: Price Movement, dtype: int64 \n",
            "\n",
            "Relative Frequencies:\n",
            " 1    0.519031\n",
            "0    0.480969\n",
            "Name: Price Movement, dtype: float64\n",
            "\n",
            "VALIDATION SET\n",
            " Count:\n",
            " 1    98\n",
            "0    81\n",
            "Name: Price Movement, dtype: int64 \n",
            "\n",
            "Relative Frequencies:\n",
            " 1    0.547486\n",
            "0    0.452514\n",
            "Name: Price Movement, dtype: float64\n",
            "\n",
            "TESTING SET\n",
            " Count:\n",
            " 1    201\n",
            "0    164\n",
            "Name: Price Movement, dtype: int64 \n",
            "\n",
            "Relative Frequencies:\n",
            " 1    0.550685\n",
            "0    0.449315\n",
            "Name: Price Movement, dtype: float64\n"
          ]
        }
      ]
    },
    {
      "cell_type": "code",
      "metadata": {
        "id": "2icfAWUn78Ln"
      },
      "source": [
        "btc_class_labels = pd.unique(btc_data['Price Movement'])"
      ],
      "execution_count": null,
      "outputs": []
    },
    {
      "cell_type": "code",
      "metadata": {
        "id": "UMLBrga578Ln",
        "colab": {
          "base_uri": "https://localhost:8080/",
          "height": 1000
        },
        "outputId": "22dcb8ad-4603-4d5b-e291-c324feed71d5"
      },
      "source": [
        "plt.figure(figsize = (10, 5))\n",
        "sns.barplot(x = ['Down', 'Up'], y= btc_training_set['Price Movement'].value_counts(), palette='Set1')\n",
        "plt.title('Distribution of Classes - BTC Training Dataset')\n",
        "plt.xlabel(\"Price Movement\")\n",
        "plt.ylabel(\"Count\")\n",
        "plt.show()\n",
        "\n",
        "plt.figure(figsize = (10, 5))\n",
        "sns.barplot(x = ['Down', 'Up'], y= btc_val_set['Price Movement'].value_counts(), palette='Set1')\n",
        "plt.title('Distribution of Classes - BTC Validation Dataset')\n",
        "plt.xlabel(\"Price Movement\")\n",
        "plt.ylabel(\"Count\")\n",
        "plt.show()\n",
        "\n",
        "plt.figure(figsize = (10, 5))\n",
        "sns.barplot(x = ['Down', 'Up'], y= btc_test_set['Price Movement'].value_counts(), palette='Set1')\n",
        "plt.title('Distribution of Classes - BTC Testing Dataset', fontsize=14)\n",
        "plt.xlabel(\"Price Movement\", fontsize=12)\n",
        "plt.ylabel(\"Count\", fontsize=12)\n",
        "plt.show()"
      ],
      "execution_count": null,
      "outputs": [
        {
          "output_type": "display_data",
          "data": {
            "image/png": "[encoded data removed]",
            "text/plain": [
              "<Figure size 720x360 with 1 Axes>"
            ]
          },
          "metadata": {
            "needs_background": "light"
          }
        },
        {
          "output_type": "display_data",
          "data": {
            "image/png": "[encoded data removed]",
            "text/plain": [
              "<Figure size 720x360 with 1 Axes>"
            ]
          },
          "metadata": {
            "needs_background": "light"
          }
        },
        {
          "output_type": "display_data",
          "data": {
            "image/png": "[encoded data removed]",
            "text/plain": [
              "<Figure size 720x360 with 1 Axes>"
            ]
          },
          "metadata": {
            "needs_background": "light"
          }
        }
      ]
    },
    {
      "cell_type": "markdown",
      "metadata": {
        "id": "gRUjI-EaZq73"
      },
      "source": [
        "Normalisation"
      ]
    },
    {
      "cell_type": "code",
      "metadata": {
        "id": "_En8vhEnZs4I"
      },
      "source": [
        "btc_Xscaler = MinMaxScaler(feature_range=(0,1))\n",
        "btc_yscaler = MinMaxScaler(feature_range=(0,1))\n",
        "\n",
        "btc_X_train = btc_Xscaler.fit_transform(btc_X_training)\n",
        "btc_y_train = btc_yscaler.fit_transform(btc_y_training)\n",
        "\n",
        "btc_X_val = btc_Xscaler.fit_transform(btc_X_valid)\n",
        "btc_y_val = btc_yscaler.fit_transform(btc_y_valid)\n",
        "\n",
        "btc_X_test = btc_Xscaler.fit_transform(btc_X_testing)\n",
        "btc_y_test = btc_yscaler.fit_transform(btc_y_testing)"
      ],
      "execution_count": null,
      "outputs": []
    },
    {
      "cell_type": "markdown",
      "metadata": {
        "id": "ylGJLUrzaAv0"
      },
      "source": [
        "Preparing the sequences for multistep LSTM"
      ]
    },
    {
      "cell_type": "code",
      "metadata": {
        "id": "3ozBDlOGaEdL",
        "colab": {
          "base_uri": "https://localhost:8080/"
        },
        "outputId": "1c2e967c-5738-4f7e-9c3f-9b569b4cd84d"
      },
      "source": [
        "# stack the data horizontally\n",
        "\n",
        "btc_train_stacked = np.hstack((btc_X_train, btc_y_train))\n",
        "print (\"Stacked BTC Training Data Shape: \" , btc_train_stacked.shape)\n",
        "\n",
        "btc_val_stacked = np.hstack((btc_X_valid, btc_y_valid))\n",
        "print (\"Stacked BTC Validation Data Shape: \" , btc_val_stacked.shape)\n",
        "\n",
        "btc_test_stacked = np.hstack((btc_X_test, btc_y_test))\n",
        "print (\"Stacked BTC Test Data Shape: \" , btc_test_stacked.shape)"
      ],
      "execution_count": null,
      "outputs": [
        {
          "output_type": "stream",
          "name": "stdout",
          "text": [
            "Stacked BTC Training Data Shape:  (867, 6)\n",
            "Stacked BTC Validation Data Shape:  (179, 6)\n",
            "Stacked BTC Test Data Shape:  (365, 6)\n"
          ]
        }
      ]
    },
    {
      "cell_type": "code",
      "metadata": {
        "id": "1kazZ4wXaWX2",
        "colab": {
          "base_uri": "https://localhost:8080/"
        },
        "outputId": "51376901-8771-4071-dc08-0d91282ca977"
      },
      "source": [
        "# choose a number of time steps \n",
        "#n_steps_in, n_steps_out = 14, 14    # same timesteps as ETH\n",
        "\n",
        "# run function\n",
        "btc_X_train, btc_y_train = create_sequences(btc_train_stacked, n_steps_in, n_steps_out)\n",
        "print (\"BTC X train sequences: \" , btc_X_train.shape, \"BTC y train sequences\" , btc_y_train.shape)      \n",
        "\n",
        "btc_X_val, btc_y_val = create_sequences(btc_val_stacked, n_steps_in, n_steps_out)\n",
        "print (\"BTC X val sequences: \" , btc_X_val.shape, \"BTC y val sequences\" , btc_y_val.shape) \n",
        "\n",
        "btc_X_test, btc_y_test = create_sequences(btc_test_stacked, n_steps_in, n_steps_out)\n",
        "print (\"BTC X test sequences: \" , btc_X_test.shape, \"BTC y test sequences\" , btc_y_test.shape)    "
      ],
      "execution_count": null,
      "outputs": [
        {
          "output_type": "stream",
          "name": "stdout",
          "text": [
            "BTC X train sequences:  (841, 14, 5) BTC y train sequences (841, 14)\n",
            "BTC X val sequences:  (153, 14, 5) BTC y val sequences (153, 14)\n",
            "BTC X test sequences:  (339, 14, 5) BTC y test sequences (339, 14)\n"
          ]
        }
      ]
    },
    {
      "cell_type": "markdown",
      "metadata": {
        "id": "9xUaYoyJ1JU4"
      },
      "source": [
        "#### I will create a Bidirectional LSTM Classification Model with the same optimal parameters and architecture selected from hypertuning. This model will be trained on BTC only."
      ]
    },
    {
      "cell_type": "code",
      "metadata": {
        "id": "Qm6Yb6c71cYh"
      },
      "source": [
        "btc_n_features = btc_X_train.shape[2]\n",
        "\n",
        "btc_model = Sequential()\n",
        "btc_model.add(Bidirectional(LSTM(units=90, activation='relu', return_sequences=True), input_shape=(n_steps_in, btc_n_features), merge_mode='ave'))\n",
        "btc_model.add(Bidirectional(LSTM(units=90, activation='relu', return_sequences=True), merge_mode='ave'))\n",
        "btc_model.add(Dropout(0.3))\n",
        "btc_model.add(Bidirectional(LSTM(units=90, activation='relu', return_sequences=True), merge_mode='ave'))\n",
        "btc_model.add(Dropout(0.3))\n",
        "btc_model.add(Bidirectional(LSTM(units=90, activation='relu', return_sequences=True), merge_mode='ave'))\n",
        "btc_model.add(Dropout(0.3))\n",
        "btc_model.add(TimeDistributed(Dense(1, activation='sigmoid')))\n",
        "btc_model.compile(loss='binary_crossentropy' , optimizer=keras.optimizers.Adam(learning_rate= 0.00001) , metrics=['accuracy'])"
      ],
      "execution_count": null,
      "outputs": []
    },
    {
      "cell_type": "code",
      "metadata": {
        "colab": {
          "base_uri": "https://localhost:8080/"
        },
        "id": "UJlJE9_x3MDo",
        "outputId": "6d5ecbab-8e1d-44c3-a6c5-012baa2969e8"
      },
      "source": [
        "btc_model.summary()"
      ],
      "execution_count": null,
      "outputs": [
        {
          "output_type": "stream",
          "name": "stdout",
          "text": [
            "Model: \"sequential_1\"\n",
            "_________________________________________________________________\n",
            "Layer (type)                 Output Shape              Param #   \n",
            "=================================================================\n",
            "bidirectional_4 (Bidirection (None, 14, 90)            69120     \n",
            "_________________________________________________________________\n",
            "bidirectional_5 (Bidirection (None, 14, 90)            130320    \n",
            "_________________________________________________________________\n",
            "dropout_3 (Dropout)          (None, 14, 90)            0         \n",
            "_________________________________________________________________\n",
            "bidirectional_6 (Bidirection (None, 14, 90)            130320    \n",
            "_________________________________________________________________\n",
            "dropout_4 (Dropout)          (None, 14, 90)            0         \n",
            "_________________________________________________________________\n",
            "bidirectional_7 (Bidirection (None, 14, 90)            130320    \n",
            "_________________________________________________________________\n",
            "dropout_5 (Dropout)          (None, 14, 90)            0         \n",
            "_________________________________________________________________\n",
            "time_distributed_1 (TimeDist (None, 14, 1)             91        \n",
            "=================================================================\n",
            "Total params: 460,171\n",
            "Trainable params: 460,171\n",
            "Non-trainable params: 0\n",
            "_________________________________________________________________\n"
          ]
        }
      ]
    },
    {
      "cell_type": "markdown",
      "metadata": {
        "id": "nibWgI1l8gvA"
      },
      "source": [
        "#### Train and test the model 5 times to get a list of scores to use for statistical comparison."
      ]
    },
    {
      "cell_type": "code",
      "metadata": {
        "id": "22K-449L8gvA",
        "colab": {
          "base_uri": "https://localhost:8080/",
          "height": 1000
        },
        "outputId": "ffd70d98-ce8e-4a52-f376-6176864484d6"
      },
      "source": [
        "btc_acc_list = []\n",
        "btc_fscore_list = []\n",
        "\n",
        "for i in range(5):\n",
        "\n",
        "  # fit model\n",
        "  print('\\nTraining Number ', i)\n",
        "  btc_model.fit(btc_X_train , btc_y_train , epochs=100 , verbose=0 , validation_data=(btc_X_val, btc_y_val) ,shuffle=False)\n",
        "\n",
        "  # predict\n",
        "\n",
        "  btc_test_pred = btc_model.predict(X_test)\n",
        "\n",
        "  # generate the metric scores\n",
        "\n",
        "  y_test_reshaped = y_test.reshape(y_test.shape[0], y_test.shape[1])\n",
        "\n",
        "  btc_test_loss, btc_test_accuracy = btc_model.evaluate(X_test, y_test_reshaped, verbose = 0)\n",
        "\n",
        "  btc_test_pred = btc_test_pred.astype(int).reshape(-1)\n",
        "  y_test_flat = y_test.astype(int).reshape(-1)\n",
        "\n",
        "  btc_fscore = f1_score(y_test_flat, btc_test_pred, average='weighted')\n",
        "\n",
        "  print('BTC Input Test Accuracy: ', float('%.3g' % btc_test_accuracy)*100, '|| BTC Input Test F-score: ', float('%.3g' % btc_fscore), '\\n')\n",
        "\n",
        "  btc_acc_list.append(btc_test_accuracy)\n",
        "  btc_fscore_list.append(btc_fscore)\n",
        "\n",
        "  btc_matrix = confusion_matrix(y_test_flat, btc_test_pred, normalize='all')\n",
        "  btc_matrix_image = ConfusionMatrixDisplay(confusion_matrix=btc_matrix, display_labels=[0,1])\n",
        "  btc_matrix_image.plot(cmap='Blues') \n",
        "\n",
        "print('\\nBTC Input - Classification BiLSTM Model -- \\nAverage Test Accuracy: ', float('%.3g' % np.mean(btc_acc_list))*100, \n",
        "      ' ||  Average Test F-score: ', float('%.3g' % np.mean(btc_fscore_list)))"
      ],
      "execution_count": null,
      "outputs": [
        {
          "output_type": "stream",
          "name": "stdout",
          "text": [
            "\n",
            "Training Number  0\n",
            "BTC Input Test Accuracy:  46.6 || BTC Input Test F-score:  0.449 \n",
            "\n",
            "\n",
            "Training Number  1\n",
            "BTC Input Test Accuracy:  46.400000000000006 || BTC Input Test F-score:  0.451 \n",
            "\n",
            "\n",
            "Training Number  2\n",
            "BTC Input Test Accuracy:  53.400000000000006 || BTC Input Test F-score:  0.512 \n",
            "\n",
            "\n",
            "Training Number  3\n",
            "BTC Input Test Accuracy:  58.4 || BTC Input Test F-score:  0.471 \n",
            "\n",
            "\n",
            "Training Number  4\n",
            "BTC Input Test Accuracy:  58.8 || BTC Input Test F-score:  0.447 \n",
            "\n",
            "\n",
            "BTC Input - Classification BiLSTM Model -- \n",
            "Average Test Accuracy:  52.7  ||  Average Test F-score:  0.466\n"
          ]
        },
        {
          "output_type": "display_data",
          "data": {
            "image/png": "[encoded data removed]",
            "text/plain": [
              "<Figure size 432x288 with 2 Axes>"
            ]
          },
          "metadata": {
            "needs_background": "light"
          }
        },
        {
          "output_type": "display_data",
          "data": {
            "image/png": "[encoded data removed]",
            "text/plain": [
              "<Figure size 432x288 with 2 Axes>"
            ]
          },
          "metadata": {
            "needs_background": "light"
          }
        },
        {
          "output_type": "display_data",
          "data": {
            "image/png": "[encoded data removed]",
            "text/plain": [
              "<Figure size 432x288 with 2 Axes>"
            ]
          },
          "metadata": {
            "needs_background": "light"
          }
        },
        {
          "output_type": "display_data",
          "data": {
            "image/png": "[encoded data removed]",
            "text/plain": [
              "<Figure size 432x288 with 2 Axes>"
            ]
          },
          "metadata": {
            "needs_background": "light"
          }
        },
        {
          "output_type": "display_data",
          "data": {
            "image/png": "[encoded data removed]",
            "text/plain": [
              "<Figure size 432x288 with 2 Axes>"
            ]
          },
          "metadata": {
            "needs_background": "light"
          }
        }
      ]
    },
    {
      "cell_type": "markdown",
      "metadata": {
        "id": "J3EhngWz-CEt"
      },
      "source": [
        "#**3. LTC Input - Classification Model**"
      ]
    },
    {
      "cell_type": "markdown",
      "metadata": {
        "id": "t4w7JpuQx1Nl"
      },
      "source": [
        "Load the dataset"
      ]
    },
    {
      "cell_type": "code",
      "metadata": {
        "colab": {
          "resources": {
            "http://localhost:8080/nbextensions/google.colab/files.js": {
              "data": "Ly8gQ29weXJpZ2h0IDIwMTcgR29vZ2xlIExMQwovLwovLyBMaWNlbnNlZCB1bmRlciB0aGUgQXBhY2hlIExpY2Vuc2UsIFZlcnNpb24gMi4wICh0aGUgIkxpY2Vuc2UiKTsKLy8geW91IG1heSBub3QgdXNlIHRoaXMgZmlsZSBleGNlcHQgaW4gY29tcGxpYW5jZSB3aXRoIHRoZSBMaWNlbnNlLgovLyBZb3UgbWF5IG9idGFpbiBhIGNvcHkgb2YgdGhlIExpY2Vuc2UgYXQKLy8KLy8gICAgICBodHRwOi8vd3d3LmFwYWNoZS5vcmcvbGljZW5zZXMvTElDRU5TRS0yLjAKLy8KLy8gVW5sZXNzIHJlcXVpcmVkIGJ5IGFwcGxpY2FibGUgbGF3IG9yIGFncmVlZCB0byBpbiB3cml0aW5nLCBzb2Z0d2FyZQovLyBkaXN0cmlidXRlZCB1bmRlciB0aGUgTGljZW5zZSBpcyBkaXN0cmlidXRlZCBvbiBhbiAiQVMgSVMiIEJBU0lTLAovLyBXSVRIT1VUIFdBUlJBTlRJRVMgT1IgQ09ORElUSU9OUyBPRiBBTlkgS0lORCwgZWl0aGVyIGV4cHJlc3Mgb3IgaW1wbGllZC4KLy8gU2VlIHRoZSBMaWNlbnNlIGZvciB0aGUgc3BlY2lmaWMgbGFuZ3VhZ2UgZ292ZXJuaW5nIHBlcm1pc3Npb25zIGFuZAovLyBsaW1pdGF0aW9ucyB1bmRlciB0aGUgTGljZW5zZS4KCi8qKgogKiBAZmlsZW92ZXJ2aWV3IEhlbHBlcnMgZm9yIGdvb2dsZS5jb2xhYiBQeXRob24gbW9kdWxlLgogKi8KKGZ1bmN0aW9uKHNjb3BlKSB7CmZ1bmN0aW9uIHNwYW4odGV4dCwgc3R5bGVBdHRyaWJ1dGVzID0ge30pIHsKICBjb25zdCBlbGVtZW50ID0gZG9jdW1lbnQuY3JlYXRlRWxlbWVudCgnc3BhbicpOwogIGVsZW1lbnQudGV4dENvbnRlbnQgPSB0ZXh0OwogIGZvciAoY29uc3Qga2V5IG9mIE9iamVjdC5rZXlzKHN0eWxlQXR0cmlidXRlcykpIHsKICAgIGVsZW1lbnQuc3R5bGVba2V5XSA9IHN0eWxlQXR0cmlidXRlc1trZXldOwogIH0KICByZXR1cm4gZWxlbWVudDsKfQoKLy8gTWF4IG51bWJlciBvZiBieXRlcyB3aGljaCB3aWxsIGJlIHVwbG9hZGVkIGF0IGEgdGltZS4KY29uc3QgTUFYX1BBWUxPQURfU0laRSA9IDEwMCAqIDEwMjQ7CgpmdW5jdGlvbiBfdXBsb2FkRmlsZXMoaW5wdXRJZCwgb3V0cHV0SWQpIHsKICBjb25zdCBzdGVwcyA9IHVwbG9hZEZpbGVzU3RlcChpbnB1dElkLCBvdXRwdXRJZCk7CiAgY29uc3Qgb3V0cHV0RWxlbWVudCA9IGRvY3VtZW50LmdldEVsZW1lbnRCeUlkKG91dHB1dElkKTsKICAvLyBDYWNoZSBzdGVwcyBvbiB0aGUgb3V0cHV0RWxlbWVudCB0byBtYWtlIGl0IGF2YWlsYWJsZSBmb3IgdGhlIG5leHQgY2FsbAogIC8vIHRvIHVwbG9hZEZpbGVzQ29udGludWUgZnJvbSBQeXRob24uCiAgb3V0cHV0RWxlbWVudC5zdGVwcyA9IHN0ZXBzOwoKICByZXR1cm4gX3VwbG9hZEZpbGVzQ29udGludWUob3V0cHV0SWQpOwp9CgovLyBUaGlzIGlzIHJvdWdobHkgYW4gYXN5bmMgZ2VuZXJhdG9yIChub3Qgc3VwcG9ydGVkIGluIHRoZSBicm93c2VyIHlldCksCi8vIHdoZXJlIHRoZXJlIGFyZSBtdWx0aXBsZSBhc3luY2hyb25vdXMgc3RlcHMgYW5kIHRoZSBQeXRob24gc2lkZSBpcyBnb2luZwovLyB0byBwb2xsIGZvciBjb21wbGV0aW9uIG9mIGVhY2ggc3RlcC4KLy8gVGhpcyB1c2VzIGEgUHJvbWlzZSB0byBibG9jayB0aGUgcHl0aG9uIHNpZGUgb24gY29tcGxldGlvbiBvZiBlYWNoIHN0ZXAsCi8vIHRoZW4gcGFzc2VzIHRoZSByZXN1bHQgb2YgdGhlIHByZXZpb3VzIHN0ZXAgYXMgdGhlIGlucHV0IHRvIHRoZSBuZXh0IHN0ZXAuCmZ1bmN0aW9uIF91cGxvYWRGaWxlc0NvbnRpbnVlKG91dHB1dElkKSB7CiAgY29uc3Qgb3V0cHV0RWxlbWVudCA9IGRvY3VtZW50LmdldEVsZW1lbnRCeUlkKG91dHB1dElkKTsKICBjb25zdCBzdGVwcyA9IG91dHB1dEVsZW1lbnQuc3RlcHM7CgogIGNvbnN0IG5leHQgPSBzdGVwcy5uZXh0KG91dHB1dEVsZW1lbnQubGFzdFByb21pc2VWYWx1ZSk7CiAgcmV0dXJuIFByb21pc2UucmVzb2x2ZShuZXh0LnZhbHVlLnByb21pc2UpLnRoZW4oKHZhbHVlKSA9PiB7CiAgICAvLyBDYWNoZSB0aGUgbGFzdCBwcm9taXNlIHZhbHVlIHRvIG1ha2UgaXQgYXZhaWxhYmxlIHRvIHRoZSBuZXh0CiAgICAvLyBzdGVwIG9mIHRoZSBnZW5lcmF0b3IuCiAgICBvdXRwdXRFbGVtZW50Lmxhc3RQcm9taXNlVmFsdWUgPSB2YWx1ZTsKICAgIHJldHVybiBuZXh0LnZhbHVlLnJlc3BvbnNlOwogIH0pOwp9CgovKioKICogR2VuZXJhdG9yIGZ1bmN0aW9uIHdoaWNoIGlzIGNhbGxlZCBiZXR3ZWVuIGVhY2ggYXN5bmMgc3RlcCBvZiB0aGUgdXBsb2FkCiAqIHByb2Nlc3MuCiAqIEBwYXJhbSB7c3RyaW5nfSBpbnB1dElkIEVsZW1lbnQgSUQgb2YgdGhlIGlucHV0IGZpbGUgcGlja2VyIGVsZW1lbnQuCiAqIEBwYXJhbSB7c3RyaW5nfSBvdXRwdXRJZCBFbGVtZW50IElEIG9mIHRoZSBvdXRwdXQgZGlzcGxheS4KICogQHJldHVybiB7IUl0ZXJhYmxlPCFPYmplY3Q+fSBJdGVyYWJsZSBvZiBuZXh0IHN0ZXBzLgogKi8KZnVuY3Rpb24qIHVwbG9hZEZpbGVzU3RlcChpbnB1dElkLCBvdXRwdXRJZCkgewogIGNvbnN0IGlucHV0RWxlbWVudCA9IGRvY3VtZW50LmdldEVsZW1lbnRCeUlkKGlucHV0SWQpOwogIGlucHV0RWxlbWVudC5kaXNhYmxlZCA9IGZhbHNlOwoKICBjb25zdCBvdXRwdXRFbGVtZW50ID0gZG9jdW1lbnQuZ2V0RWxlbWVudEJ5SWQob3V0cHV0SWQpOwogIG91dHB1dEVsZW1lbnQuaW5uZXJIVE1MID0gJyc7CgogIGNvbnN0IHBpY2tlZFByb21pc2UgPSBuZXcgUHJvbWlzZSgocmVzb2x2ZSkgPT4gewogICAgaW5wdXRFbGVtZW50LmFkZEV2ZW50TGlzdGVuZXIoJ2NoYW5nZScsIChlKSA9PiB7CiAgICAgIHJlc29sdmUoZS50YXJnZXQuZmlsZXMpOwogICAgfSk7CiAgfSk7CgogIGNvbnN0IGNhbmNlbCA9IGRvY3VtZW50LmNyZWF0ZUVsZW1lbnQoJ2J1dHRvbicpOwogIGlucHV0RWxlbWVudC5wYXJlbnRFbGVtZW50LmFwcGVuZENoaWxkKGNhbmNlbCk7CiAgY2FuY2VsLnRleHRDb250ZW50ID0gJ0NhbmNlbCB1cGxvYWQnOwogIGNvbnN0IGNhbmNlbFByb21pc2UgPSBuZXcgUHJvbWlzZSgocmVzb2x2ZSkgPT4gewogICAgY2FuY2VsLm9uY2xpY2sgPSAoKSA9PiB7CiAgICAgIHJlc29sdmUobnVsbCk7CiAgICB9OwogIH0pOwoKICAvLyBXYWl0IGZvciB0aGUgdXNlciB0byBwaWNrIHRoZSBmaWxlcy4KICBjb25zdCBmaWxlcyA9IHlpZWxkIHsKICAgIHByb21pc2U6IFByb21pc2UucmFjZShbcGlja2VkUHJvbWlzZSwgY2FuY2VsUHJvbWlzZV0pLAogICAgcmVzcG9uc2U6IHsKICAgICAgYWN0aW9uOiAnc3RhcnRpbmcnLAogICAgfQogIH07CgogIGNhbmNlbC5yZW1vdmUoKTsKCiAgLy8gRGlzYWJsZSB0aGUgaW5wdXQgZWxlbWVudCBzaW5jZSBmdXJ0aGVyIHBpY2tzIGFyZSBub3QgYWxsb3dlZC4KICBpbnB1dEVsZW1lbnQuZGlzYWJsZWQgPSB0cnVlOwoKICBpZiAoIWZpbGVzKSB7CiAgICByZXR1cm4gewogICAgICByZXNwb25zZTogewogICAgICAgIGFjdGlvbjogJ2NvbXBsZXRlJywKICAgICAgfQogICAgfTsKICB9CgogIGZvciAoY29uc3QgZmlsZSBvZiBmaWxlcykgewogICAgY29uc3QgbGkgPSBkb2N1bWVudC5jcmVhdGVFbGVtZW50KCdsaScpOwogICAgbGkuYXBwZW5kKHNwYW4oZmlsZS5uYW1lLCB7Zm9udFdlaWdodDogJ2JvbGQnfSkpOwogICAgbGkuYXBwZW5kKHNwYW4oCiAgICAgICAgYCgke2ZpbGUudHlwZSB8fCAnbi9hJ30pIC0gJHtmaWxlLnNpemV9IGJ5dGVzLCBgICsKICAgICAgICBgbGFzdCBtb2RpZmllZDogJHsKICAgICAgICAgICAgZmlsZS5sYXN0TW9kaWZpZWREYXRlID8gZmlsZS5sYXN0TW9kaWZpZWREYXRlLnRvTG9jYWxlRGF0ZVN0cmluZygpIDoKICAgICAgICAgICAgICAgICAgICAgICAgICAgICAgICAgICAgJ24vYSd9IC0gYCkpOwogICAgY29uc3QgcGVyY2VudCA9IHNwYW4oJzAlIGRvbmUnKTsKICAgIGxpLmFwcGVuZENoaWxkKHBlcmNlbnQpOwoKICAgIG91dHB1dEVsZW1lbnQuYXBwZW5kQ2hpbGQobGkpOwoKICAgIGNvbnN0IGZpbGVEYXRhUHJvbWlzZSA9IG5ldyBQcm9taXNlKChyZXNvbHZlKSA9PiB7CiAgICAgIGNvbnN0IHJlYWRlciA9IG5ldyBGaWxlUmVhZGVyKCk7CiAgICAgIHJlYWRlci5vbmxvYWQgPSAoZSkgPT4gewogICAgICAgIHJlc29sdmUoZS50YXJnZXQucmVzdWx0KTsKICAgICAgfTsKICAgICAgcmVhZGVyLnJlYWRBc0FycmF5QnVmZmVyKGZpbGUpOwogICAgfSk7CiAgICAvLyBXYWl0IGZvciB0aGUgZGF0YSB0byBiZSByZWFkeS4KICAgIGxldCBmaWxlRGF0YSA9IHlpZWxkIHsKICAgICAgcHJvbWlzZTogZmlsZURhdGFQcm9taXNlLAogICAgICByZXNwb25zZTogewogICAgICAgIGFjdGlvbjogJ2NvbnRpbnVlJywKICAgICAgfQogICAgfTsKCiAgICAvLyBVc2UgYSBjaHVua2VkIHNlbmRpbmcgdG8gYXZvaWQgbWVzc2FnZSBzaXplIGxpbWl0cy4gU2VlIGIvNjIxMTU2NjAuCiAgICBsZXQgcG9zaXRpb24gPSAwOwogICAgZG8gewogICAgICBjb25zdCBsZW5ndGggPSBNYXRoLm1pbihmaWxlRGF0YS5ieXRlTGVuZ3RoIC0gcG9zaXRpb24sIE1BWF9QQVlMT0FEX1NJWkUpOwogICAgICBjb25zdCBjaHVuayA9IG5ldyBVaW50OEFycmF5KGZpbGVEYXRhLCBwb3NpdGlvbiwgbGVuZ3RoKTsKICAgICAgcG9zaXRpb24gKz0gbGVuZ3RoOwoKICAgICAgY29uc3QgYmFzZTY0ID0gYnRvYShTdHJpbmcuZnJvbUNoYXJDb2RlLmFwcGx5KG51bGwsIGNodW5rKSk7CiAgICAgIHlpZWxkIHsKICAgICAgICByZXNwb25zZTogewogICAgICAgICAgYWN0aW9uOiAnYXBwZW5kJywKICAgICAgICAgIGZpbGU6IGZpbGUubmFtZSwKICAgICAgICAgIGRhdGE6IGJhc2U2NCwKICAgICAgICB9LAogICAgICB9OwoKICAgICAgbGV0IHBlcmNlbnREb25lID0gZmlsZURhdGEuYnl0ZUxlbmd0aCA9PT0gMCA/CiAgICAgICAgICAxMDAgOgogICAgICAgICAgTWF0aC5yb3VuZCgocG9zaXRpb24gLyBmaWxlRGF0YS5ieXRlTGVuZ3RoKSAqIDEwMCk7CiAgICAgIHBlcmNlbnQudGV4dENvbnRlbnQgPSBgJHtwZXJjZW50RG9uZX0lIGRvbmVgOwoKICAgIH0gd2hpbGUgKHBvc2l0aW9uIDwgZmlsZURhdGEuYnl0ZUxlbmd0aCk7CiAgfQoKICAvLyBBbGwgZG9uZS4KICB5aWVsZCB7CiAgICByZXNwb25zZTogewogICAgICBhY3Rpb246ICdjb21wbGV0ZScsCiAgICB9CiAgfTsKfQoKc2NvcGUuZ29vZ2xlID0gc2NvcGUuZ29vZ2xlIHx8IHt9OwpzY29wZS5nb29nbGUuY29sYWIgPSBzY29wZS5nb29nbGUuY29sYWIgfHwge307CnNjb3BlLmdvb2dsZS5jb2xhYi5fZmlsZXMgPSB7CiAgX3VwbG9hZEZpbGVzLAogIF91cGxvYWRGaWxlc0NvbnRpbnVlLAp9Owp9KShzZWxmKTsK",
              "ok": true,
              "headers": [
                [
                  "content-type",
                  "application/javascript"
                ]
              ],
              "status": 200,
              "status_text": ""
            }
          },
          "base_uri": "https://localhost:8080/",
          "height": 74
        },
        "id": "eQ-IG58Ax1Nl",
        "outputId": "6de93562-4e30-4c7a-823a-cf4bd72230b6"
      },
      "source": [
        "from google.colab import files\n",
        "import io\n",
        "uploaded = files.upload()"
      ],
      "execution_count": null,
      "outputs": [
        {
          "output_type": "display_data",
          "data": {
            "text/html": [
              "\n",
              "     <input type=\"file\" id=\"files-cb94a29e-cdec-4b4f-a926-4b55797a89be\" name=\"files[]\" multiple disabled\n",
              "        style=\"border:none\" />\n",
              "     <output id=\"result-cb94a29e-cdec-4b4f-a926-4b55797a89be\">\n",
              "      Upload widget is only available when the cell has been executed in the\n",
              "      current browser session. Please rerun this cell to enable.\n",
              "      </output>\n",
              "      <script src=\"/nbextensions/google.colab/files.js\"></script> "
            ],
            "text/plain": [
              "<IPython.core.display.HTML object>"
            ]
          },
          "metadata": {}
        },
        {
          "output_type": "stream",
          "name": "stdout",
          "text": [
            "Saving ltc_data.csv to ltc_data.csv\n"
          ]
        }
      ]
    },
    {
      "cell_type": "code",
      "metadata": {
        "id": "-cFQrG_fx1Nm"
      },
      "source": [
        "ltc_data = pd.read_csv(io.BytesIO(uploaded['ltc_data.csv']), header=None)"
      ],
      "execution_count": null,
      "outputs": []
    },
    {
      "cell_type": "code",
      "metadata": {
        "id": "aX_TYq8Jx1Nn"
      },
      "source": [
        "ltc_data.columns = ['Open Time', 'Open', 'High', 'Low', 'Close', 'Volume (LTC)', 'Close Time', 'Quote Asset Volume (USDT)', \n",
        "              'No. of trades', 'Buy Base Volume (LTC)', 'Buy Quote Volume (USDT)', 'Ignore']"
      ],
      "execution_count": null,
      "outputs": []
    },
    {
      "cell_type": "markdown",
      "metadata": {
        "id": "whl1w6ayx1Nn"
      },
      "source": [
        "Preprocessing steps"
      ]
    },
    {
      "cell_type": "code",
      "metadata": {
        "id": "t3DOI9uLx1Nn"
      },
      "source": [
        "ltc_data['Open Date'] = pd.to_datetime(ltc_data['Open Time'], unit='ms')\n",
        "ltc_data['Close Date'] = pd.to_datetime(ltc_data['Close Time'], unit='ms')"
      ],
      "execution_count": null,
      "outputs": []
    },
    {
      "cell_type": "code",
      "metadata": {
        "id": "tVQ3twDux1Nn"
      },
      "source": [
        "ltc_data['Close Date'] = ltc_data['Close Date'].dt.normalize()"
      ],
      "execution_count": null,
      "outputs": []
    },
    {
      "cell_type": "code",
      "metadata": {
        "id": "fSyn1ytXx1Nn"
      },
      "source": [
        "ltc_data.drop(['Open Time', 'Close Time', 'Ignore', 'Volume (LTC)', 'No. of trades', 'Buy Base Volume (LTC)', 'Buy Quote Volume (USDT)', 'Open Date'], axis=1, inplace=True)"
      ],
      "execution_count": null,
      "outputs": []
    },
    {
      "cell_type": "code",
      "metadata": {
        "id": "K7XQMBPYx1Nn"
      },
      "source": [
        "ltc_data.rename(columns = {'Quote Asset Volume (USDT)':'Volume'}, inplace = True)"
      ],
      "execution_count": null,
      "outputs": []
    },
    {
      "cell_type": "code",
      "metadata": {
        "colab": {
          "base_uri": "https://localhost:8080/",
          "height": 234
        },
        "id": "RuljLGtHx1Nn",
        "outputId": "e6f76e94-4de3-42ee-c3c2-39fa71224417"
      },
      "source": [
        "ltc_data.set_index('Close Date', inplace=True)\n",
        "ltc_data.head()"
      ],
      "execution_count": null,
      "outputs": [
        {
          "output_type": "execute_result",
          "data": {
            "text/html": [
              "<div>\n",
              "<style scoped>\n",
              "    .dataframe tbody tr th:only-of-type {\n",
              "        vertical-align: middle;\n",
              "    }\n",
              "\n",
              "    .dataframe tbody tr th {\n",
              "        vertical-align: top;\n",
              "    }\n",
              "\n",
              "    .dataframe thead th {\n",
              "        text-align: right;\n",
              "    }\n",
              "</style>\n",
              "<table border=\"1\" class=\"dataframe\">\n",
              "  <thead>\n",
              "    <tr style=\"text-align: right;\">\n",
              "      <th></th>\n",
              "      <th>Open</th>\n",
              "      <th>High</th>\n",
              "      <th>Low</th>\n",
              "      <th>Close</th>\n",
              "      <th>Volume</th>\n",
              "    </tr>\n",
              "    <tr>\n",
              "      <th>Close Date</th>\n",
              "      <th></th>\n",
              "      <th></th>\n",
              "      <th></th>\n",
              "      <th></th>\n",
              "      <th></th>\n",
              "    </tr>\n",
              "  </thead>\n",
              "  <tbody>\n",
              "    <tr>\n",
              "      <th>2017-12-13</th>\n",
              "      <td>272.00</td>\n",
              "      <td>330.00</td>\n",
              "      <td>260.00</td>\n",
              "      <td>290.01</td>\n",
              "      <td>2.770877e+06</td>\n",
              "    </tr>\n",
              "    <tr>\n",
              "      <th>2017-12-14</th>\n",
              "      <td>290.01</td>\n",
              "      <td>302.72</td>\n",
              "      <td>252.00</td>\n",
              "      <td>272.40</td>\n",
              "      <td>2.666481e+06</td>\n",
              "    </tr>\n",
              "    <tr>\n",
              "      <th>2017-12-15</th>\n",
              "      <td>272.40</td>\n",
              "      <td>314.21</td>\n",
              "      <td>239.99</td>\n",
              "      <td>294.00</td>\n",
              "      <td>4.658824e+06</td>\n",
              "    </tr>\n",
              "    <tr>\n",
              "      <th>2017-12-16</th>\n",
              "      <td>294.00</td>\n",
              "      <td>305.00</td>\n",
              "      <td>285.00</td>\n",
              "      <td>293.97</td>\n",
              "      <td>2.674492e+06</td>\n",
              "    </tr>\n",
              "    <tr>\n",
              "      <th>2017-12-17</th>\n",
              "      <td>293.01</td>\n",
              "      <td>328.80</td>\n",
              "      <td>290.00</td>\n",
              "      <td>311.40</td>\n",
              "      <td>4.618547e+06</td>\n",
              "    </tr>\n",
              "  </tbody>\n",
              "</table>\n",
              "</div>"
            ],
            "text/plain": [
              "              Open    High     Low   Close        Volume\n",
              "Close Date                                              \n",
              "2017-12-13  272.00  330.00  260.00  290.01  2.770877e+06\n",
              "2017-12-14  290.01  302.72  252.00  272.40  2.666481e+06\n",
              "2017-12-15  272.40  314.21  239.99  294.00  4.658824e+06\n",
              "2017-12-16  294.00  305.00  285.00  293.97  2.674492e+06\n",
              "2017-12-17  293.01  328.80  290.00  311.40  4.618547e+06"
            ]
          },
          "metadata": {},
          "execution_count": 97
        }
      ]
    },
    {
      "cell_type": "code",
      "metadata": {
        "id": "MpgB3Nfhx1No"
      },
      "source": [
        "columns = ltc_data.columns.tolist()\n",
        "columns = columns[-1:] + columns[:-1]\n",
        "ltc_data = ltc_data[columns]"
      ],
      "execution_count": null,
      "outputs": []
    },
    {
      "cell_type": "code",
      "metadata": {
        "colab": {
          "base_uri": "https://localhost:8080/",
          "height": 234
        },
        "id": "aebCHZ8ox1No",
        "outputId": "5adb8086-ad36-4acb-c604-a8a476493176"
      },
      "source": [
        "ltc_data.head()"
      ],
      "execution_count": null,
      "outputs": [
        {
          "output_type": "execute_result",
          "data": {
            "text/html": [
              "<div>\n",
              "<style scoped>\n",
              "    .dataframe tbody tr th:only-of-type {\n",
              "        vertical-align: middle;\n",
              "    }\n",
              "\n",
              "    .dataframe tbody tr th {\n",
              "        vertical-align: top;\n",
              "    }\n",
              "\n",
              "    .dataframe thead th {\n",
              "        text-align: right;\n",
              "    }\n",
              "</style>\n",
              "<table border=\"1\" class=\"dataframe\">\n",
              "  <thead>\n",
              "    <tr style=\"text-align: right;\">\n",
              "      <th></th>\n",
              "      <th>Volume</th>\n",
              "      <th>Open</th>\n",
              "      <th>High</th>\n",
              "      <th>Low</th>\n",
              "      <th>Close</th>\n",
              "    </tr>\n",
              "    <tr>\n",
              "      <th>Close Date</th>\n",
              "      <th></th>\n",
              "      <th></th>\n",
              "      <th></th>\n",
              "      <th></th>\n",
              "      <th></th>\n",
              "    </tr>\n",
              "  </thead>\n",
              "  <tbody>\n",
              "    <tr>\n",
              "      <th>2017-12-13</th>\n",
              "      <td>2.770877e+06</td>\n",
              "      <td>272.00</td>\n",
              "      <td>330.00</td>\n",
              "      <td>260.00</td>\n",
              "      <td>290.01</td>\n",
              "    </tr>\n",
              "    <tr>\n",
              "      <th>2017-12-14</th>\n",
              "      <td>2.666481e+06</td>\n",
              "      <td>290.01</td>\n",
              "      <td>302.72</td>\n",
              "      <td>252.00</td>\n",
              "      <td>272.40</td>\n",
              "    </tr>\n",
              "    <tr>\n",
              "      <th>2017-12-15</th>\n",
              "      <td>4.658824e+06</td>\n",
              "      <td>272.40</td>\n",
              "      <td>314.21</td>\n",
              "      <td>239.99</td>\n",
              "      <td>294.00</td>\n",
              "    </tr>\n",
              "    <tr>\n",
              "      <th>2017-12-16</th>\n",
              "      <td>2.674492e+06</td>\n",
              "      <td>294.00</td>\n",
              "      <td>305.00</td>\n",
              "      <td>285.00</td>\n",
              "      <td>293.97</td>\n",
              "    </tr>\n",
              "    <tr>\n",
              "      <th>2017-12-17</th>\n",
              "      <td>4.618547e+06</td>\n",
              "      <td>293.01</td>\n",
              "      <td>328.80</td>\n",
              "      <td>290.00</td>\n",
              "      <td>311.40</td>\n",
              "    </tr>\n",
              "  </tbody>\n",
              "</table>\n",
              "</div>"
            ],
            "text/plain": [
              "                  Volume    Open    High     Low   Close\n",
              "Close Date                                              \n",
              "2017-12-13  2.770877e+06  272.00  330.00  260.00  290.01\n",
              "2017-12-14  2.666481e+06  290.01  302.72  252.00  272.40\n",
              "2017-12-15  4.658824e+06  272.40  314.21  239.99  294.00\n",
              "2017-12-16  2.674492e+06  294.00  305.00  285.00  293.97\n",
              "2017-12-17  4.618547e+06  293.01  328.80  290.00  311.40"
            ]
          },
          "metadata": {},
          "execution_count": 99
        }
      ]
    },
    {
      "cell_type": "code",
      "metadata": {
        "colab": {
          "base_uri": "https://localhost:8080/"
        },
        "id": "f1-Jf4S2x1No",
        "outputId": "e0a52482-3d38-496f-8e56-ddd1d0869245"
      },
      "source": [
        "ltc_data.info()"
      ],
      "execution_count": null,
      "outputs": [
        {
          "output_type": "stream",
          "name": "stdout",
          "text": [
            "<class 'pandas.core.frame.DataFrame'>\n",
            "DatetimeIndex: 1344 entries, 2017-12-13 to 2021-08-17\n",
            "Data columns (total 5 columns):\n",
            " #   Column  Non-Null Count  Dtype  \n",
            "---  ------  --------------  -----  \n",
            " 0   Volume  1344 non-null   float64\n",
            " 1   Open    1344 non-null   float64\n",
            " 2   High    1344 non-null   float64\n",
            " 3   Low     1344 non-null   float64\n",
            " 4   Close   1344 non-null   float64\n",
            "dtypes: float64(5)\n",
            "memory usage: 63.0 KB\n"
          ]
        }
      ]
    },
    {
      "cell_type": "markdown",
      "metadata": {
        "id": "0jyj4fg2x1No"
      },
      "source": [
        "I have fewer samples in the LTC dataset however I will still be able to create a training set that is the same proportion as the ETH training set."
      ]
    },
    {
      "cell_type": "markdown",
      "metadata": {
        "id": "FJdV2ZCIyJOy"
      },
      "source": [
        " ## Create classes"
      ]
    },
    {
      "cell_type": "code",
      "metadata": {
        "id": "PLVsua2GyJOz"
      },
      "source": [
        "# create a column to indicate the price movement: 1 means the price has increased compared to the previous day, 0 means the price has decreased\n",
        "\n",
        "ltc_movement = []\n",
        "\n",
        "for i in range(len(ltc_data)-1):\n",
        "\n",
        "  if ltc_data['Close'][i+1] < ltc_data['Close'][i]:\n",
        "    ltc_movement.append(0)\n",
        "  \n",
        "  else:\n",
        "    ltc_movement.append(1)"
      ],
      "execution_count": null,
      "outputs": []
    },
    {
      "cell_type": "code",
      "metadata": {
        "colab": {
          "base_uri": "https://localhost:8080/",
          "height": 234
        },
        "id": "KduuyNb4yJOz",
        "outputId": "32dfbdc3-0943-4bcc-cbfb-8bd96311c866"
      },
      "source": [
        "# datapoint 0 in the dataset will be dropped because there is no price information prior to this day so it can not be put into a class.\n",
        "ltc_data.drop(ltc_data.index[0], inplace=True)\n",
        "ltc_data.head()"
      ],
      "execution_count": null,
      "outputs": [
        {
          "output_type": "execute_result",
          "data": {
            "text/html": [
              "<div>\n",
              "<style scoped>\n",
              "    .dataframe tbody tr th:only-of-type {\n",
              "        vertical-align: middle;\n",
              "    }\n",
              "\n",
              "    .dataframe tbody tr th {\n",
              "        vertical-align: top;\n",
              "    }\n",
              "\n",
              "    .dataframe thead th {\n",
              "        text-align: right;\n",
              "    }\n",
              "</style>\n",
              "<table border=\"1\" class=\"dataframe\">\n",
              "  <thead>\n",
              "    <tr style=\"text-align: right;\">\n",
              "      <th></th>\n",
              "      <th>Volume</th>\n",
              "      <th>Open</th>\n",
              "      <th>High</th>\n",
              "      <th>Low</th>\n",
              "      <th>Close</th>\n",
              "    </tr>\n",
              "    <tr>\n",
              "      <th>Close Date</th>\n",
              "      <th></th>\n",
              "      <th></th>\n",
              "      <th></th>\n",
              "      <th></th>\n",
              "      <th></th>\n",
              "    </tr>\n",
              "  </thead>\n",
              "  <tbody>\n",
              "    <tr>\n",
              "      <th>2017-12-14</th>\n",
              "      <td>2.666481e+06</td>\n",
              "      <td>290.01</td>\n",
              "      <td>302.72</td>\n",
              "      <td>252.00</td>\n",
              "      <td>272.40</td>\n",
              "    </tr>\n",
              "    <tr>\n",
              "      <th>2017-12-15</th>\n",
              "      <td>4.658824e+06</td>\n",
              "      <td>272.40</td>\n",
              "      <td>314.21</td>\n",
              "      <td>239.99</td>\n",
              "      <td>294.00</td>\n",
              "    </tr>\n",
              "    <tr>\n",
              "      <th>2017-12-16</th>\n",
              "      <td>2.674492e+06</td>\n",
              "      <td>294.00</td>\n",
              "      <td>305.00</td>\n",
              "      <td>285.00</td>\n",
              "      <td>293.97</td>\n",
              "    </tr>\n",
              "    <tr>\n",
              "      <th>2017-12-17</th>\n",
              "      <td>4.618547e+06</td>\n",
              "      <td>293.01</td>\n",
              "      <td>328.80</td>\n",
              "      <td>290.00</td>\n",
              "      <td>311.40</td>\n",
              "    </tr>\n",
              "    <tr>\n",
              "      <th>2017-12-18</th>\n",
              "      <td>5.445728e+06</td>\n",
              "      <td>311.23</td>\n",
              "      <td>360.96</td>\n",
              "      <td>277.00</td>\n",
              "      <td>352.00</td>\n",
              "    </tr>\n",
              "  </tbody>\n",
              "</table>\n",
              "</div>"
            ],
            "text/plain": [
              "                  Volume    Open    High     Low   Close\n",
              "Close Date                                              \n",
              "2017-12-14  2.666481e+06  290.01  302.72  252.00  272.40\n",
              "2017-12-15  4.658824e+06  272.40  314.21  239.99  294.00\n",
              "2017-12-16  2.674492e+06  294.00  305.00  285.00  293.97\n",
              "2017-12-17  4.618547e+06  293.01  328.80  290.00  311.40\n",
              "2017-12-18  5.445728e+06  311.23  360.96  277.00  352.00"
            ]
          },
          "metadata": {},
          "execution_count": 102
        }
      ]
    },
    {
      "cell_type": "code",
      "metadata": {
        "id": "fgf32Ik8yJOz"
      },
      "source": [
        "ltc_data['Price Movement'] = np.array(ltc_movement) "
      ],
      "execution_count": null,
      "outputs": []
    },
    {
      "cell_type": "code",
      "metadata": {
        "colab": {
          "base_uri": "https://localhost:8080/",
          "height": 447
        },
        "id": "lqMKGbxWyJOz",
        "outputId": "ced2daf5-8386-4609-b856-56797abbdbde"
      },
      "source": [
        "ltc_data"
      ],
      "execution_count": null,
      "outputs": [
        {
          "output_type": "execute_result",
          "data": {
            "text/html": [
              "<div>\n",
              "<style scoped>\n",
              "    .dataframe tbody tr th:only-of-type {\n",
              "        vertical-align: middle;\n",
              "    }\n",
              "\n",
              "    .dataframe tbody tr th {\n",
              "        vertical-align: top;\n",
              "    }\n",
              "\n",
              "    .dataframe thead th {\n",
              "        text-align: right;\n",
              "    }\n",
              "</style>\n",
              "<table border=\"1\" class=\"dataframe\">\n",
              "  <thead>\n",
              "    <tr style=\"text-align: right;\">\n",
              "      <th></th>\n",
              "      <th>Volume</th>\n",
              "      <th>Open</th>\n",
              "      <th>High</th>\n",
              "      <th>Low</th>\n",
              "      <th>Close</th>\n",
              "      <th>Price Movement</th>\n",
              "    </tr>\n",
              "    <tr>\n",
              "      <th>Close Date</th>\n",
              "      <th></th>\n",
              "      <th></th>\n",
              "      <th></th>\n",
              "      <th></th>\n",
              "      <th></th>\n",
              "      <th></th>\n",
              "    </tr>\n",
              "  </thead>\n",
              "  <tbody>\n",
              "    <tr>\n",
              "      <th>2017-12-14</th>\n",
              "      <td>2.666481e+06</td>\n",
              "      <td>290.01</td>\n",
              "      <td>302.72</td>\n",
              "      <td>252.00</td>\n",
              "      <td>272.40</td>\n",
              "      <td>0</td>\n",
              "    </tr>\n",
              "    <tr>\n",
              "      <th>2017-12-15</th>\n",
              "      <td>4.658824e+06</td>\n",
              "      <td>272.40</td>\n",
              "      <td>314.21</td>\n",
              "      <td>239.99</td>\n",
              "      <td>294.00</td>\n",
              "      <td>1</td>\n",
              "    </tr>\n",
              "    <tr>\n",
              "      <th>2017-12-16</th>\n",
              "      <td>2.674492e+06</td>\n",
              "      <td>294.00</td>\n",
              "      <td>305.00</td>\n",
              "      <td>285.00</td>\n",
              "      <td>293.97</td>\n",
              "      <td>0</td>\n",
              "    </tr>\n",
              "    <tr>\n",
              "      <th>2017-12-17</th>\n",
              "      <td>4.618547e+06</td>\n",
              "      <td>293.01</td>\n",
              "      <td>328.80</td>\n",
              "      <td>290.00</td>\n",
              "      <td>311.40</td>\n",
              "      <td>1</td>\n",
              "    </tr>\n",
              "    <tr>\n",
              "      <th>2017-12-18</th>\n",
              "      <td>5.445728e+06</td>\n",
              "      <td>311.23</td>\n",
              "      <td>360.96</td>\n",
              "      <td>277.00</td>\n",
              "      <td>352.00</td>\n",
              "      <td>1</td>\n",
              "    </tr>\n",
              "    <tr>\n",
              "      <th>...</th>\n",
              "      <td>...</td>\n",
              "      <td>...</td>\n",
              "      <td>...</td>\n",
              "      <td>...</td>\n",
              "      <td>...</td>\n",
              "      <td>...</td>\n",
              "    </tr>\n",
              "    <tr>\n",
              "      <th>2021-08-13</th>\n",
              "      <td>2.000749e+08</td>\n",
              "      <td>165.41</td>\n",
              "      <td>184.57</td>\n",
              "      <td>164.00</td>\n",
              "      <td>183.31</td>\n",
              "      <td>1</td>\n",
              "    </tr>\n",
              "    <tr>\n",
              "      <th>2021-08-14</th>\n",
              "      <td>1.701896e+08</td>\n",
              "      <td>183.32</td>\n",
              "      <td>185.11</td>\n",
              "      <td>174.62</td>\n",
              "      <td>182.76</td>\n",
              "      <td>0</td>\n",
              "    </tr>\n",
              "    <tr>\n",
              "      <th>2021-08-15</th>\n",
              "      <td>1.717747e+08</td>\n",
              "      <td>182.78</td>\n",
              "      <td>186.55</td>\n",
              "      <td>175.18</td>\n",
              "      <td>184.60</td>\n",
              "      <td>1</td>\n",
              "    </tr>\n",
              "    <tr>\n",
              "      <th>2021-08-16</th>\n",
              "      <td>1.651897e+08</td>\n",
              "      <td>184.59</td>\n",
              "      <td>189.03</td>\n",
              "      <td>176.35</td>\n",
              "      <td>177.93</td>\n",
              "      <td>0</td>\n",
              "    </tr>\n",
              "    <tr>\n",
              "      <th>2021-08-17</th>\n",
              "      <td>1.685814e+07</td>\n",
              "      <td>177.96</td>\n",
              "      <td>180.20</td>\n",
              "      <td>173.22</td>\n",
              "      <td>179.27</td>\n",
              "      <td>1</td>\n",
              "    </tr>\n",
              "  </tbody>\n",
              "</table>\n",
              "<p>1343 rows × 6 columns</p>\n",
              "</div>"
            ],
            "text/plain": [
              "                  Volume    Open    High     Low   Close  Price Movement\n",
              "Close Date                                                              \n",
              "2017-12-14  2.666481e+06  290.01  302.72  252.00  272.40               0\n",
              "2017-12-15  4.658824e+06  272.40  314.21  239.99  294.00               1\n",
              "2017-12-16  2.674492e+06  294.00  305.00  285.00  293.97               0\n",
              "2017-12-17  4.618547e+06  293.01  328.80  290.00  311.40               1\n",
              "2017-12-18  5.445728e+06  311.23  360.96  277.00  352.00               1\n",
              "...                  ...     ...     ...     ...     ...             ...\n",
              "2021-08-13  2.000749e+08  165.41  184.57  164.00  183.31               1\n",
              "2021-08-14  1.701896e+08  183.32  185.11  174.62  182.76               0\n",
              "2021-08-15  1.717747e+08  182.78  186.55  175.18  184.60               1\n",
              "2021-08-16  1.651897e+08  184.59  189.03  176.35  177.93               0\n",
              "2021-08-17  1.685814e+07  177.96  180.20  173.22  179.27               1\n",
              "\n",
              "[1343 rows x 6 columns]"
            ]
          },
          "metadata": {},
          "execution_count": 104
        }
      ]
    },
    {
      "cell_type": "code",
      "metadata": {
        "colab": {
          "base_uri": "https://localhost:8080/"
        },
        "id": "7-Dlfca9yJO0",
        "outputId": "dd96762d-7885-4c3d-9d85-10453fa42a93"
      },
      "source": [
        "ltc_data.info()"
      ],
      "execution_count": null,
      "outputs": [
        {
          "output_type": "stream",
          "name": "stdout",
          "text": [
            "<class 'pandas.core.frame.DataFrame'>\n",
            "DatetimeIndex: 1343 entries, 2017-12-14 to 2021-08-17\n",
            "Data columns (total 6 columns):\n",
            " #   Column          Non-Null Count  Dtype  \n",
            "---  ------          --------------  -----  \n",
            " 0   Volume          1343 non-null   float64\n",
            " 1   Open            1343 non-null   float64\n",
            " 2   High            1343 non-null   float64\n",
            " 3   Low             1343 non-null   float64\n",
            " 4   Close           1343 non-null   float64\n",
            " 5   Price Movement  1343 non-null   int64  \n",
            "dtypes: float64(5), int64(1)\n",
            "memory usage: 73.4 KB\n"
          ]
        }
      ]
    },
    {
      "cell_type": "markdown",
      "metadata": {
        "id": "b8qyZMoXyJO0"
      },
      "source": [
        "Split the data into the same sized sets as the ETH data"
      ]
    },
    {
      "cell_type": "code",
      "metadata": {
        "id": "MgAXvOYZyJO0"
      },
      "source": [
        "ltc_split = int(len(ltc_data)*0.6145)\n",
        "ltc_training_set = ltc_data[:ltc_split]      \n",
        "\n",
        "ltc_subset = ltc_data[ltc_split:]\n",
        "ltc_split2 = int(len(ltc_subset)*0.3303)\n",
        "\n",
        "ltc_val_set = ltc_subset[:ltc_split2]      \n",
        "ltc_test_set = ltc_subset[ltc_split2:]     \n"
      ],
      "execution_count": null,
      "outputs": []
    },
    {
      "cell_type": "code",
      "metadata": {
        "colab": {
          "base_uri": "https://localhost:8080/"
        },
        "id": "sbzxqWvDyJO0",
        "outputId": "6b8d63aa-7b6c-42aa-e3fd-776c90305e84"
      },
      "source": [
        "print('LTC Training: ', ltc_training_set.shape, '\\nLTC Validation: ', ltc_val_set.shape, '\\nLTC Test: ', ltc_test_set.shape)"
      ],
      "execution_count": null,
      "outputs": [
        {
          "output_type": "stream",
          "name": "stdout",
          "text": [
            "LTC Training:  (825, 6) \n",
            "LTC Validation:  (171, 6) \n",
            "LTC Test:  (347, 6)\n"
          ]
        }
      ]
    },
    {
      "cell_type": "code",
      "metadata": {
        "colab": {
          "base_uri": "https://localhost:8080/"
        },
        "id": "PLDdExMQyJO0",
        "outputId": "0a85707a-dd32-4ba3-8aaf-201a965b473e"
      },
      "source": [
        "ltc_X_training = (ltc_training_set.iloc[:, :-1]).values.reshape(ltc_training_set.shape[0],ltc_training_set.shape[1]-1)\n",
        "ltc_y_training = (ltc_training_set.iloc[:, -1]).values.reshape(ltc_training_set.shape[0],1)\n",
        "\n",
        "print(ltc_X_training.shape, ltc_y_training.shape)\n",
        "\n",
        "ltc_X_valid = (ltc_val_set.iloc[:, :-1]).values.reshape(ltc_val_set.shape[0],ltc_val_set.shape[1]-1)\n",
        "ltc_y_valid = (ltc_val_set.iloc[:, -1]).values.reshape(ltc_val_set.shape[0],1)\n",
        "\n",
        "print(ltc_X_valid.shape, ltc_y_valid.shape)\n",
        "\n",
        "ltc_X_testing = (ltc_test_set.iloc[:, :-1]).values.reshape(ltc_test_set.shape[0],ltc_test_set.shape[1]-1)\n",
        "ltc_y_testing = (ltc_test_set.iloc[:, -1]).values.reshape(ltc_test_set.shape[0],1)\n",
        "\n",
        "print(ltc_X_testing.shape, ltc_y_testing.shape)"
      ],
      "execution_count": null,
      "outputs": [
        {
          "output_type": "stream",
          "name": "stdout",
          "text": [
            "(825, 5) (825, 1)\n",
            "(171, 5) (171, 1)\n",
            "(347, 5) (347, 1)\n"
          ]
        }
      ]
    },
    {
      "cell_type": "markdown",
      "metadata": {
        "id": "2jPlmWNPyJO1"
      },
      "source": [
        "I will check for class imbalance again"
      ]
    },
    {
      "cell_type": "code",
      "metadata": {
        "colab": {
          "base_uri": "https://localhost:8080/"
        },
        "id": "BUmXk_l9yJO1",
        "outputId": "549e44d6-daf3-450c-ced3-7b045331cac1"
      },
      "source": [
        "print('LTC TRAINING SET\\n', 'Count:\\n', ltc_training_set['Price Movement'].value_counts(), '\\n\\nRelative Frequencies:\\n',ltc_training_set['Price Movement'].value_counts(normalize=True))\n",
        "print('\\nLTC VALIDATION SET\\n', 'Count:\\n', ltc_val_set['Price Movement'].value_counts(), '\\n\\nRelative Frequencies:\\n',ltc_val_set['Price Movement'].value_counts(normalize=True))\n",
        "print('\\nLTC TESTING SET\\n', 'Count:\\n', ltc_test_set['Price Movement'].value_counts(), '\\n\\nRelative Frequencies:\\n',ltc_test_set['Price Movement'].value_counts(normalize=True))\n"
      ],
      "execution_count": null,
      "outputs": [
        {
          "output_type": "stream",
          "name": "stdout",
          "text": [
            "LTC TRAINING SET\n",
            " Count:\n",
            " 0    449\n",
            "1    376\n",
            "Name: Price Movement, dtype: int64 \n",
            "\n",
            "Relative Frequencies:\n",
            " 0    0.544242\n",
            "1    0.455758\n",
            "Name: Price Movement, dtype: float64\n",
            "\n",
            "LTC VALIDATION SET\n",
            " Count:\n",
            " 1    90\n",
            "0    81\n",
            "Name: Price Movement, dtype: int64 \n",
            "\n",
            "Relative Frequencies:\n",
            " 1    0.526316\n",
            "0    0.473684\n",
            "Name: Price Movement, dtype: float64\n",
            "\n",
            "LTC TESTING SET\n",
            " Count:\n",
            " 1    191\n",
            "0    156\n",
            "Name: Price Movement, dtype: int64 \n",
            "\n",
            "Relative Frequencies:\n",
            " 1    0.550432\n",
            "0    0.449568\n",
            "Name: Price Movement, dtype: float64\n"
          ]
        }
      ]
    },
    {
      "cell_type": "code",
      "metadata": {
        "id": "wFJ9MLW-yJO2"
      },
      "source": [
        "ltc_class_labels = pd.unique(ltc_data['Price Movement'])"
      ],
      "execution_count": null,
      "outputs": []
    },
    {
      "cell_type": "code",
      "metadata": {
        "colab": {
          "base_uri": "https://localhost:8080/",
          "height": 1000
        },
        "id": "nZKTsJULyJO2",
        "outputId": "533dbedb-1ce7-4f66-a636-c1fe00436460"
      },
      "source": [
        "plt.figure(figsize = (10, 5))\n",
        "sns.barplot(x = ['Down', 'Up'], y= ltc_training_set['Price Movement'].value_counts(), palette='Set1')\n",
        "plt.title('Distribution of Classes - LTC Training Dataset')\n",
        "plt.xlabel(\"Price Movement\")\n",
        "plt.ylabel(\"Count\")\n",
        "plt.show()\n",
        "\n",
        "plt.figure(figsize = (10, 5))\n",
        "sns.barplot(x = ['Down', 'Up'], y= ltc_val_set['Price Movement'].value_counts(), palette='Set1')\n",
        "plt.title('Distribution of Classes - LTC Validation Dataset')\n",
        "plt.xlabel(\"Price Movement\")\n",
        "plt.ylabel(\"Count\")\n",
        "plt.show()\n",
        "\n",
        "plt.figure(figsize = (10, 5))\n",
        "sns.barplot(x = ['Down', 'Up'], y= ltc_test_set['Price Movement'].value_counts(), palette='Set1')\n",
        "plt.title('Distribution of Classes - LTC Testing Dataset', fontsize=14)\n",
        "plt.xlabel(\"Price Movement\", fontsize=12)\n",
        "plt.ylabel(\"Count\", fontsize=12)\n",
        "plt.show()"
      ],
      "execution_count": null,
      "outputs": [
        {
          "output_type": "display_data",
          "data": {
            "image/png": "[encoded data removed]",
            "text/plain": [
              "<Figure size 720x360 with 1 Axes>"
            ]
          },
          "metadata": {
            "needs_background": "light"
          }
        },
        {
          "output_type": "display_data",
          "data": {
            "image/png": "[encoded data removed]",
            "text/plain": [
              "<Figure size 720x360 with 1 Axes>"
            ]
          },
          "metadata": {
            "needs_background": "light"
          }
        },
        {
          "output_type": "display_data",
          "data": {
            "image/png": "[encoded data removed]",
            "text/plain": [
              "<Figure size 720x360 with 1 Axes>"
            ]
          },
          "metadata": {
            "needs_background": "light"
          }
        }
      ]
    },
    {
      "cell_type": "markdown",
      "metadata": {
        "id": "_jAbUQzQyJO3"
      },
      "source": [
        "Normalisation"
      ]
    },
    {
      "cell_type": "code",
      "metadata": {
        "id": "rbpXTeNYyJO3"
      },
      "source": [
        "ltc_Xscaler = MinMaxScaler(feature_range=(0,1))\n",
        "ltc_yscaler = MinMaxScaler(feature_range=(0,1))\n",
        "\n",
        "ltc_X_train = ltc_Xscaler.fit_transform(ltc_X_training)\n",
        "ltc_y_train = ltc_yscaler.fit_transform(ltc_y_training)\n",
        "\n",
        "ltc_X_val = ltc_Xscaler.fit_transform(ltc_X_valid)\n",
        "ltc_y_val = ltc_yscaler.fit_transform(ltc_y_valid)\n",
        "\n",
        "ltc_X_test = ltc_Xscaler.fit_transform(ltc_X_testing)\n",
        "ltc_y_test = ltc_yscaler.fit_transform(ltc_y_testing)"
      ],
      "execution_count": null,
      "outputs": []
    },
    {
      "cell_type": "markdown",
      "metadata": {
        "id": "uKcqUpcl0Ici"
      },
      "source": [
        "Preparing the sequences for multistep LSTM"
      ]
    },
    {
      "cell_type": "code",
      "metadata": {
        "colab": {
          "base_uri": "https://localhost:8080/"
        },
        "id": "dxoLJdHo0Icq",
        "outputId": "4b77c981-04f4-4bd3-fdc5-ae5644445ad9"
      },
      "source": [
        "# stack the data horizontally\n",
        "\n",
        "ltc_train_stacked = np.hstack((ltc_X_train, ltc_y_train))\n",
        "print (\"Stacked LTC Training Data Shape: \" , ltc_train_stacked.shape)\n",
        "\n",
        "ltc_val_stacked = np.hstack((ltc_X_valid, ltc_y_valid))\n",
        "print (\"Stacked LTC Validation Data Shape: \" , ltc_val_stacked.shape)\n",
        "\n",
        "ltc_test_stacked = np.hstack((ltc_X_test, ltc_y_test))\n",
        "print (\"Stacked LTC Test Data Shape: \" , ltc_test_stacked.shape)"
      ],
      "execution_count": null,
      "outputs": [
        {
          "output_type": "stream",
          "name": "stdout",
          "text": [
            "Stacked LTC Training Data Shape:  (825, 6)\n",
            "Stacked LTC Validation Data Shape:  (171, 6)\n",
            "Stacked LTC Test Data Shape:  (347, 6)\n"
          ]
        }
      ]
    },
    {
      "cell_type": "code",
      "metadata": {
        "colab": {
          "base_uri": "https://localhost:8080/"
        },
        "id": "HQ_nuuZP0Icq",
        "outputId": "30ba9e6f-574f-44e2-999a-674fa1288bd4"
      },
      "source": [
        "# choose a number of time steps \n",
        "#n_steps_in, n_steps_out = 14, 14    # same timesteps as ETH\n",
        "\n",
        "# run function\n",
        "ltc_X_train, ltc_y_train = create_sequences(ltc_train_stacked, n_steps_in, n_steps_out)\n",
        "print (\"LTC X train sequences: \" , ltc_X_train.shape, \"LTC y train sequences\" , ltc_y_train.shape)      \n",
        "\n",
        "ltc_X_val, ltc_y_val = create_sequences(ltc_val_stacked, n_steps_in, n_steps_out)\n",
        "print (\"LTC X val sequences: \" , ltc_X_val.shape, \"LTC y val sequences\" , ltc_y_val.shape) \n",
        "\n",
        "ltc_X_test, ltc_y_test = create_sequences(ltc_test_stacked, n_steps_in, n_steps_out)\n",
        "print (\"LTC X test sequences: \" , ltc_X_test.shape, \"LTC y test sequences\" , ltc_y_test.shape)    "
      ],
      "execution_count": null,
      "outputs": [
        {
          "output_type": "stream",
          "name": "stdout",
          "text": [
            "LTC X train sequences:  (799, 14, 5) LTC y train sequences (799, 14)\n",
            "LTC X val sequences:  (145, 14, 5) LTC y val sequences (145, 14)\n",
            "LTC X test sequences:  (321, 14, 5) LTC y test sequences (321, 14)\n"
          ]
        }
      ]
    },
    {
      "cell_type": "markdown",
      "metadata": {
        "id": "ztZYP7cW4UJv"
      },
      "source": [
        "#### I will create a Bidirectional LSTM Classification Model with the same optimal parameters and architecture selected from hypertuning. This model will be trained on LTC only."
      ]
    },
    {
      "cell_type": "code",
      "metadata": {
        "id": "w8Y0G0WS4UJv"
      },
      "source": [
        "ltc_n_features = ltc_X_train.shape[2]\n",
        "\n",
        "ltc_model = Sequential()\n",
        "ltc_model.add(Bidirectional(LSTM(units=90, activation='relu', return_sequences=True), input_shape=(n_steps_in, ltc_n_features), merge_mode='ave'))\n",
        "ltc_model.add(Bidirectional(LSTM(units=90, activation='relu', return_sequences=True), merge_mode='ave'))\n",
        "ltc_model.add(Dropout(0.3))\n",
        "ltc_model.add(Bidirectional(LSTM(units=90, activation='relu', return_sequences=True), merge_mode='ave'))\n",
        "ltc_model.add(Dropout(0.3))\n",
        "ltc_model.add(Bidirectional(LSTM(units=90, activation='relu', return_sequences=True), merge_mode='ave'))\n",
        "ltc_model.add(Dropout(0.3))\n",
        "ltc_model.add(TimeDistributed(Dense(1, activation='sigmoid')))\n",
        "ltc_model.compile(loss='binary_crossentropy' , optimizer=keras.optimizers.Adam(learning_rate= 0.00001) , metrics=['accuracy'])"
      ],
      "execution_count": null,
      "outputs": []
    },
    {
      "cell_type": "code",
      "metadata": {
        "colab": {
          "base_uri": "https://localhost:8080/"
        },
        "id": "hhRHDzyn4UJv",
        "outputId": "13639b5d-89f3-45b3-d079-38adb303b86d"
      },
      "source": [
        "ltc_model.summary()"
      ],
      "execution_count": null,
      "outputs": [
        {
          "output_type": "stream",
          "name": "stdout",
          "text": [
            "Model: \"sequential_2\"\n",
            "_________________________________________________________________\n",
            "Layer (type)                 Output Shape              Param #   \n",
            "=================================================================\n",
            "bidirectional_8 (Bidirection (None, 14, 90)            69120     \n",
            "_________________________________________________________________\n",
            "bidirectional_9 (Bidirection (None, 14, 90)            130320    \n",
            "_________________________________________________________________\n",
            "dropout_6 (Dropout)          (None, 14, 90)            0         \n",
            "_________________________________________________________________\n",
            "bidirectional_10 (Bidirectio (None, 14, 90)            130320    \n",
            "_________________________________________________________________\n",
            "dropout_7 (Dropout)          (None, 14, 90)            0         \n",
            "_________________________________________________________________\n",
            "bidirectional_11 (Bidirectio (None, 14, 90)            130320    \n",
            "_________________________________________________________________\n",
            "dropout_8 (Dropout)          (None, 14, 90)            0         \n",
            "_________________________________________________________________\n",
            "time_distributed_2 (TimeDist (None, 14, 1)             91        \n",
            "=================================================================\n",
            "Total params: 460,171\n",
            "Trainable params: 460,171\n",
            "Non-trainable params: 0\n",
            "_________________________________________________________________\n"
          ]
        }
      ]
    },
    {
      "cell_type": "markdown",
      "metadata": {
        "id": "sXioWuYC0Icq"
      },
      "source": [
        "#### Train and test the model 5 times to get a list of scores to use for statistical comparison."
      ]
    },
    {
      "cell_type": "code",
      "metadata": {
        "id": "HOkVY8vx-Kh_",
        "colab": {
          "base_uri": "https://localhost:8080/",
          "height": 1000
        },
        "outputId": "24f30f89-b573-48b7-be05-f0569d7d0d85"
      },
      "source": [
        "ltc_acc_list = []\n",
        "ltc_fscore_list = []\n",
        "\n",
        "for i in range(5):\n",
        "\n",
        "  # fit model\n",
        "  print('\\nTraining Number ', i)\n",
        "  ltc_model.fit(ltc_X_train , ltc_y_train , epochs=100 , verbose=0 , validation_data=(ltc_X_val, ltc_y_val) ,shuffle=False)\n",
        "\n",
        "  # predict\n",
        "\n",
        "  ltc_test_pred = ltc_model.predict(X_test)\n",
        "\n",
        "  # generate the metric scores\n",
        "\n",
        "  y_test_reshaped = y_test.reshape(y_test.shape[0], y_test.shape[1])\n",
        "\n",
        "  ltc_test_loss, ltc_test_accuracy = ltc_model.evaluate(X_test, y_test_reshaped, verbose = 0)\n",
        "\n",
        "  ltc_test_pred = ltc_test_pred.astype(int).reshape(-1)\n",
        "  y_test_flat = y_test.astype(int).reshape(-1)\n",
        "\n",
        "  ltc_fscore = f1_score(y_test_flat, ltc_test_pred, average='weighted')\n",
        "\n",
        "  print('LTC Input Test Accuracy: ', float('%.3g' % ltc_test_accuracy)*100, '|| LTC Input Test F-score: ', float('%.3g' % ltc_fscore), '\\n')\n",
        "\n",
        "  ltc_acc_list.append(ltc_test_accuracy)\n",
        "  ltc_fscore_list.append(ltc_fscore)\n",
        "\n",
        "  ltc_matrix = confusion_matrix(y_test_flat, ltc_test_pred, normalize='all')\n",
        "  ltc_matrix_image = ConfusionMatrixDisplay(confusion_matrix=ltc_matrix, display_labels=[0,1])\n",
        "  ltc_matrix_image.plot(cmap='Blues') \n",
        "\n",
        "print('\\nLTC Input - Classification BiLSTM Model -- \\nAverage Test Accuracy: ', float('%.3g' % np.mean(ltc_acc_list))*100, \n",
        "      ' ||  Average Test F-score: ', float('%.3g' % np.mean(ltc_fscore_list)))"
      ],
      "execution_count": null,
      "outputs": [
        {
          "output_type": "stream",
          "name": "stdout",
          "text": [
            "\n",
            "Training Number  0\n",
            "LTC Input Test Accuracy:  58.4 || LTC Input Test F-score:  0.452 \n",
            "\n",
            "\n",
            "Training Number  1\n",
            "LTC Input Test Accuracy:  58.699999999999996 || LTC Input Test F-score:  0.449 \n",
            "\n",
            "\n",
            "Training Number  2\n",
            "LTC Input Test Accuracy:  58.4 || LTC Input Test F-score:  0.462 \n",
            "\n",
            "\n",
            "Training Number  3\n",
            "LTC Input Test Accuracy:  59.099999999999994 || LTC Input Test F-score:  0.451 \n",
            "\n",
            "\n",
            "Training Number  4\n",
            "LTC Input Test Accuracy:  59.099999999999994 || LTC Input Test F-score:  0.439 \n",
            "\n",
            "\n",
            "LTC Input - Classification BiLSTM Model -- \n",
            "Average Test Accuracy:  58.699999999999996  ||  Average Test F-score:  0.45\n"
          ]
        },
        {
          "output_type": "display_data",
          "data": {
            "image/png": "[encoded data removed]",
            "text/plain": [
              "<Figure size 432x288 with 2 Axes>"
            ]
          },
          "metadata": {
            "needs_background": "light"
          }
        },
        {
          "output_type": "display_data",
          "data": {
            "image/png": "[encoded data removed]",
            "text/plain": [
              "<Figure size 432x288 with 2 Axes>"
            ]
          },
          "metadata": {
            "needs_background": "light"
          }
        },
        {
          "output_type": "display_data",
          "data": {
            "image/png": "[encoded data removed]",
            "text/plain": [
              "<Figure size 432x288 with 2 Axes>"
            ]
          },
          "metadata": {
            "needs_background": "light"
          }
        },
        {
          "output_type": "display_data",
          "data": {
            "image/png": "[encoded data removed]",
            "text/plain": [
              "<Figure size 432x288 with 2 Axes>"
            ]
          },
          "metadata": {
            "needs_background": "light"
          }
        },
        {
          "output_type": "display_data",
          "data": {
            "image/png": "[encoded data removed]",
            "text/plain": [
              "<Figure size 432x288 with 2 Axes>"
            ]
          },
          "metadata": {
            "needs_background": "light"
          }
        }
      ]
    },
    {
      "cell_type": "markdown",
      "metadata": {
        "id": "VBSO3Eno8hId"
      },
      "source": [
        "#**4. Keltner Channel Input - Classification Model**"
      ]
    },
    {
      "cell_type": "markdown",
      "metadata": {
        "id": "wBgxYtWi-ysP"
      },
      "source": [
        "## I want to add the Kelter Channel input to the dataset so I will load the  dataset again for this model as I do not want to alter the original."
      ]
    },
    {
      "cell_type": "code",
      "metadata": {
        "colab": {
          "resources": {
            "http://localhost:8080/nbextensions/google.colab/files.js": {
              "data": "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",
              "ok": true,
              "headers": [
                [
                  "content-type",
                  "application/javascript"
                ]
              ],
              "status": 200,
              "status_text": ""
            }
          },
          "base_uri": "https://localhost:8080/",
          "height": 74
        },
        "id": "vsPPMwdI-ysX",
        "outputId": "712df645-23e0-4fb8-cca3-219ff9146356"
      },
      "source": [
        "from google.colab import files\n",
        "import io\n",
        "uploaded = files.upload()"
      ],
      "execution_count": null,
      "outputs": [
        {
          "output_type": "display_data",
          "data": {
            "text/html": [
              "\n",
              "     <input type=\"file\" id=\"files-e7885a31-1aec-408d-9ec2-9d15712b727d\" name=\"files[]\" multiple disabled\n",
              "        style=\"border:none\" />\n",
              "     <output id=\"result-e7885a31-1aec-408d-9ec2-9d15712b727d\">\n",
              "      Upload widget is only available when the cell has been executed in the\n",
              "      current browser session. Please rerun this cell to enable.\n",
              "      </output>\n",
              "      <script src=\"/nbextensions/google.colab/files.js\"></script> "
            ],
            "text/plain": [
              "<IPython.core.display.HTML object>"
            ]
          },
          "metadata": {}
        },
        {
          "output_type": "stream",
          "name": "stdout",
          "text": [
            "Saving dataset.csv to dataset (1).csv\n"
          ]
        }
      ]
    },
    {
      "cell_type": "code",
      "metadata": {
        "id": "8CNlOOKz-ysX"
      },
      "source": [
        "df_kelt = pd.read_csv(io.BytesIO(uploaded['dataset.csv']), header=None)"
      ],
      "execution_count": null,
      "outputs": []
    },
    {
      "cell_type": "code",
      "metadata": {
        "id": "r90GxtRd-ysX"
      },
      "source": [
        "df_kelt.columns = ['Open Time', 'Open', 'High', 'Low', 'Close', 'Volume (ETH)', 'Close Time', 'Quote Asset Volume (USDT)', \n",
        "              'No. of trades', 'Buy Base Volume (ETH)', 'Buy Quote Volume (USDT)', 'Ignore']"
      ],
      "execution_count": null,
      "outputs": []
    },
    {
      "cell_type": "markdown",
      "metadata": {
        "id": "QU3co8M8-ysX"
      },
      "source": [
        "# Preprocessing steps \n",
        "##### (Explained in the workbook titled 'Exploratory Data Analysis & Preprocessing)"
      ]
    },
    {
      "cell_type": "code",
      "metadata": {
        "id": "BUOeSG5K-ysY"
      },
      "source": [
        "df_kelt['Open Date'] = pd.to_datetime(df_kelt['Open Time'], unit='ms')"
      ],
      "execution_count": null,
      "outputs": []
    },
    {
      "cell_type": "code",
      "metadata": {
        "id": "wLFNHe_V-ysY"
      },
      "source": [
        "df_kelt['Close Date'] = pd.to_datetime(df_kelt['Close Time'], unit='ms')"
      ],
      "execution_count": null,
      "outputs": []
    },
    {
      "cell_type": "code",
      "metadata": {
        "id": "TcarcO0G-ysY"
      },
      "source": [
        "df_kelt['Close Date'] = df_kelt['Close Date'].dt.normalize()"
      ],
      "execution_count": null,
      "outputs": []
    },
    {
      "cell_type": "code",
      "metadata": {
        "id": "4ssGvUvY-ysY"
      },
      "source": [
        "df_kelt.drop(['Open Time', 'Close Time'], axis=1, inplace=True)"
      ],
      "execution_count": null,
      "outputs": []
    },
    {
      "cell_type": "code",
      "metadata": {
        "id": "enKZbAtL-ysY"
      },
      "source": [
        "df_kelt.drop(['Ignore', 'Volume (ETH)', 'No. of trades', 'Buy Base Volume (ETH)', 'Buy Quote Volume (USDT)', 'Open Date'], axis=1, inplace=True)"
      ],
      "execution_count": null,
      "outputs": []
    },
    {
      "cell_type": "code",
      "metadata": {
        "id": "DQ7k-Ctu-ysY"
      },
      "source": [
        "df_kelt.rename(columns = {'Quote Asset Volume (USDT)':'Volume'}, inplace = True)"
      ],
      "execution_count": null,
      "outputs": []
    },
    {
      "cell_type": "code",
      "metadata": {
        "id": "Uxv7_TWm-ysY"
      },
      "source": [
        "df_kelt.set_index('Close Date', inplace=True)"
      ],
      "execution_count": null,
      "outputs": []
    },
    {
      "cell_type": "code",
      "metadata": {
        "id": "yu_JLDWE-ysY"
      },
      "source": [
        "columns_kelt = df_kelt.columns.tolist()\n",
        "columns_kelt = columns_kelt[-1:] + columns_kelt[:-1]\n",
        "df_kelt = df_kelt[columns_kelt]"
      ],
      "execution_count": null,
      "outputs": []
    },
    {
      "cell_type": "code",
      "metadata": {
        "colab": {
          "base_uri": "https://localhost:8080/",
          "height": 234
        },
        "id": "WhLhsvYG-ysY",
        "outputId": "799c20c9-a86d-4566-dbb4-0345996ff30d"
      },
      "source": [
        "df_kelt.head()"
      ],
      "execution_count": null,
      "outputs": [
        {
          "output_type": "execute_result",
          "data": {
            "text/html": [
              "<div>\n",
              "<style scoped>\n",
              "    .dataframe tbody tr th:only-of-type {\n",
              "        vertical-align: middle;\n",
              "    }\n",
              "\n",
              "    .dataframe tbody tr th {\n",
              "        vertical-align: top;\n",
              "    }\n",
              "\n",
              "    .dataframe thead th {\n",
              "        text-align: right;\n",
              "    }\n",
              "</style>\n",
              "<table border=\"1\" class=\"dataframe\">\n",
              "  <thead>\n",
              "    <tr style=\"text-align: right;\">\n",
              "      <th></th>\n",
              "      <th>Volume</th>\n",
              "      <th>Open</th>\n",
              "      <th>High</th>\n",
              "      <th>Low</th>\n",
              "      <th>Close</th>\n",
              "    </tr>\n",
              "    <tr>\n",
              "      <th>Close Date</th>\n",
              "      <th></th>\n",
              "      <th></th>\n",
              "      <th></th>\n",
              "      <th></th>\n",
              "      <th></th>\n",
              "    </tr>\n",
              "  </thead>\n",
              "  <tbody>\n",
              "    <tr>\n",
              "      <th>2017-08-17</th>\n",
              "      <td>2.154655e+06</td>\n",
              "      <td>301.13</td>\n",
              "      <td>312.18</td>\n",
              "      <td>298.00</td>\n",
              "      <td>302.00</td>\n",
              "    </tr>\n",
              "    <tr>\n",
              "      <th>2017-08-18</th>\n",
              "      <td>2.858947e+06</td>\n",
              "      <td>302.00</td>\n",
              "      <td>311.79</td>\n",
              "      <td>283.94</td>\n",
              "      <td>293.96</td>\n",
              "    </tr>\n",
              "    <tr>\n",
              "      <th>2017-08-19</th>\n",
              "      <td>6.200226e+05</td>\n",
              "      <td>293.31</td>\n",
              "      <td>299.90</td>\n",
              "      <td>278.00</td>\n",
              "      <td>290.91</td>\n",
              "    </tr>\n",
              "    <tr>\n",
              "      <th>2017-08-20</th>\n",
              "      <td>7.428479e+05</td>\n",
              "      <td>289.41</td>\n",
              "      <td>300.53</td>\n",
              "      <td>282.85</td>\n",
              "      <td>299.10</td>\n",
              "    </tr>\n",
              "    <tr>\n",
              "      <th>2017-08-21</th>\n",
              "      <td>1.689472e+06</td>\n",
              "      <td>299.10</td>\n",
              "      <td>346.52</td>\n",
              "      <td>294.60</td>\n",
              "      <td>323.29</td>\n",
              "    </tr>\n",
              "  </tbody>\n",
              "</table>\n",
              "</div>"
            ],
            "text/plain": [
              "                  Volume    Open    High     Low   Close\n",
              "Close Date                                              \n",
              "2017-08-17  2.154655e+06  301.13  312.18  298.00  302.00\n",
              "2017-08-18  2.858947e+06  302.00  311.79  283.94  293.96\n",
              "2017-08-19  6.200226e+05  293.31  299.90  278.00  290.91\n",
              "2017-08-20  7.428479e+05  289.41  300.53  282.85  299.10\n",
              "2017-08-21  1.689472e+06  299.10  346.52  294.60  323.29"
            ]
          },
          "metadata": {},
          "execution_count": 133
        }
      ]
    },
    {
      "cell_type": "code",
      "metadata": {
        "colab": {
          "base_uri": "https://localhost:8080/"
        },
        "id": "9t8rvDE9-ysY",
        "outputId": "b8184857-feec-46df-8cf0-0cee7c52a32b"
      },
      "source": [
        "df_kelt.info()"
      ],
      "execution_count": null,
      "outputs": [
        {
          "output_type": "stream",
          "name": "stdout",
          "text": [
            "<class 'pandas.core.frame.DataFrame'>\n",
            "DatetimeIndex: 1412 entries, 2017-08-17 to 2021-06-28\n",
            "Data columns (total 5 columns):\n",
            " #   Column  Non-Null Count  Dtype  \n",
            "---  ------  --------------  -----  \n",
            " 0   Volume  1412 non-null   float64\n",
            " 1   Open    1412 non-null   float64\n",
            " 2   High    1412 non-null   float64\n",
            " 3   Low     1412 non-null   float64\n",
            " 4   Close   1412 non-null   float64\n",
            "dtypes: float64(5)\n",
            "memory usage: 66.2 KB\n"
          ]
        }
      ]
    },
    {
      "cell_type": "markdown",
      "metadata": {
        "id": "RQgw7yG0_u9B"
      },
      "source": [
        "##I will apply the Keltner Channel technical indicator on the close prices of the data to generate a new dataset which includes these new features"
      ]
    },
    {
      "cell_type": "code",
      "metadata": {
        "id": "nc709L7V_1cv"
      },
      "source": [
        "kel_indicator = ta.volatility.KeltnerChannel(high=df_kelt['High'], low=df_kelt['Low'], close=df_kelt['Close'], window=20, window_atr=10)\n",
        "df_kelt['High Band'] = kel_indicator.keltner_channel_hband() \n",
        "df_kelt['Low Band'] = kel_indicator.keltner_channel_lband()\n",
        "df_kelt['Mid Band'] = kel_indicator.keltner_channel_mband()\n",
        "df_kelt['Channel %'] = kel_indicator.keltner_channel_pband()\n",
        "df_kelt['Channel Width'] = kel_indicator.keltner_channel_wband()"
      ],
      "execution_count": null,
      "outputs": []
    },
    {
      "cell_type": "code",
      "metadata": {
        "colab": {
          "base_uri": "https://localhost:8080/"
        },
        "id": "EiT_I9SLRXRf",
        "outputId": "24303ee1-b786-4f88-d105-0b25530bf889"
      },
      "source": [
        "columns2_kelt = df_kelt.columns.tolist()\n",
        "columns2_kelt = columns2_kelt[-5:] + columns2_kelt[:-5]\n",
        "df_kelt = df_kelt[columns2_kelt]\n",
        "print(columns2_kelt)"
      ],
      "execution_count": null,
      "outputs": [
        {
          "output_type": "stream",
          "name": "stdout",
          "text": [
            "['High Band', 'Low Band', 'Mid Band', 'Channel %', 'Channel Width', 'Volume', 'Open', 'High', 'Low', 'Close']\n"
          ]
        }
      ]
    },
    {
      "cell_type": "code",
      "metadata": {
        "colab": {
          "base_uri": "https://localhost:8080/",
          "height": 447
        },
        "id": "K1e53xOtKbZ6",
        "outputId": "5194f6aa-1bdb-4e39-e6cd-bb1cbcaf05a8"
      },
      "source": [
        "df_kelt # some of the new features contain null values due to the indicator requiring initialisation using a few datapoints. I will drop these rows."
      ],
      "execution_count": null,
      "outputs": [
        {
          "output_type": "execute_result",
          "data": {
            "text/html": [
              "<div>\n",
              "<style scoped>\n",
              "    .dataframe tbody tr th:only-of-type {\n",
              "        vertical-align: middle;\n",
              "    }\n",
              "\n",
              "    .dataframe tbody tr th {\n",
              "        vertical-align: top;\n",
              "    }\n",
              "\n",
              "    .dataframe thead th {\n",
              "        text-align: right;\n",
              "    }\n",
              "</style>\n",
              "<table border=\"1\" class=\"dataframe\">\n",
              "  <thead>\n",
              "    <tr style=\"text-align: right;\">\n",
              "      <th></th>\n",
              "      <th>High Band</th>\n",
              "      <th>Low Band</th>\n",
              "      <th>Mid Band</th>\n",
              "      <th>Channel %</th>\n",
              "      <th>Channel Width</th>\n",
              "      <th>Volume</th>\n",
              "      <th>Open</th>\n",
              "      <th>High</th>\n",
              "      <th>Low</th>\n",
              "      <th>Close</th>\n",
              "    </tr>\n",
              "    <tr>\n",
              "      <th>Close Date</th>\n",
              "      <th></th>\n",
              "      <th></th>\n",
              "      <th></th>\n",
              "      <th></th>\n",
              "      <th></th>\n",
              "      <th></th>\n",
              "      <th></th>\n",
              "      <th></th>\n",
              "      <th></th>\n",
              "      <th></th>\n",
              "    </tr>\n",
              "  </thead>\n",
              "  <tbody>\n",
              "    <tr>\n",
              "      <th>2017-08-17</th>\n",
              "      <td>318.240000</td>\n",
              "      <td>289.880000</td>\n",
              "      <td>NaN</td>\n",
              "      <td>0.427362</td>\n",
              "      <td>NaN</td>\n",
              "      <td>2.154655e+06</td>\n",
              "      <td>301.13</td>\n",
              "      <td>312.18</td>\n",
              "      <td>298.00</td>\n",
              "      <td>302.00</td>\n",
              "    </tr>\n",
              "    <tr>\n",
              "      <th>2017-08-18</th>\n",
              "      <td>321.326667</td>\n",
              "      <td>279.296667</td>\n",
              "      <td>NaN</td>\n",
              "      <td>0.348878</td>\n",
              "      <td>NaN</td>\n",
              "      <td>2.858947e+06</td>\n",
              "      <td>302.00</td>\n",
              "      <td>311.79</td>\n",
              "      <td>283.94</td>\n",
              "      <td>293.96</td>\n",
              "    </tr>\n",
              "    <tr>\n",
              "      <th>2017-08-19</th>\n",
              "      <td>318.052222</td>\n",
              "      <td>275.432222</td>\n",
              "      <td>NaN</td>\n",
              "      <td>0.363158</td>\n",
              "      <td>NaN</td>\n",
              "      <td>6.200226e+05</td>\n",
              "      <td>293.31</td>\n",
              "      <td>299.90</td>\n",
              "      <td>278.00</td>\n",
              "      <td>290.91</td>\n",
              "    </tr>\n",
              "    <tr>\n",
              "      <th>2017-08-20</th>\n",
              "      <td>316.499167</td>\n",
              "      <td>275.694167</td>\n",
              "      <td>NaN</td>\n",
              "      <td>0.573602</td>\n",
              "      <td>NaN</td>\n",
              "      <td>7.428479e+05</td>\n",
              "      <td>289.41</td>\n",
              "      <td>300.53</td>\n",
              "      <td>282.85</td>\n",
              "      <td>299.10</td>\n",
              "    </tr>\n",
              "    <tr>\n",
              "      <th>2017-08-21</th>\n",
              "      <td>327.877333</td>\n",
              "      <td>274.465333</td>\n",
              "      <td>NaN</td>\n",
              "      <td>0.914114</td>\n",
              "      <td>NaN</td>\n",
              "      <td>1.689472e+06</td>\n",
              "      <td>299.10</td>\n",
              "      <td>346.52</td>\n",
              "      <td>294.60</td>\n",
              "      <td>323.29</td>\n",
              "    </tr>\n",
              "    <tr>\n",
              "      <th>...</th>\n",
              "      <td>...</td>\n",
              "      <td>...</td>\n",
              "      <td>...</td>\n",
              "      <td>...</td>\n",
              "      <td>...</td>\n",
              "      <td>...</td>\n",
              "      <td>...</td>\n",
              "      <td>...</td>\n",
              "      <td>...</td>\n",
              "      <td>...</td>\n",
              "    </tr>\n",
              "    <tr>\n",
              "      <th>2021-06-24</th>\n",
              "      <td>2571.482333</td>\n",
              "      <td>2138.745333</td>\n",
              "      <td>2355.113833</td>\n",
              "      <td>-0.344841</td>\n",
              "      <td>18.374356</td>\n",
              "      <td>1.377800e+09</td>\n",
              "      <td>1967.95</td>\n",
              "      <td>2036.61</td>\n",
              "      <td>1884.79</td>\n",
              "      <td>1989.52</td>\n",
              "    </tr>\n",
              "    <tr>\n",
              "      <th>2021-06-25</th>\n",
              "      <td>2530.075500</td>\n",
              "      <td>2100.925500</td>\n",
              "      <td>2315.500500</td>\n",
              "      <td>-0.680661</td>\n",
              "      <td>18.533790</td>\n",
              "      <td>1.612557e+09</td>\n",
              "      <td>1989.53</td>\n",
              "      <td>2019.99</td>\n",
              "      <td>1791.22</td>\n",
              "      <td>1808.82</td>\n",
              "    </tr>\n",
              "    <tr>\n",
              "      <th>2021-06-26</th>\n",
              "      <td>2485.780167</td>\n",
              "      <td>2056.182167</td>\n",
              "      <td>2270.981167</td>\n",
              "      <td>-0.527335</td>\n",
              "      <td>18.916846</td>\n",
              "      <td>1.478551e+09</td>\n",
              "      <td>1808.97</td>\n",
              "      <td>1852.80</td>\n",
              "      <td>1717.32</td>\n",
              "      <td>1829.64</td>\n",
              "    </tr>\n",
              "    <tr>\n",
              "      <th>2021-06-27</th>\n",
              "      <td>2443.605333</td>\n",
              "      <td>2023.738333</td>\n",
              "      <td>2233.671833</td>\n",
              "      <td>-0.098742</td>\n",
              "      <td>18.797166</td>\n",
              "      <td>1.299522e+09</td>\n",
              "      <td>1829.84</td>\n",
              "      <td>1984.50</td>\n",
              "      <td>1804.26</td>\n",
              "      <td>1982.28</td>\n",
              "    </tr>\n",
              "    <tr>\n",
              "      <th>2021-06-28</th>\n",
              "      <td>2415.817167</td>\n",
              "      <td>2009.939167</td>\n",
              "      <td>2212.878167</td>\n",
              "      <td>0.193016</td>\n",
              "      <td>18.341633</td>\n",
              "      <td>1.740555e+09</td>\n",
              "      <td>1982.27</td>\n",
              "      <td>2136.71</td>\n",
              "      <td>1960.52</td>\n",
              "      <td>2088.28</td>\n",
              "    </tr>\n",
              "  </tbody>\n",
              "</table>\n",
              "<p>1412 rows × 10 columns</p>\n",
              "</div>"
            ],
            "text/plain": [
              "              High Band     Low Band     Mid Band  ...     High      Low    Close\n",
              "Close Date                                         ...                           \n",
              "2017-08-17   318.240000   289.880000          NaN  ...   312.18   298.00   302.00\n",
              "2017-08-18   321.326667   279.296667          NaN  ...   311.79   283.94   293.96\n",
              "2017-08-19   318.052222   275.432222          NaN  ...   299.90   278.00   290.91\n",
              "2017-08-20   316.499167   275.694167          NaN  ...   300.53   282.85   299.10\n",
              "2017-08-21   327.877333   274.465333          NaN  ...   346.52   294.60   323.29\n",
              "...                 ...          ...          ...  ...      ...      ...      ...\n",
              "2021-06-24  2571.482333  2138.745333  2355.113833  ...  2036.61  1884.79  1989.52\n",
              "2021-06-25  2530.075500  2100.925500  2315.500500  ...  2019.99  1791.22  1808.82\n",
              "2021-06-26  2485.780167  2056.182167  2270.981167  ...  1852.80  1717.32  1829.64\n",
              "2021-06-27  2443.605333  2023.738333  2233.671833  ...  1984.50  1804.26  1982.28\n",
              "2021-06-28  2415.817167  2009.939167  2212.878167  ...  2136.71  1960.52  2088.28\n",
              "\n",
              "[1412 rows x 10 columns]"
            ]
          },
          "metadata": {},
          "execution_count": 138
        }
      ]
    },
    {
      "cell_type": "code",
      "metadata": {
        "colab": {
          "base_uri": "https://localhost:8080/"
        },
        "id": "7FV45pBdT3Pt",
        "outputId": "a3ff55fe-9842-41a2-8160-ff98a809720f"
      },
      "source": [
        "df_kelt.info()"
      ],
      "execution_count": null,
      "outputs": [
        {
          "output_type": "stream",
          "name": "stdout",
          "text": [
            "<class 'pandas.core.frame.DataFrame'>\n",
            "DatetimeIndex: 1412 entries, 2017-08-17 to 2021-06-28\n",
            "Data columns (total 10 columns):\n",
            " #   Column         Non-Null Count  Dtype  \n",
            "---  ------         --------------  -----  \n",
            " 0   High Band      1412 non-null   float64\n",
            " 1   Low Band       1412 non-null   float64\n",
            " 2   Mid Band       1393 non-null   float64\n",
            " 3   Channel %      1412 non-null   float64\n",
            " 4   Channel Width  1393 non-null   float64\n",
            " 5   Volume         1412 non-null   float64\n",
            " 6   Open           1412 non-null   float64\n",
            " 7   High           1412 non-null   float64\n",
            " 8   Low            1412 non-null   float64\n",
            " 9   Close          1412 non-null   float64\n",
            "dtypes: float64(10)\n",
            "memory usage: 121.3 KB\n"
          ]
        }
      ]
    },
    {
      "cell_type": "code",
      "metadata": {
        "id": "L7BfDbvrV9lk"
      },
      "source": [
        "df_kelt.dropna(inplace=True)"
      ],
      "execution_count": null,
      "outputs": []
    },
    {
      "cell_type": "code",
      "metadata": {
        "colab": {
          "base_uri": "https://localhost:8080/"
        },
        "id": "efHBes3VWKjy",
        "outputId": "a7ea05ff-ef49-4b24-e9e7-49e669b2d7a9"
      },
      "source": [
        "df_kelt.info()"
      ],
      "execution_count": null,
      "outputs": [
        {
          "output_type": "stream",
          "name": "stdout",
          "text": [
            "<class 'pandas.core.frame.DataFrame'>\n",
            "DatetimeIndex: 1393 entries, 2017-09-05 to 2021-06-28\n",
            "Data columns (total 10 columns):\n",
            " #   Column         Non-Null Count  Dtype  \n",
            "---  ------         --------------  -----  \n",
            " 0   High Band      1393 non-null   float64\n",
            " 1   Low Band       1393 non-null   float64\n",
            " 2   Mid Band       1393 non-null   float64\n",
            " 3   Channel %      1393 non-null   float64\n",
            " 4   Channel Width  1393 non-null   float64\n",
            " 5   Volume         1393 non-null   float64\n",
            " 6   Open           1393 non-null   float64\n",
            " 7   High           1393 non-null   float64\n",
            " 8   Low            1393 non-null   float64\n",
            " 9   Close          1393 non-null   float64\n",
            "dtypes: float64(10)\n",
            "memory usage: 119.7 KB\n"
          ]
        }
      ]
    },
    {
      "cell_type": "markdown",
      "metadata": {
        "id": "MkSIy-Yg-ysY"
      },
      "source": [
        "# Create classes"
      ]
    },
    {
      "cell_type": "code",
      "metadata": {
        "id": "cq7bbVal-ysY"
      },
      "source": [
        "# create a column to indicate the price movement: 1 means the price has increased compared to the previous day, 0 means the price has decreased\n",
        "\n",
        "movement_kelt = []\n",
        "\n",
        "for i in range(len(df_kelt)-1):\n",
        "\n",
        "  if df_kelt['Close'][i+1] < df_kelt['Close'][i]:\n",
        "    movement_kelt.append(0)\n",
        "  \n",
        "  else:\n",
        "    movement_kelt.append(1)\n"
      ],
      "execution_count": null,
      "outputs": []
    },
    {
      "cell_type": "code",
      "metadata": {
        "colab": {
          "base_uri": "https://localhost:8080/",
          "height": 234
        },
        "id": "0vT1Nmc3-ysZ",
        "outputId": "a5de2979-f578-4fea-f08b-0b591ccfc815"
      },
      "source": [
        "# datapoint 0 in the dataset will be dropped because there is no price information prior to this day so it can not be put into a class.\n",
        "df_kelt.drop(df_kelt.index[0], inplace=True)\n",
        "df_kelt.head()"
      ],
      "execution_count": null,
      "outputs": [
        {
          "output_type": "execute_result",
          "data": {
            "text/html": [
              "<div>\n",
              "<style scoped>\n",
              "    .dataframe tbody tr th:only-of-type {\n",
              "        vertical-align: middle;\n",
              "    }\n",
              "\n",
              "    .dataframe tbody tr th {\n",
              "        vertical-align: top;\n",
              "    }\n",
              "\n",
              "    .dataframe thead th {\n",
              "        text-align: right;\n",
              "    }\n",
              "</style>\n",
              "<table border=\"1\" class=\"dataframe\">\n",
              "  <thead>\n",
              "    <tr style=\"text-align: right;\">\n",
              "      <th></th>\n",
              "      <th>High Band</th>\n",
              "      <th>Low Band</th>\n",
              "      <th>Mid Band</th>\n",
              "      <th>Channel %</th>\n",
              "      <th>Channel Width</th>\n",
              "      <th>Volume</th>\n",
              "      <th>Open</th>\n",
              "      <th>High</th>\n",
              "      <th>Low</th>\n",
              "      <th>Close</th>\n",
              "    </tr>\n",
              "    <tr>\n",
              "      <th>Close Date</th>\n",
              "      <th></th>\n",
              "      <th></th>\n",
              "      <th></th>\n",
              "      <th></th>\n",
              "      <th></th>\n",
              "      <th></th>\n",
              "      <th></th>\n",
              "      <th></th>\n",
              "      <th></th>\n",
              "      <th></th>\n",
              "    </tr>\n",
              "  </thead>\n",
              "  <tbody>\n",
              "    <tr>\n",
              "      <th>2017-09-06</th>\n",
              "      <td>368.531167</td>\n",
              "      <td>289.249167</td>\n",
              "      <td>328.890167</td>\n",
              "      <td>0.577065</td>\n",
              "      <td>24.105920</td>\n",
              "      <td>1.793963e+06</td>\n",
              "      <td>313.29</td>\n",
              "      <td>336.34</td>\n",
              "      <td>312.09</td>\n",
              "      <td>335.00</td>\n",
              "    </tr>\n",
              "    <tr>\n",
              "      <th>2017-09-07</th>\n",
              "      <td>370.046333</td>\n",
              "      <td>291.316333</td>\n",
              "      <td>330.681333</td>\n",
              "      <td>0.548376</td>\n",
              "      <td>23.808420</td>\n",
              "      <td>1.027136e+06</td>\n",
              "      <td>335.01</td>\n",
              "      <td>342.50</td>\n",
              "      <td>320.17</td>\n",
              "      <td>334.49</td>\n",
              "    </tr>\n",
              "    <tr>\n",
              "      <th>2017-09-08</th>\n",
              "      <td>372.794333</td>\n",
              "      <td>289.944333</td>\n",
              "      <td>331.369333</td>\n",
              "      <td>0.157461</td>\n",
              "      <td>25.002314</td>\n",
              "      <td>1.494310e+06</td>\n",
              "      <td>334.49</td>\n",
              "      <td>335.10</td>\n",
              "      <td>272.00</td>\n",
              "      <td>302.99</td>\n",
              "    </tr>\n",
              "    <tr>\n",
              "      <th>2017-09-09</th>\n",
              "      <td>373.226000</td>\n",
              "      <td>289.610000</td>\n",
              "      <td>331.418000</td>\n",
              "      <td>0.085271</td>\n",
              "      <td>25.229770</td>\n",
              "      <td>8.137504e+05</td>\n",
              "      <td>300.01</td>\n",
              "      <td>307.00</td>\n",
              "      <td>281.66</td>\n",
              "      <td>296.74</td>\n",
              "    </tr>\n",
              "    <tr>\n",
              "      <th>2017-09-10</th>\n",
              "      <td>370.932500</td>\n",
              "      <td>288.333500</td>\n",
              "      <td>329.633000</td>\n",
              "      <td>0.062549</td>\n",
              "      <td>25.057867</td>\n",
              "      <td>1.181904e+06</td>\n",
              "      <td>296.72</td>\n",
              "      <td>302.78</td>\n",
              "      <td>261.03</td>\n",
              "      <td>293.50</td>\n",
              "    </tr>\n",
              "  </tbody>\n",
              "</table>\n",
              "</div>"
            ],
            "text/plain": [
              "             High Band    Low Band    Mid Band  ...    High     Low   Close\n",
              "Close Date                                      ...                        \n",
              "2017-09-06  368.531167  289.249167  328.890167  ...  336.34  312.09  335.00\n",
              "2017-09-07  370.046333  291.316333  330.681333  ...  342.50  320.17  334.49\n",
              "2017-09-08  372.794333  289.944333  331.369333  ...  335.10  272.00  302.99\n",
              "2017-09-09  373.226000  289.610000  331.418000  ...  307.00  281.66  296.74\n",
              "2017-09-10  370.932500  288.333500  329.633000  ...  302.78  261.03  293.50\n",
              "\n",
              "[5 rows x 10 columns]"
            ]
          },
          "metadata": {},
          "execution_count": 143
        }
      ]
    },
    {
      "cell_type": "code",
      "metadata": {
        "id": "lWjhedoX-ysZ"
      },
      "source": [
        "df_kelt['Price Movement'] = np.array(movement_kelt)"
      ],
      "execution_count": null,
      "outputs": []
    },
    {
      "cell_type": "markdown",
      "metadata": {
        "id": "rbsNxt71-ysZ"
      },
      "source": [
        "# Split dataset into training, validation and testing datasets"
      ]
    },
    {
      "cell_type": "markdown",
      "metadata": {
        "id": "g-bwCXQu-ysZ"
      },
      "source": [
        " \n",
        "#### 61.45% of the data will be used for training, 12.7% will be used as the validation set and the remaining 25.85% will be used as the test set"
      ]
    },
    {
      "cell_type": "code",
      "metadata": {
        "id": "FLrjsCKJ-ysZ"
      },
      "source": [
        "split_kelt = int(len(df_kelt)*0.6145)\n",
        "kelt_training_set = df_kelt[:split_kelt]      # 18/8/2017 - 1/1/2020\n",
        "\n",
        "kelt_subset = df_kelt[split_kelt:]\n",
        "split2_kelt = int(len(kelt_subset)*0.3303)\n",
        "\n",
        "kelt_val_set = kelt_subset[:split2_kelt]      # 2/1/2020 - 28/6/2020\n",
        "kelt_test_set = kelt_subset[split2_kelt:]     # 29/6/2020 - 28/6/2021"
      ],
      "execution_count": null,
      "outputs": []
    },
    {
      "cell_type": "code",
      "metadata": {
        "colab": {
          "base_uri": "https://localhost:8080/"
        },
        "id": "PkgGTP7J-ysZ",
        "outputId": "32444877-09c8-4fba-c6c0-db3220778a40"
      },
      "source": [
        "print('Training: ', kelt_training_set.shape, '\\nValidation: ', kelt_val_set.shape, '\\nTest: ', kelt_test_set.shape)"
      ],
      "execution_count": null,
      "outputs": [
        {
          "output_type": "stream",
          "name": "stdout",
          "text": [
            "Training:  (855, 11) \n",
            "Validation:  (177, 11) \n",
            "Test:  (360, 11)\n"
          ]
        }
      ]
    },
    {
      "cell_type": "markdown",
      "metadata": {
        "id": "lOjaJZQw-ysZ"
      },
      "source": [
        "# Split the data into X variables and y targets"
      ]
    },
    {
      "cell_type": "code",
      "metadata": {
        "colab": {
          "base_uri": "https://localhost:8080/"
        },
        "id": "wTiemLlP-ysZ",
        "outputId": "15a43704-8163-4bae-9aba-0de5e7fa2762"
      },
      "source": [
        "kelt_X_training = (kelt_training_set.iloc[:, :-1]).values.reshape(kelt_training_set.shape[0],kelt_training_set.shape[1]-1)\n",
        "kelt_y_training = (kelt_training_set.iloc[:, -1]).values.reshape(kelt_training_set.shape[0],1)\n",
        "\n",
        "print(kelt_X_training.shape, kelt_y_training.shape)\n",
        "\n",
        "kelt_X_valid = (kelt_val_set.iloc[:, :-1]).values.reshape(kelt_val_set.shape[0],kelt_val_set.shape[1]-1)\n",
        "kelt_y_valid = (kelt_val_set.iloc[:, -1]).values.reshape(kelt_val_set.shape[0],1)\n",
        "\n",
        "print(kelt_X_valid.shape, kelt_y_valid.shape)\n",
        "\n",
        "kelt_X_testing = (kelt_test_set.iloc[:, :-1]).values.reshape(kelt_test_set.shape[0],kelt_test_set.shape[1]-1)\n",
        "kelt_y_testing = (kelt_test_set.iloc[:, -1]).values.reshape(kelt_test_set.shape[0],1)\n",
        "\n",
        "print(kelt_X_testing.shape, kelt_y_testing.shape)"
      ],
      "execution_count": null,
      "outputs": [
        {
          "output_type": "stream",
          "name": "stdout",
          "text": [
            "(855, 10) (855, 1)\n",
            "(177, 10) (177, 1)\n",
            "(360, 10) (360, 1)\n"
          ]
        }
      ]
    },
    {
      "cell_type": "markdown",
      "metadata": {
        "id": "ZJJNlbef-ysa"
      },
      "source": [
        "### The proportion of 'down' to 'up' classes in the dataset will be the same as the original dataset so I won't check for class imbalance again here\n"
      ]
    },
    {
      "cell_type": "markdown",
      "metadata": {
        "id": "UlYp_70D-ysa"
      },
      "source": [
        "# Normalisation"
      ]
    },
    {
      "cell_type": "markdown",
      "metadata": {
        "id": "phRKZ3zS-ysa"
      },
      "source": [
        "#### The values need to be scaled to between 0 and 1 so I will use MinMaxScaler from scikit-learn to do this.\n",
        "#### https://scikit-learn.org/stable/modules/generated/sklearn.preprocessing.MinMaxScaler.html"
      ]
    },
    {
      "cell_type": "code",
      "metadata": {
        "id": "rI08ompc-ysa"
      },
      "source": [
        "kelt_Xscaler = MinMaxScaler(feature_range=(0,1))\n",
        "kelt_yscaler = MinMaxScaler(feature_range=(0,1))\n",
        "\n",
        "kelt_X_train = kelt_Xscaler.fit_transform(kelt_X_training)\n",
        "kelt_y_train = kelt_yscaler.fit_transform(kelt_y_training)\n",
        "\n",
        "kelt_X_val = kelt_Xscaler.fit_transform(kelt_X_valid)\n",
        "kelt_y_val = kelt_yscaler.fit_transform(kelt_y_valid)\n",
        "\n",
        "kelt_X_test = kelt_Xscaler.fit_transform(kelt_X_testing)\n",
        "kelt_y_test = kelt_yscaler.fit_transform(kelt_y_testing)"
      ],
      "execution_count": null,
      "outputs": []
    },
    {
      "cell_type": "markdown",
      "metadata": {
        "id": "33YEU7MD-ysa"
      },
      "source": [
        "## Prepare data for multi-step LSTM\n",
        "##### source code: https://pangkh98.medium.com/multi-step-multivariate-time-series-forecasting-using-lstm-92c6d22cd9c2"
      ]
    },
    {
      "cell_type": "code",
      "metadata": {
        "colab": {
          "base_uri": "https://localhost:8080/"
        },
        "id": "XrXWTKxt-ysa",
        "outputId": "004a3f96-b189-466f-8471-039b22998d16"
      },
      "source": [
        "# stack the data horizontally\n",
        "\n",
        "kelt_train_stacked = np.hstack((kelt_X_training, kelt_y_training))\n",
        "print (\"Stacked (Keltner Channel Input) Training Data Shape: \" , kelt_train_stacked.shape)\n",
        "\n",
        "kelt_val_stacked = np.hstack((kelt_X_valid, kelt_y_valid))\n",
        "print (\"Stacked (Keltner Channel Input) Validation Data Shape: \" , kelt_val_stacked.shape)\n",
        "\n",
        "kelt_test_stacked = np.hstack((kelt_X_testing, kelt_y_testing))\n",
        "print (\"Stacked (Keltner Channel Input) Test Data Shape: \" , kelt_test_stacked.shape)"
      ],
      "execution_count": null,
      "outputs": [
        {
          "output_type": "stream",
          "name": "stdout",
          "text": [
            "Stacked (Keltner Channel Input) Training Data Shape:  (855, 11)\n",
            "Stacked (Keltner Channel Input) Validation Data Shape:  (177, 11)\n",
            "Stacked (Keltner Channel Input) Test Data Shape:  (360, 11)\n"
          ]
        }
      ]
    },
    {
      "cell_type": "code",
      "metadata": {
        "colab": {
          "base_uri": "https://localhost:8080/"
        },
        "id": "VYRlZotA-ysa",
        "outputId": "a5dee262-50a6-44c7-fdcc-3991ca41c0a5"
      },
      "source": [
        "# choose a number of time steps \n",
        "n_steps_in, n_steps_out = 14, 14\n",
        "\n",
        "# run function\n",
        "kelt_X_train, kelt_y_train = create_sequences(kelt_train_stacked, n_steps_in, n_steps_out)\n",
        "print (\"X train sequences (Keltner Channel Input): \" , kelt_X_train.shape, \"y train sequences (Keltner Channel Input): \" , kelt_y_train.shape)            \n",
        "\n",
        "kelt_X_val, kelt_y_val = create_sequences(kelt_val_stacked, n_steps_in, n_steps_out)\n",
        "print (\"X val sequences (Keltner Channel Input): \" , kelt_X_val.shape, \"y val sequences (Keltner Channel Input): \" , kelt_y_val.shape) \n",
        "\n",
        "kelt_X_test, kelt_y_test = create_sequences(kelt_test_stacked, n_steps_in, n_steps_out)\n",
        "print (\"X test sequences (Keltner Channel Input): \" , kelt_X_test.shape, \"y test sequences (Keltner Channel Input): \" , kelt_y_test.shape)      "
      ],
      "execution_count": null,
      "outputs": [
        {
          "output_type": "stream",
          "name": "stdout",
          "text": [
            "X train sequences (Keltner Channel Input):  (829, 14, 10) y train sequences (Keltner Channel Input):  (829, 14)\n",
            "X val sequences (Keltner Channel Input):  (151, 14, 10) y val sequences (Keltner Channel Input):  (151, 14)\n",
            "X test sequences (Keltner Channel Input):  (334, 14, 10) y test sequences (Keltner Channel Input):  (334, 14)\n"
          ]
        }
      ]
    },
    {
      "cell_type": "markdown",
      "metadata": {
        "id": "axdyg8NXDBY5"
      },
      "source": [
        "#### I will create a Bidirectional LSTM Classification Model with the same optimal parameters and architecture selected from hypertuning. This model will be trained on the dataset that contains the Keltner Channel Input."
      ]
    },
    {
      "cell_type": "code",
      "metadata": {
        "id": "zwxNCdynDBZD"
      },
      "source": [
        "kelt_n_features = kelt_X_train.shape[2]\n",
        "\n",
        "kelt_model = Sequential()\n",
        "kelt_model.add(Bidirectional(LSTM(units=90, activation='relu', return_sequences=True), input_shape=(n_steps_in, kelt_n_features), merge_mode='ave'))\n",
        "kelt_model.add(Bidirectional(LSTM(units=90, activation='relu', return_sequences=True), merge_mode='ave'))\n",
        "kelt_model.add(Dropout(0.3))\n",
        "kelt_model.add(Bidirectional(LSTM(units=90, activation='relu', return_sequences=True), merge_mode='ave'))\n",
        "kelt_model.add(Dropout(0.3))\n",
        "kelt_model.add(Bidirectional(LSTM(units=90, activation='relu', return_sequences=True), merge_mode='ave'))\n",
        "kelt_model.add(Dropout(0.3))\n",
        "kelt_model.add(TimeDistributed(Dense(1, activation='sigmoid')))\n",
        "kelt_model.compile(loss='binary_crossentropy' , optimizer=keras.optimizers.Adam(learning_rate= 0.00001) , metrics=['accuracy'])"
      ],
      "execution_count": null,
      "outputs": []
    },
    {
      "cell_type": "code",
      "metadata": {
        "colab": {
          "base_uri": "https://localhost:8080/"
        },
        "id": "x-lE_lXtDBZD",
        "outputId": "ff46306b-9ad7-4e82-8950-df5d30cb6034"
      },
      "source": [
        "kelt_model.summary()"
      ],
      "execution_count": null,
      "outputs": [
        {
          "output_type": "stream",
          "name": "stdout",
          "text": [
            "Model: \"sequential_3\"\n",
            "_________________________________________________________________\n",
            "Layer (type)                 Output Shape              Param #   \n",
            "=================================================================\n",
            "bidirectional_12 (Bidirectio (None, 14, 90)            72720     \n",
            "_________________________________________________________________\n",
            "bidirectional_13 (Bidirectio (None, 14, 90)            130320    \n",
            "_________________________________________________________________\n",
            "dropout_9 (Dropout)          (None, 14, 90)            0         \n",
            "_________________________________________________________________\n",
            "bidirectional_14 (Bidirectio (None, 14, 90)            130320    \n",
            "_________________________________________________________________\n",
            "dropout_10 (Dropout)         (None, 14, 90)            0         \n",
            "_________________________________________________________________\n",
            "bidirectional_15 (Bidirectio (None, 14, 90)            130320    \n",
            "_________________________________________________________________\n",
            "dropout_11 (Dropout)         (None, 14, 90)            0         \n",
            "_________________________________________________________________\n",
            "time_distributed_3 (TimeDist (None, 14, 1)             91        \n",
            "=================================================================\n",
            "Total params: 463,771\n",
            "Trainable params: 463,771\n",
            "Non-trainable params: 0\n",
            "_________________________________________________________________\n"
          ]
        }
      ]
    },
    {
      "cell_type": "markdown",
      "metadata": {
        "id": "XAMTEg-JDzzN"
      },
      "source": [
        "### Train and test the model 5 times to get a list of scores to use later for statistical comparison."
      ]
    },
    {
      "cell_type": "code",
      "metadata": {
        "colab": {
          "base_uri": "https://localhost:8080/",
          "height": 1000
        },
        "id": "cxE_J0E1DzzN",
        "outputId": "a16ab956-9f03-437c-8779-d04fcb748c86"
      },
      "source": [
        "kelt_acc_list = []\n",
        "kelt_fscore_list = []\n",
        "\n",
        "for i in range(5):\n",
        "\n",
        "  # fit model\n",
        "  print('\\nTraining Number ', i)\n",
        "  kelt_model.fit(kelt_X_train , kelt_y_train , epochs=100 , verbose=0 , validation_data=(kelt_X_val, kelt_y_val) ,shuffle=False)\n",
        "\n",
        "  #predict\n",
        "\n",
        "  kelt_test_pred = kelt_model.predict(kelt_X_test)\n",
        "\n",
        "  # generate the metric scores\n",
        "\n",
        "  kelt_y_test_reshaped = kelt_y_test.reshape(kelt_y_test.shape[0], kelt_y_test.shape[1])\n",
        "\n",
        "  kelt_test_loss, kelt_test_accuracy = kelt_model.evaluate(kelt_X_test, kelt_y_test_reshaped, verbose = 0)\n",
        "\n",
        "  kelt_test_pred = kelt_test_pred.astype(int).reshape(-1)\n",
        "  kelt_y_test_flat = kelt_y_test.astype(int).reshape(-1)\n",
        "\n",
        "  kelt_fscore = f1_score(kelt_y_test_flat, kelt_test_pred, average='weighted')\n",
        "\n",
        "  print('Test Accuracy: ', float('%.3g' % kelt_test_accuracy)*100, '|| Test F-score: ', float('%.3g' % kelt_fscore), '\\n')\n",
        "\n",
        "  kelt_acc_list.append(kelt_test_accuracy)\n",
        "  kelt_fscore_list.append(kelt_fscore)\n",
        "\n",
        "  kelt_matrix = confusion_matrix(kelt_y_test_flat, kelt_test_pred, normalize='all')\n",
        "  kelt_matrix_image = ConfusionMatrixDisplay(confusion_matrix=kelt_matrix, display_labels=[0,1])\n",
        "  kelt_matrix_image.plot(cmap='Blues') \n",
        "\n",
        "print('\\nKeltner Channel Input - Classification BiLSTM Model -- \\nAverage Test Accuracy: ', float('%.3g' % np.mean(kelt_acc_list))*100, \n",
        "      ' ||  Average Test F-score: ', float('%.3g' % np.mean(kelt_fscore_list)))\n"
      ],
      "execution_count": null,
      "outputs": [
        {
          "output_type": "stream",
          "name": "stdout",
          "text": [
            "\n",
            "Training Number  0\n",
            "Test Accuracy:  47.199999999999996 || Test F-score:  0.459 \n",
            "\n",
            "\n",
            "Training Number  1\n",
            "Test Accuracy:  48.699999999999996 || Test F-score:  0.478 \n",
            "\n",
            "\n",
            "Training Number  2\n",
            "Test Accuracy:  46.300000000000004 || Test F-score:  0.451 \n",
            "\n",
            "\n",
            "Training Number  3\n",
            "Test Accuracy:  47.4 || Test F-score:  0.456 \n",
            "\n",
            "\n",
            "Training Number  4\n",
            "Test Accuracy:  47.3 || Test F-score:  0.46 \n",
            "\n",
            "\n",
            "Keltner Channel Input - Classification BiLSTM Model -- \n",
            "Average Test Accuracy:  47.4  ||  Average Test F-score:  0.461\n"
          ]
        },
        {
          "output_type": "display_data",
          "data": {
            "image/png": "[encoded data removed]",
            "text/plain": [
              "<Figure size 432x288 with 2 Axes>"
            ]
          },
          "metadata": {
            "needs_background": "light"
          }
        },
        {
          "output_type": "display_data",
          "data": {
            "image/png": "[encoded data removed]",
            "text/plain": [
              "<Figure size 432x288 with 2 Axes>"
            ]
          },
          "metadata": {
            "needs_background": "light"
          }
        },
        {
          "output_type": "display_data",
          "data": {
            "image/png": "[encoded data removed]",
            "text/plain": [
              "<Figure size 432x288 with 2 Axes>"
            ]
          },
          "metadata": {
            "needs_background": "light"
          }
        },
        {
          "output_type": "display_data",
          "data": {
            "image/png": "[encoded data removed]",
            "text/plain": [
              "<Figure size 432x288 with 2 Axes>"
            ]
          },
          "metadata": {
            "needs_background": "light"
          }
        },
        {
          "output_type": "display_data",
          "data": {
            "image/png": "[encoded data removed]",
            "text/plain": [
              "<Figure size 432x288 with 2 Axes>"
            ]
          },
          "metadata": {
            "needs_background": "light"
          }
        }
      ]
    },
    {
      "cell_type": "markdown",
      "metadata": {
        "id": "kYhackYPwbrM"
      },
      "source": [
        "# **Statistical comparison of results**\n",
        "##### The dataset was determined to be non-parametric during the Exploratory Data Analysis stage. The models also have been trained on different training sets therefore I will be using a non-parametric, unpaired statistical hypothesis test to compare the performance of the baseline models with the models that have had additonal input.\n",
        "##### I will be using the Mann-Whitney U Test from the SciPy Stats module on the scores for each of the models https://docs.scipy.org/doc/scipy/reference/generated/scipy.stats.mannwhitneyu.html\n",
        "\n",
        "*   If p <= 0.05 then the null hypothesis is rejected. There is a statistically significant difference between the performances of the models.\n",
        "*   If p > 0.05 then we accept the null hypothesis that there is no significant difference between the two performances and any potential differences are by chance.\n",
        "\n"
      ]
    },
    {
      "cell_type": "code",
      "metadata": {
        "colab": {
          "base_uri": "https://localhost:8080/"
        },
        "id": "cPZl0ycBdrJ0",
        "outputId": "6f324474-04ab-4306-cd2e-d90e1dd65878"
      },
      "source": [
        "# BTC model vs Baseline\n",
        "# Accuracy\n",
        "stat1a, p1a = mannwhitneyu(acc_list, btc_acc_list)\n",
        "print('BTC Model: Accuracy p-value is ', float('%.3g' % p1a))\n",
        "# F1-Score\n",
        "stat1b, p1b = mannwhitneyu(fscore_list, btc_fscore_list)\n",
        "print('BTC Model: F1-Score p-value is ', float('%.3g' % p1b))\n",
        "\n",
        "# LTC model vs Baseline\n",
        "# Accuracy\n",
        "stat2a, p2a = mannwhitneyu(acc_list, ltc_acc_list)\n",
        "print('\\nLTC Model: Accuracy p-value is ', float('%.3g' % p2a))\n",
        "# F1-Score\n",
        "stat2b, p2b = mannwhitneyu(fscore_list, ltc_fscore_list)\n",
        "print('LTC Model: F1-Score p-value is ', float('%.3g' % p2b))\n",
        "\n",
        "# Keltner Channel model vs Baseline\n",
        "# Accuracy\n",
        "stat3a, p3a = mannwhitneyu(acc_list, kelt_acc_list)\n",
        "print('\\nKeltner Channel Model: Accuracy p-value is ', float('%.3g' % p3a))\n",
        "# F1-Score\n",
        "stat3b, p3b = mannwhitneyu(fscore_list, kelt_fscore_list)\n",
        "print('Keltner Channel Model: F1-Score p-value is ', float('%.3g' % p3b))"
      ],
      "execution_count": null,
      "outputs": [
        {
          "output_type": "stream",
          "name": "stdout",
          "text": [
            "BTC Model: Accuracy p-value is  0.338\n",
            "BTC Model: F1-Score p-value is  0.0184\n",
            "\n",
            "LTC Model: Accuracy p-value is  0.00596\n",
            "LTC Model: F1-Score p-value is  0.00609\n",
            "\n",
            "Keltner Channel Model: Accuracy p-value is  0.00596\n",
            "Keltner Channel Model: F1-Score p-value is  0.00609\n"
          ]
        }
      ]
    }
  ]
}