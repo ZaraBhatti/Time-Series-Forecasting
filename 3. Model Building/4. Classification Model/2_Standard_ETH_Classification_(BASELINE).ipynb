{
  "nbformat": 4,
  "nbformat_minor": 0,
  "metadata": {
    "colab": {
      "name": "Standard_dataset_classification_(BASELINE).ipynb",
      "provenance": [],
      "collapsed_sections": []
    },
    "kernelspec": {
      "display_name": "Python 3",
      "language": "python",
      "name": "python3"
    },
    "language_info": {
      "codemirror_mode": {
        "name": "ipython",
        "version": 3
      },
      "file_extension": ".py",
      "mimetype": "text/x-python",
      "name": "python",
      "nbconvert_exporter": "python",
      "pygments_lexer": "ipython3",
      "version": "3.8.3"
    }
  },
  "cells": [
    {
      "cell_type": "code",
      "metadata": {
        "id": "2FeaAPfJb9ft"
      },
      "source": [
        "import pandas as pd\n",
        "import numpy as np\n",
        "import matplotlib.pyplot as plt\n",
        "import seaborn as sns\n",
        "import matplotlib.dates as mdates\n",
        "from sklearn.preprocessing import MinMaxScaler\n",
        "from tensorflow.keras.models import Sequential, load_model\n",
        "from tensorflow.keras.layers import Dense,LSTM,Activation,Dropout,TimeDistributed,Bidirectional\n",
        "from tensorflow import keras\n",
        "import tensorflow as tf\n",
        "from sklearn.metrics import f1_score"
      ],
      "execution_count": 32,
      "outputs": []
    },
    {
      "cell_type": "code",
      "metadata": {
        "colab": {
          "base_uri": "https://localhost:8080/"
        },
        "id": "r-2wnAMruOSE",
        "outputId": "681ff82a-12ae-4a39-90fb-1896f7ebd66f"
      },
      "source": [
        "# I used Google Chrome whilst working in Google Colab so I was able to complete this step by recieving the authorisation code after logging into my gmail account.\n",
        "# Users may need to also use Google Chrome to run this code and connect via the browser to your gmail when prompted.\n",
        "\n",
        "from google.colab import drive\n",
        "drive.mount('/content/drive')"
      ],
      "execution_count": 2,
      "outputs": [
        {
          "output_type": "stream",
          "name": "stdout",
          "text": [
            "Mounted at /content/drive\n"
          ]
        }
      ]
    },
    {
      "cell_type": "markdown",
      "metadata": {
        "id": "kHx3s20Rb9fy"
      },
      "source": [
        "# Load the dataset"
      ]
    },
    {
      "cell_type": "code",
      "metadata": {
        "colab": {
          "resources": {
            "http://localhost:8080/nbextensions/google.colab/files.js": {
              "data": "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",
              "ok": true,
              "headers": [
                [
                  "content-type",
                  "application/javascript"
                ]
              ],
              "status": 200,
              "status_text": ""
            }
          },
          "base_uri": "https://localhost:8080/",
          "height": 74
        },
        "id": "eMXMMRUWuk0F",
        "outputId": "22714766-8ac3-4adb-9e51-ae8819ea7d41"
      },
      "source": [
        "from google.colab import files\n",
        "import io\n",
        "uploaded = files.upload()"
      ],
      "execution_count": 3,
      "outputs": [
        {
          "output_type": "display_data",
          "data": {
            "text/html": [
              "\n",
              "     <input type=\"file\" id=\"files-ebfb9ab8-fda4-4ad5-9a7a-51c793ea6384\" name=\"files[]\" multiple disabled\n",
              "        style=\"border:none\" />\n",
              "     <output id=\"result-ebfb9ab8-fda4-4ad5-9a7a-51c793ea6384\">\n",
              "      Upload widget is only available when the cell has been executed in the\n",
              "      current browser session. Please rerun this cell to enable.\n",
              "      </output>\n",
              "      <script src=\"/nbextensions/google.colab/files.js\"></script> "
            ],
            "text/plain": [
              "<IPython.core.display.HTML object>"
            ]
          },
          "metadata": {}
        },
        {
          "output_type": "stream",
          "name": "stdout",
          "text": [
            "Saving dataset.csv to dataset.csv\n"
          ]
        }
      ]
    },
    {
      "cell_type": "code",
      "metadata": {
        "id": "v89NaOAlumND"
      },
      "source": [
        "df = pd.read_csv(io.BytesIO(uploaded['dataset.csv']), header=None)"
      ],
      "execution_count": 4,
      "outputs": []
    },
    {
      "cell_type": "code",
      "metadata": {
        "id": "ut4tcQUib9fz"
      },
      "source": [
        "#df = pd.read_csv('dataset.csv', header=None)\n",
        "\n",
        "df.columns = ['Open Time', 'Open', 'High', 'Low', 'Close', 'Volume (ETH)', 'Close Time', 'Quote Asset Volume (USDT)', \n",
        "              'No. of trades', 'Buy Base Volume (ETH)', 'Buy Quote Volume (USDT)', 'Ignore']"
      ],
      "execution_count": 5,
      "outputs": []
    },
    {
      "cell_type": "markdown",
      "metadata": {
        "id": "hzkJHzWTb9f1"
      },
      "source": [
        "# Preprocessing steps \n",
        "##### (Explained in the workbook titled 'Exploratory Data Analysis & Preprocessing)"
      ]
    },
    {
      "cell_type": "code",
      "metadata": {
        "id": "0jOAG2clb9f2"
      },
      "source": [
        "df['Open Date'] = pd.to_datetime(df['Open Time'], unit='ms')"
      ],
      "execution_count": 6,
      "outputs": []
    },
    {
      "cell_type": "code",
      "metadata": {
        "id": "_XlN1AtMb9f2"
      },
      "source": [
        "df['Close Date'] = pd.to_datetime(df['Close Time'], unit='ms')"
      ],
      "execution_count": 7,
      "outputs": []
    },
    {
      "cell_type": "code",
      "metadata": {
        "id": "rbj3JkZjb9f3"
      },
      "source": [
        "df['Close Date'] = df['Close Date'].dt.normalize()"
      ],
      "execution_count": 8,
      "outputs": []
    },
    {
      "cell_type": "code",
      "metadata": {
        "id": "8MwpH5clb9f4"
      },
      "source": [
        "df.drop(['Open Time', 'Close Time'], axis=1, inplace=True)"
      ],
      "execution_count": 9,
      "outputs": []
    },
    {
      "cell_type": "code",
      "metadata": {
        "id": "6iF_cLTSb9f4"
      },
      "source": [
        "df.drop(['Ignore', 'Volume (ETH)', 'No. of trades', 'Buy Base Volume (ETH)', 'Buy Quote Volume (USDT)', 'Open Date'], axis=1, inplace=True)"
      ],
      "execution_count": 10,
      "outputs": []
    },
    {
      "cell_type": "code",
      "metadata": {
        "id": "JRR_2rsib9f5"
      },
      "source": [
        "df.rename(columns = {'Quote Asset Volume (USDT)':'Volume'}, inplace = True)"
      ],
      "execution_count": 11,
      "outputs": []
    },
    {
      "cell_type": "code",
      "metadata": {
        "colab": {
          "base_uri": "https://localhost:8080/",
          "height": 234
        },
        "id": "W4kDcSwfb9f6",
        "outputId": "1232ba5a-d894-4fbd-d758-bb106836477f"
      },
      "source": [
        "df.set_index('Close Date', inplace=True)\n",
        "df.head()"
      ],
      "execution_count": 12,
      "outputs": [
        {
          "output_type": "execute_result",
          "data": {
            "text/html": [
              "<div>\n",
              "<style scoped>\n",
              "    .dataframe tbody tr th:only-of-type {\n",
              "        vertical-align: middle;\n",
              "    }\n",
              "\n",
              "    .dataframe tbody tr th {\n",
              "        vertical-align: top;\n",
              "    }\n",
              "\n",
              "    .dataframe thead th {\n",
              "        text-align: right;\n",
              "    }\n",
              "</style>\n",
              "<table border=\"1\" class=\"dataframe\">\n",
              "  <thead>\n",
              "    <tr style=\"text-align: right;\">\n",
              "      <th></th>\n",
              "      <th>Open</th>\n",
              "      <th>High</th>\n",
              "      <th>Low</th>\n",
              "      <th>Close</th>\n",
              "      <th>Volume</th>\n",
              "    </tr>\n",
              "    <tr>\n",
              "      <th>Close Date</th>\n",
              "      <th></th>\n",
              "      <th></th>\n",
              "      <th></th>\n",
              "      <th></th>\n",
              "      <th></th>\n",
              "    </tr>\n",
              "  </thead>\n",
              "  <tbody>\n",
              "    <tr>\n",
              "      <th>2017-08-17</th>\n",
              "      <td>301.13</td>\n",
              "      <td>312.18</td>\n",
              "      <td>298.00</td>\n",
              "      <td>302.00</td>\n",
              "      <td>2.154655e+06</td>\n",
              "    </tr>\n",
              "    <tr>\n",
              "      <th>2017-08-18</th>\n",
              "      <td>302.00</td>\n",
              "      <td>311.79</td>\n",
              "      <td>283.94</td>\n",
              "      <td>293.96</td>\n",
              "      <td>2.858947e+06</td>\n",
              "    </tr>\n",
              "    <tr>\n",
              "      <th>2017-08-19</th>\n",
              "      <td>293.31</td>\n",
              "      <td>299.90</td>\n",
              "      <td>278.00</td>\n",
              "      <td>290.91</td>\n",
              "      <td>6.200226e+05</td>\n",
              "    </tr>\n",
              "    <tr>\n",
              "      <th>2017-08-20</th>\n",
              "      <td>289.41</td>\n",
              "      <td>300.53</td>\n",
              "      <td>282.85</td>\n",
              "      <td>299.10</td>\n",
              "      <td>7.428479e+05</td>\n",
              "    </tr>\n",
              "    <tr>\n",
              "      <th>2017-08-21</th>\n",
              "      <td>299.10</td>\n",
              "      <td>346.52</td>\n",
              "      <td>294.60</td>\n",
              "      <td>323.29</td>\n",
              "      <td>1.689472e+06</td>\n",
              "    </tr>\n",
              "  </tbody>\n",
              "</table>\n",
              "</div>"
            ],
            "text/plain": [
              "              Open    High     Low   Close        Volume\n",
              "Close Date                                              \n",
              "2017-08-17  301.13  312.18  298.00  302.00  2.154655e+06\n",
              "2017-08-18  302.00  311.79  283.94  293.96  2.858947e+06\n",
              "2017-08-19  293.31  299.90  278.00  290.91  6.200226e+05\n",
              "2017-08-20  289.41  300.53  282.85  299.10  7.428479e+05\n",
              "2017-08-21  299.10  346.52  294.60  323.29  1.689472e+06"
            ]
          },
          "metadata": {},
          "execution_count": 12
        }
      ]
    },
    {
      "cell_type": "code",
      "metadata": {
        "id": "-a-XRuDNv17D"
      },
      "source": [
        "columns = df.columns.tolist()\n",
        "columns = columns[-1:] + columns[:-1]\n",
        "df = df[columns]"
      ],
      "execution_count": 13,
      "outputs": []
    },
    {
      "cell_type": "code",
      "metadata": {
        "colab": {
          "base_uri": "https://localhost:8080/",
          "height": 234
        },
        "id": "xC7TQSxZwKLk",
        "outputId": "90b656a6-6458-4665-97aa-39f1c70795a0"
      },
      "source": [
        "df.head()"
      ],
      "execution_count": 14,
      "outputs": [
        {
          "output_type": "execute_result",
          "data": {
            "text/html": [
              "<div>\n",
              "<style scoped>\n",
              "    .dataframe tbody tr th:only-of-type {\n",
              "        vertical-align: middle;\n",
              "    }\n",
              "\n",
              "    .dataframe tbody tr th {\n",
              "        vertical-align: top;\n",
              "    }\n",
              "\n",
              "    .dataframe thead th {\n",
              "        text-align: right;\n",
              "    }\n",
              "</style>\n",
              "<table border=\"1\" class=\"dataframe\">\n",
              "  <thead>\n",
              "    <tr style=\"text-align: right;\">\n",
              "      <th></th>\n",
              "      <th>Volume</th>\n",
              "      <th>Open</th>\n",
              "      <th>High</th>\n",
              "      <th>Low</th>\n",
              "      <th>Close</th>\n",
              "    </tr>\n",
              "    <tr>\n",
              "      <th>Close Date</th>\n",
              "      <th></th>\n",
              "      <th></th>\n",
              "      <th></th>\n",
              "      <th></th>\n",
              "      <th></th>\n",
              "    </tr>\n",
              "  </thead>\n",
              "  <tbody>\n",
              "    <tr>\n",
              "      <th>2017-08-17</th>\n",
              "      <td>2.154655e+06</td>\n",
              "      <td>301.13</td>\n",
              "      <td>312.18</td>\n",
              "      <td>298.00</td>\n",
              "      <td>302.00</td>\n",
              "    </tr>\n",
              "    <tr>\n",
              "      <th>2017-08-18</th>\n",
              "      <td>2.858947e+06</td>\n",
              "      <td>302.00</td>\n",
              "      <td>311.79</td>\n",
              "      <td>283.94</td>\n",
              "      <td>293.96</td>\n",
              "    </tr>\n",
              "    <tr>\n",
              "      <th>2017-08-19</th>\n",
              "      <td>6.200226e+05</td>\n",
              "      <td>293.31</td>\n",
              "      <td>299.90</td>\n",
              "      <td>278.00</td>\n",
              "      <td>290.91</td>\n",
              "    </tr>\n",
              "    <tr>\n",
              "      <th>2017-08-20</th>\n",
              "      <td>7.428479e+05</td>\n",
              "      <td>289.41</td>\n",
              "      <td>300.53</td>\n",
              "      <td>282.85</td>\n",
              "      <td>299.10</td>\n",
              "    </tr>\n",
              "    <tr>\n",
              "      <th>2017-08-21</th>\n",
              "      <td>1.689472e+06</td>\n",
              "      <td>299.10</td>\n",
              "      <td>346.52</td>\n",
              "      <td>294.60</td>\n",
              "      <td>323.29</td>\n",
              "    </tr>\n",
              "  </tbody>\n",
              "</table>\n",
              "</div>"
            ],
            "text/plain": [
              "                  Volume    Open    High     Low   Close\n",
              "Close Date                                              \n",
              "2017-08-17  2.154655e+06  301.13  312.18  298.00  302.00\n",
              "2017-08-18  2.858947e+06  302.00  311.79  283.94  293.96\n",
              "2017-08-19  6.200226e+05  293.31  299.90  278.00  290.91\n",
              "2017-08-20  7.428479e+05  289.41  300.53  282.85  299.10\n",
              "2017-08-21  1.689472e+06  299.10  346.52  294.60  323.29"
            ]
          },
          "metadata": {},
          "execution_count": 14
        }
      ]
    },
    {
      "cell_type": "code",
      "metadata": {
        "colab": {
          "base_uri": "https://localhost:8080/"
        },
        "id": "ZmfRfbx1b9f8",
        "outputId": "a04d7988-3906-4acf-8d1b-964016bdb97c"
      },
      "source": [
        "df.info()"
      ],
      "execution_count": 15,
      "outputs": [
        {
          "output_type": "stream",
          "name": "stdout",
          "text": [
            "<class 'pandas.core.frame.DataFrame'>\n",
            "DatetimeIndex: 1412 entries, 2017-08-17 to 2021-06-28\n",
            "Data columns (total 5 columns):\n",
            " #   Column  Non-Null Count  Dtype  \n",
            "---  ------  --------------  -----  \n",
            " 0   Volume  1412 non-null   float64\n",
            " 1   Open    1412 non-null   float64\n",
            " 2   High    1412 non-null   float64\n",
            " 3   Low     1412 non-null   float64\n",
            " 4   Close   1412 non-null   float64\n",
            "dtypes: float64(5)\n",
            "memory usage: 66.2 KB\n"
          ]
        }
      ]
    },
    {
      "cell_type": "markdown",
      "metadata": {
        "id": "kBm7i8DmR3f_"
      },
      "source": [
        "# Create classes"
      ]
    },
    {
      "cell_type": "code",
      "metadata": {
        "id": "4W-KYqup15NJ"
      },
      "source": [
        "# create a column to indicate the price movement: 1 means the price has increased compared to the previous day, 0 means the price has decreased\n",
        "\n",
        "movement = []\n",
        "\n",
        "for i in range(len(df)-1):\n",
        "\n",
        "  if df['Close'][i+1] < df['Close'][i]:\n",
        "    movement.append(0)\n",
        "  \n",
        "  else:\n",
        "    movement.append(1)\n"
      ],
      "execution_count": 16,
      "outputs": []
    },
    {
      "cell_type": "code",
      "metadata": {
        "colab": {
          "base_uri": "https://localhost:8080/",
          "height": 234
        },
        "id": "slYxoi727QYk",
        "outputId": "390cae86-0c46-430d-c308-ce2a7bf33721"
      },
      "source": [
        "# datapoint 0 in the dataset (2017-08-17) will be dropped because there is no price information prior to this day so it can not be put into a class.\n",
        "df.drop(df.index[0], inplace=True)\n",
        "df.head()"
      ],
      "execution_count": 17,
      "outputs": [
        {
          "output_type": "execute_result",
          "data": {
            "text/html": [
              "<div>\n",
              "<style scoped>\n",
              "    .dataframe tbody tr th:only-of-type {\n",
              "        vertical-align: middle;\n",
              "    }\n",
              "\n",
              "    .dataframe tbody tr th {\n",
              "        vertical-align: top;\n",
              "    }\n",
              "\n",
              "    .dataframe thead th {\n",
              "        text-align: right;\n",
              "    }\n",
              "</style>\n",
              "<table border=\"1\" class=\"dataframe\">\n",
              "  <thead>\n",
              "    <tr style=\"text-align: right;\">\n",
              "      <th></th>\n",
              "      <th>Volume</th>\n",
              "      <th>Open</th>\n",
              "      <th>High</th>\n",
              "      <th>Low</th>\n",
              "      <th>Close</th>\n",
              "    </tr>\n",
              "    <tr>\n",
              "      <th>Close Date</th>\n",
              "      <th></th>\n",
              "      <th></th>\n",
              "      <th></th>\n",
              "      <th></th>\n",
              "      <th></th>\n",
              "    </tr>\n",
              "  </thead>\n",
              "  <tbody>\n",
              "    <tr>\n",
              "      <th>2017-08-18</th>\n",
              "      <td>2.858947e+06</td>\n",
              "      <td>302.00</td>\n",
              "      <td>311.79</td>\n",
              "      <td>283.94</td>\n",
              "      <td>293.96</td>\n",
              "    </tr>\n",
              "    <tr>\n",
              "      <th>2017-08-19</th>\n",
              "      <td>6.200226e+05</td>\n",
              "      <td>293.31</td>\n",
              "      <td>299.90</td>\n",
              "      <td>278.00</td>\n",
              "      <td>290.91</td>\n",
              "    </tr>\n",
              "    <tr>\n",
              "      <th>2017-08-20</th>\n",
              "      <td>7.428479e+05</td>\n",
              "      <td>289.41</td>\n",
              "      <td>300.53</td>\n",
              "      <td>282.85</td>\n",
              "      <td>299.10</td>\n",
              "    </tr>\n",
              "    <tr>\n",
              "      <th>2017-08-21</th>\n",
              "      <td>1.689472e+06</td>\n",
              "      <td>299.10</td>\n",
              "      <td>346.52</td>\n",
              "      <td>294.60</td>\n",
              "      <td>323.29</td>\n",
              "    </tr>\n",
              "    <tr>\n",
              "      <th>2017-08-22</th>\n",
              "      <td>2.454426e+06</td>\n",
              "      <td>321.04</td>\n",
              "      <td>330.41</td>\n",
              "      <td>144.21</td>\n",
              "      <td>309.80</td>\n",
              "    </tr>\n",
              "  </tbody>\n",
              "</table>\n",
              "</div>"
            ],
            "text/plain": [
              "                  Volume    Open    High     Low   Close\n",
              "Close Date                                              \n",
              "2017-08-18  2.858947e+06  302.00  311.79  283.94  293.96\n",
              "2017-08-19  6.200226e+05  293.31  299.90  278.00  290.91\n",
              "2017-08-20  7.428479e+05  289.41  300.53  282.85  299.10\n",
              "2017-08-21  1.689472e+06  299.10  346.52  294.60  323.29\n",
              "2017-08-22  2.454426e+06  321.04  330.41  144.21  309.80"
            ]
          },
          "metadata": {},
          "execution_count": 17
        }
      ]
    },
    {
      "cell_type": "code",
      "metadata": {
        "id": "mpLu53Yo6ISP"
      },
      "source": [
        "df['Price Movement'] = np.array(movement)"
      ],
      "execution_count": 18,
      "outputs": []
    },
    {
      "cell_type": "code",
      "metadata": {
        "colab": {
          "base_uri": "https://localhost:8080/",
          "height": 447
        },
        "id": "lOdjClAv3T_M",
        "outputId": "01e17d71-a173-48e4-a085-d7ec966600b8"
      },
      "source": [
        "df"
      ],
      "execution_count": 19,
      "outputs": [
        {
          "output_type": "execute_result",
          "data": {
            "text/html": [
              "<div>\n",
              "<style scoped>\n",
              "    .dataframe tbody tr th:only-of-type {\n",
              "        vertical-align: middle;\n",
              "    }\n",
              "\n",
              "    .dataframe tbody tr th {\n",
              "        vertical-align: top;\n",
              "    }\n",
              "\n",
              "    .dataframe thead th {\n",
              "        text-align: right;\n",
              "    }\n",
              "</style>\n",
              "<table border=\"1\" class=\"dataframe\">\n",
              "  <thead>\n",
              "    <tr style=\"text-align: right;\">\n",
              "      <th></th>\n",
              "      <th>Volume</th>\n",
              "      <th>Open</th>\n",
              "      <th>High</th>\n",
              "      <th>Low</th>\n",
              "      <th>Close</th>\n",
              "      <th>Price Movement</th>\n",
              "    </tr>\n",
              "    <tr>\n",
              "      <th>Close Date</th>\n",
              "      <th></th>\n",
              "      <th></th>\n",
              "      <th></th>\n",
              "      <th></th>\n",
              "      <th></th>\n",
              "      <th></th>\n",
              "    </tr>\n",
              "  </thead>\n",
              "  <tbody>\n",
              "    <tr>\n",
              "      <th>2017-08-18</th>\n",
              "      <td>2.858947e+06</td>\n",
              "      <td>302.00</td>\n",
              "      <td>311.79</td>\n",
              "      <td>283.94</td>\n",
              "      <td>293.96</td>\n",
              "      <td>0</td>\n",
              "    </tr>\n",
              "    <tr>\n",
              "      <th>2017-08-19</th>\n",
              "      <td>6.200226e+05</td>\n",
              "      <td>293.31</td>\n",
              "      <td>299.90</td>\n",
              "      <td>278.00</td>\n",
              "      <td>290.91</td>\n",
              "      <td>0</td>\n",
              "    </tr>\n",
              "    <tr>\n",
              "      <th>2017-08-20</th>\n",
              "      <td>7.428479e+05</td>\n",
              "      <td>289.41</td>\n",
              "      <td>300.53</td>\n",
              "      <td>282.85</td>\n",
              "      <td>299.10</td>\n",
              "      <td>1</td>\n",
              "    </tr>\n",
              "    <tr>\n",
              "      <th>2017-08-21</th>\n",
              "      <td>1.689472e+06</td>\n",
              "      <td>299.10</td>\n",
              "      <td>346.52</td>\n",
              "      <td>294.60</td>\n",
              "      <td>323.29</td>\n",
              "      <td>1</td>\n",
              "    </tr>\n",
              "    <tr>\n",
              "      <th>2017-08-22</th>\n",
              "      <td>2.454426e+06</td>\n",
              "      <td>321.04</td>\n",
              "      <td>330.41</td>\n",
              "      <td>144.21</td>\n",
              "      <td>309.80</td>\n",
              "      <td>0</td>\n",
              "    </tr>\n",
              "    <tr>\n",
              "      <th>...</th>\n",
              "      <td>...</td>\n",
              "      <td>...</td>\n",
              "      <td>...</td>\n",
              "      <td>...</td>\n",
              "      <td>...</td>\n",
              "      <td>...</td>\n",
              "    </tr>\n",
              "    <tr>\n",
              "      <th>2021-06-24</th>\n",
              "      <td>1.377800e+09</td>\n",
              "      <td>1967.95</td>\n",
              "      <td>2036.61</td>\n",
              "      <td>1884.79</td>\n",
              "      <td>1989.52</td>\n",
              "      <td>1</td>\n",
              "    </tr>\n",
              "    <tr>\n",
              "      <th>2021-06-25</th>\n",
              "      <td>1.612557e+09</td>\n",
              "      <td>1989.53</td>\n",
              "      <td>2019.99</td>\n",
              "      <td>1791.22</td>\n",
              "      <td>1808.82</td>\n",
              "      <td>0</td>\n",
              "    </tr>\n",
              "    <tr>\n",
              "      <th>2021-06-26</th>\n",
              "      <td>1.478551e+09</td>\n",
              "      <td>1808.97</td>\n",
              "      <td>1852.80</td>\n",
              "      <td>1717.32</td>\n",
              "      <td>1829.64</td>\n",
              "      <td>1</td>\n",
              "    </tr>\n",
              "    <tr>\n",
              "      <th>2021-06-27</th>\n",
              "      <td>1.299522e+09</td>\n",
              "      <td>1829.84</td>\n",
              "      <td>1984.50</td>\n",
              "      <td>1804.26</td>\n",
              "      <td>1982.28</td>\n",
              "      <td>1</td>\n",
              "    </tr>\n",
              "    <tr>\n",
              "      <th>2021-06-28</th>\n",
              "      <td>1.740555e+09</td>\n",
              "      <td>1982.27</td>\n",
              "      <td>2136.71</td>\n",
              "      <td>1960.52</td>\n",
              "      <td>2088.28</td>\n",
              "      <td>1</td>\n",
              "    </tr>\n",
              "  </tbody>\n",
              "</table>\n",
              "<p>1411 rows × 6 columns</p>\n",
              "</div>"
            ],
            "text/plain": [
              "                  Volume     Open     High      Low    Close  Price Movement\n",
              "Close Date                                                                  \n",
              "2017-08-18  2.858947e+06   302.00   311.79   283.94   293.96               0\n",
              "2017-08-19  6.200226e+05   293.31   299.90   278.00   290.91               0\n",
              "2017-08-20  7.428479e+05   289.41   300.53   282.85   299.10               1\n",
              "2017-08-21  1.689472e+06   299.10   346.52   294.60   323.29               1\n",
              "2017-08-22  2.454426e+06   321.04   330.41   144.21   309.80               0\n",
              "...                  ...      ...      ...      ...      ...             ...\n",
              "2021-06-24  1.377800e+09  1967.95  2036.61  1884.79  1989.52               1\n",
              "2021-06-25  1.612557e+09  1989.53  2019.99  1791.22  1808.82               0\n",
              "2021-06-26  1.478551e+09  1808.97  1852.80  1717.32  1829.64               1\n",
              "2021-06-27  1.299522e+09  1829.84  1984.50  1804.26  1982.28               1\n",
              "2021-06-28  1.740555e+09  1982.27  2136.71  1960.52  2088.28               1\n",
              "\n",
              "[1411 rows x 6 columns]"
            ]
          },
          "metadata": {},
          "execution_count": 19
        }
      ]
    },
    {
      "cell_type": "code",
      "metadata": {
        "colab": {
          "base_uri": "https://localhost:8080/"
        },
        "id": "9-FIp6vr43bk",
        "outputId": "07049f09-ad02-48b2-b530-9ff668ab8f25"
      },
      "source": [
        "df.info()"
      ],
      "execution_count": 20,
      "outputs": [
        {
          "output_type": "stream",
          "name": "stdout",
          "text": [
            "<class 'pandas.core.frame.DataFrame'>\n",
            "DatetimeIndex: 1411 entries, 2017-08-18 to 2021-06-28\n",
            "Data columns (total 6 columns):\n",
            " #   Column          Non-Null Count  Dtype  \n",
            "---  ------          --------------  -----  \n",
            " 0   Volume          1411 non-null   float64\n",
            " 1   Open            1411 non-null   float64\n",
            " 2   High            1411 non-null   float64\n",
            " 3   Low             1411 non-null   float64\n",
            " 4   Close           1411 non-null   float64\n",
            " 5   Price Movement  1411 non-null   int64  \n",
            "dtypes: float64(5), int64(1)\n",
            "memory usage: 77.2 KB\n"
          ]
        }
      ]
    },
    {
      "cell_type": "markdown",
      "metadata": {
        "id": "b93fV6nAb9f9"
      },
      "source": [
        "# Split dataset into training and testing datasets"
      ]
    },
    {
      "cell_type": "markdown",
      "metadata": {
        "id": "WCRlPqQFb9f9"
      },
      "source": [
        "#### I will now split the timeseries into training and test sets, before I scale it to prevent data leakage. https://machinelearningmastery.com/machine-learning-data-transforms-for-time-series-forecasting/\n",
        "#### I no longer need to create a validation set as model selection is complete \n",
        "#### 74.15% of the data will be used for training and the remaining 25.85% will be used as the test set"
      ]
    },
    {
      "cell_type": "code",
      "metadata": {
        "id": "dXg1O9ENb9f-"
      },
      "source": [
        "split = int(len(df)*0.7415)\n",
        "\n",
        "training_set = df[:split]      \n",
        "test_set = df[split:]          "
      ],
      "execution_count": 21,
      "outputs": []
    },
    {
      "cell_type": "code",
      "metadata": {
        "colab": {
          "base_uri": "https://localhost:8080/"
        },
        "id": "x5oTK5hevHP5",
        "outputId": "4190350a-2704-43e4-d287-94f697acfbd9"
      },
      "source": [
        "print('Training: ', training_set.shape, '\\nTest: ', test_set.shape)"
      ],
      "execution_count": 22,
      "outputs": [
        {
          "output_type": "stream",
          "name": "stdout",
          "text": [
            "Training:  (1046, 6) \n",
            "Test:  (365, 6)\n"
          ]
        }
      ]
    },
    {
      "cell_type": "markdown",
      "metadata": {
        "id": "KX1DFcZ__mUY"
      },
      "source": [
        "# I will check how imbalanced the classes are in each of the datasets' target vectors. \n",
        "###I am following a Keras tutorial on how to check for and deal with imbalanced class sizes when training neural networks for classification tasks:\n",
        "https://keras.io/examples/structured_data/imbalanced_classification/\n"
      ]
    },
    {
      "cell_type": "code",
      "metadata": {
        "colab": {
          "base_uri": "https://localhost:8080/"
        },
        "id": "iA9hSnLQRCfW",
        "outputId": "4a9df339-bd3c-42e6-ace9-391f9539cc8d"
      },
      "source": [
        "print('TRAINING SET\\n', 'Count:\\n', training_set['Price Movement'].value_counts(), '\\n\\nRelative Frequencies:\\n',training_set['Price Movement'].value_counts(normalize=True))\n",
        "print('\\nTESTING SET\\n', 'Count:\\n', test_set['Price Movement'].value_counts(), '\\n\\nRelative Frequencies:\\n',test_set['Price Movement'].value_counts(normalize=True))\n"
      ],
      "execution_count": 23,
      "outputs": [
        {
          "output_type": "stream",
          "name": "stdout",
          "text": [
            "TRAINING SET\n",
            " Count:\n",
            " 0    532\n",
            "1    514\n",
            "Name: Price Movement, dtype: int64 \n",
            "\n",
            "Relative Frequencies:\n",
            " 0    0.508604\n",
            "1    0.491396\n",
            "Name: Price Movement, dtype: float64\n",
            "\n",
            "TESTING SET\n",
            " Count:\n",
            " 1    213\n",
            "0    152\n",
            "Name: Price Movement, dtype: int64 \n",
            "\n",
            "Relative Frequencies:\n",
            " 1    0.583562\n",
            "0    0.416438\n",
            "Name: Price Movement, dtype: float64\n"
          ]
        }
      ]
    },
    {
      "cell_type": "code",
      "metadata": {
        "colab": {
          "base_uri": "https://localhost:8080/",
          "height": 687
        },
        "id": "CDbacc9dQRt9",
        "outputId": "981a800c-12fd-47ec-e5c9-5bd32169928f"
      },
      "source": [
        "plt.figure(figsize = (10, 5))\n",
        "sns.barplot(x = ['Down', 'Up'], y= training_set['Price Movement'].value_counts(), palette='Set1')\n",
        "plt.title('Distribution of Price Movement Classes - Training Dataset')\n",
        "plt.xlabel(\"Price Movement\")\n",
        "plt.ylabel(\"Count\")\n",
        "plt.show()\n",
        "\n",
        "plt.figure(figsize = (10, 5))\n",
        "sns.barplot(x = ['Down', 'Up'], y= test_set['Price Movement'].value_counts(), palette='Set1')\n",
        "plt.title('Distribution of Price Movement Classes - Testing Dataset', fontsize=14)\n",
        "plt.xlabel(\"Price Movement\", fontsize=12)\n",
        "plt.ylabel(\"Count\", fontsize=12)\n",
        "plt.show()"
      ],
      "execution_count": 24,
      "outputs": [
        {
          "output_type": "display_data",
          "data": {
            "image/png": "[encoded data removed]",
            "text/plain": [
              "<Figure size 720x360 with 1 Axes>"
            ]
          },
          "metadata": {
            "needs_background": "light"
          }
        },
        {
          "output_type": "display_data",
          "data": {
            "image/png": "[encoded data removed]",
            "text/plain": [
              "<Figure size 720x360 with 1 Axes>"
            ]
          },
          "metadata": {
            "needs_background": "light"
          }
        }
      ]
    },
    {
      "cell_type": "markdown",
      "metadata": {
        "id": "rwSNvmT6wkGx"
      },
      "source": [
        "# Split the data into X and y variables"
      ]
    },
    {
      "cell_type": "code",
      "metadata": {
        "colab": {
          "base_uri": "https://localhost:8080/"
        },
        "id": "j0jH_bixwiU5",
        "outputId": "a9255eb2-1420-4955-9798-543c82b41064"
      },
      "source": [
        "# the x values will contain all the features in the dataset and the y value will contain only the target feature to predict (Close Price) \n",
        "\n",
        "X_training = (training_set.iloc[:, :-1]).values.reshape(training_set.shape[0],training_set.shape[1]-1)\n",
        "y_training = (training_set.iloc[:, -1]).values.reshape(training_set.shape[0],1)\n",
        "\n",
        "print(X_training.shape, y_training.shape)\n",
        "\n",
        "X_testing = (test_set.iloc[:, :-1]).values.reshape(test_set.shape[0],test_set.shape[1]-1)\n",
        "y_testing = (test_set.iloc[:, -1]).values.reshape(test_set.shape[0],1)\n",
        "\n",
        "print(X_testing.shape, y_testing.shape)"
      ],
      "execution_count": 25,
      "outputs": [
        {
          "output_type": "stream",
          "name": "stdout",
          "text": [
            "(1046, 5) (1046, 1)\n",
            "(365, 5) (365, 1)\n"
          ]
        }
      ]
    },
    {
      "cell_type": "markdown",
      "metadata": {
        "id": "L9yC4S10b9f-"
      },
      "source": [
        "# Normalisation"
      ]
    },
    {
      "cell_type": "markdown",
      "metadata": {
        "id": "Y3HBL1aob9f_"
      },
      "source": [
        "#### The values need to be scaled to between 0 and 1 so I will use MinMaxScaler from scikit-learn to do this.\n",
        "#### https://scikit-learn.org/stable/modules/generated/sklearn.preprocessing.MinMaxScaler.html"
      ]
    },
    {
      "cell_type": "code",
      "metadata": {
        "id": "XdVhgRevb9f_"
      },
      "source": [
        "Xscaler = MinMaxScaler(feature_range=(0,1))\n",
        "yscaler = MinMaxScaler(feature_range=(0,1))\n",
        "\n",
        "X_train = Xscaler.fit_transform(X_training)\n",
        "y_train = yscaler.fit_transform(y_training)\n",
        "\n",
        "X_test = Xscaler.fit_transform(X_testing)\n",
        "y_test = yscaler.fit_transform(y_testing)"
      ],
      "execution_count": 26,
      "outputs": []
    },
    {
      "cell_type": "markdown",
      "metadata": {
        "id": "PXdorkq6QtDT"
      },
      "source": [
        "## Prepare data for multi-step LSTM\n",
        "##### source code: https://pangkh98.medium.com/multi-step-multivariate-time-series-forecasting-using-lstm-92c6d22cd9c2"
      ]
    },
    {
      "cell_type": "code",
      "metadata": {
        "colab": {
          "base_uri": "https://localhost:8080/"
        },
        "id": "nwBjpX0QO96M",
        "outputId": "88e4b7b9-20d2-4c52-94a4-9bcb65b6cd62"
      },
      "source": [
        "# stack the data horizontally\n",
        "\n",
        "train_stacked = np.hstack((X_train, y_train))\n",
        "print (\"Stacked Training Data Shape: \" , train_stacked.shape)\n",
        "\n",
        "test_stacked = np.hstack((X_test, y_test))\n",
        "print (\"Stacked Test Data Shape: \" , test_stacked.shape)"
      ],
      "execution_count": 27,
      "outputs": [
        {
          "output_type": "stream",
          "name": "stdout",
          "text": [
            "Stacked Training Data Shape:  (1046, 6)\n",
            "Stacked Test Data Shape:  (365, 6)\n"
          ]
        }
      ]
    },
    {
      "cell_type": "code",
      "metadata": {
        "id": "ex1aH0q5QJTw"
      },
      "source": [
        "# create sequences (n_steps_in = input timesteps, n_steps_out = output timesteps)\n",
        "\n",
        "def create_sequences(sequences, n_steps_in, n_steps_out):\n",
        " X, y = [], []\n",
        "\n",
        " for i in range(len(sequences)):\n",
        "\n",
        "  # find the end of this pattern\n",
        "  end_ix = i + n_steps_in\n",
        "  out_end_ix = end_ix + n_steps_out-1\n",
        "\n",
        "  # check if we are beyond the dataset\n",
        "  if out_end_ix > len(sequences):\n",
        "   break\n",
        "\n",
        "  # gather input and output parts of the pattern\n",
        "  seq_x, seq_y = sequences[i:end_ix, :-1], sequences[end_ix-1:out_end_ix, -1]\n",
        "  X.append(seq_x)\n",
        "  y.append(seq_y)\n",
        " return np.array(X), np.array(y)\n",
        "\n",
        "   "
      ],
      "execution_count": 28,
      "outputs": []
    },
    {
      "cell_type": "code",
      "metadata": {
        "colab": {
          "base_uri": "https://localhost:8080/"
        },
        "id": "z1tNnTyXjW5h",
        "outputId": "b7c1786c-a797-4c88-d9b7-bc32c353c693"
      },
      "source": [
        "# choose a number of time steps \n",
        "n_steps_in, n_steps_out = 14, 14\n",
        "\n",
        "# run function\n",
        "X_train, y_train = create_sequences(train_stacked, n_steps_in, n_steps_out)\n",
        "print (\"X train sequences: \" , X_train.shape, \"y train sequences\" , y_train.shape)            \n",
        "\n",
        "X_test, y_test = create_sequences(test_stacked, n_steps_in, n_steps_out)\n",
        "print (\"X test sequences: \" , X_test.shape, \"y test sequences\" , y_test.shape)      "
      ],
      "execution_count": 29,
      "outputs": [
        {
          "output_type": "stream",
          "name": "stdout",
          "text": [
            "X train sequences:  (1020, 14, 5) y train sequences (1020, 14)\n",
            "X test sequences:  (339, 14, 5) y test sequences (339, 14)\n"
          ]
        }
      ]
    },
    {
      "cell_type": "markdown",
      "metadata": {
        "id": "wzBdRK4jb9gA"
      },
      "source": [
        "# **1. Model Building**\n"
      ]
    },
    {
      "cell_type": "markdown",
      "metadata": {
        "id": "uiGW8h7sokH4"
      },
      "source": [
        "#### I will first load the optimised model."
      ]
    },
    {
      "cell_type": "code",
      "metadata": {
        "colab": {
          "base_uri": "https://localhost:8080/"
        },
        "id": "AiCgVp7SkgG6",
        "outputId": "d1e6e18f-d3b0-4150-e8b7-d772d69f5558"
      },
      "source": [
        "baseline_cf = load_model('/content/drive/My Drive/Classification model/classification_model')\n",
        "baseline_cf.summary()"
      ],
      "execution_count": 30,
      "outputs": [
        {
          "output_type": "stream",
          "name": "stdout",
          "text": [
            "Model: \"sequential\"\n",
            "_________________________________________________________________\n",
            "Layer (type)                 Output Shape              Param #   \n",
            "=================================================================\n",
            "bidirectional (Bidirectional (None, 14, 20)            4160      \n",
            "_________________________________________________________________\n",
            "bidirectional_1 (Bidirection (None, 14, 20)            6560      \n",
            "_________________________________________________________________\n",
            "dropout (Dropout)            (None, 14, 20)            0         \n",
            "_________________________________________________________________\n",
            "bidirectional_2 (Bidirection (None, 14, 20)            6560      \n",
            "_________________________________________________________________\n",
            "dropout_1 (Dropout)          (None, 14, 20)            0         \n",
            "_________________________________________________________________\n",
            "bidirectional_3 (Bidirection (None, 14, 20)            6560      \n",
            "_________________________________________________________________\n",
            "dropout_2 (Dropout)          (None, 14, 20)            0         \n",
            "_________________________________________________________________\n",
            "time_distributed (TimeDistri (None, 14, 1)             21        \n",
            "=================================================================\n",
            "Total params: 23,861\n",
            "Trainable params: 23,861\n",
            "Non-trainable params: 0\n",
            "_________________________________________________________________\n"
          ]
        }
      ]
    },
    {
      "cell_type": "markdown",
      "metadata": {
        "id": "eGNbsSXtlp1Y"
      },
      "source": [
        "#### I will train and test the baseline model 5 times to get a list of accuracy scores to use later for statistical comparison. I will report the average test score here.\n",
        "https://github.com/yanghaocsg/keras_lstm/wiki/chapter-7.1-Evaluating-LSTM-Models-Robustly"
      ]
    },
    {
      "cell_type": "code",
      "metadata": {
        "colab": {
          "base_uri": "https://localhost:8080/"
        },
        "id": "wldYwa0-Hkhr",
        "outputId": "0df46698-2d51-47ce-d888-617b34ea45db"
      },
      "source": [
        "acc_list = []\n",
        "f1_list = []\n",
        "\n",
        "y_test = y_test.reshape(y_test.shape[0], y_test.shape[1])\n",
        "\n",
        "for i in range(5):\n",
        "\n",
        "  # fit model\n",
        "  print('\\nTraining Number ', i)\n",
        "  baseline_cf.fit(X_train , y_train , epochs=100 , verbose=0 ,shuffle=False)    \n",
        "\n",
        "  # generate the test predictions and calculate the scores\n",
        "\n",
        "  test_pred = baseline_cf.predict(X_test)\n",
        "\n",
        "  test_loss, test_accuracy = baseline_cf.evaluate(X_test, y_test, verbose = 0)\n",
        "\n",
        "  test_pred = test_pred.astype(int).reshape(-1)\n",
        "  y_test_flat = y_test.astype(int).reshape(-1)\n",
        "\n",
        "  f1_result = f1_score(y_test_flat, test_pred, average='micro')\n",
        "  print('Test Accuracy: ', float('%.3g' % test_accuracy)*100)\n",
        "\n",
        "  acc_list.append(test_accuracy)\n",
        "  f1_list.append(f1_result)\n",
        "\n",
        "print('\\nBaseline Classification BiLSTM Model -- \\nAverage Test Accuracy: ', float('%.3g' % np.mean(acc_list))*100, \n",
        "      ' ||  Average Test F1 Score: ', float('%.3g' % np.mean(f1_list)))\n"
      ],
      "execution_count": 33,
      "outputs": [
        {
          "output_type": "stream",
          "name": "stdout",
          "text": [
            "\n",
            "Training Number  0\n",
            "Test Accuracy:  44.7\n",
            "\n",
            "Training Number  1\n",
            "Test Accuracy:  51.9\n",
            "\n",
            "Training Number  2\n",
            "Test Accuracy:  54.300000000000004\n",
            "\n",
            "Training Number  3\n",
            "Test Accuracy:  56.10000000000001\n",
            "\n",
            "Training Number  4\n",
            "Test Accuracy:  54.900000000000006\n",
            "\n",
            "Baseline Classification BiLSTM Model -- \n",
            "Average Test Accuracy:  52.400000000000006  ||  Average Test F1 Score:  0.409\n"
          ]
        }
      ]
    },
    {
      "cell_type": "code",
      "metadata": {
        "id": "5QCZ1_BauQ69"
      },
      "source": [
        "# saving the accuracy scores of the model to compare against the models with different inputs in a statistical test\n",
        "\n",
        "baselineScores_class = pd.DataFrame(acc_list)\n",
        "baselineScores_class.to_csv('/content/drive/My Drive/Classification model/baselineScores_classModel.csv', index=False)"
      ],
      "execution_count": 36,
      "outputs": []
    }
  ]
}