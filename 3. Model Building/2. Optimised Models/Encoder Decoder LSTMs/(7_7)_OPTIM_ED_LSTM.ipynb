{
  "nbformat": 4,
  "nbformat_minor": 0,
  "metadata": {
    "colab": {
      "name": "(7_7)_OPTIM_ED_Model.ipynb",
      "provenance": [],
      "collapsed_sections": []
    },
    "kernelspec": {
      "display_name": "Python 3",
      "language": "python",
      "name": "python3"
    },
    "language_info": {
      "codemirror_mode": {
        "name": "ipython",
        "version": 3
      },
      "file_extension": ".py",
      "mimetype": "text/x-python",
      "name": "python",
      "nbconvert_exporter": "python",
      "pygments_lexer": "ipython3",
      "version": "3.8.3"
    }
  },
  "cells": [
    {
      "cell_type": "code",
      "metadata": {
        "id": "qfycHLVvR2Q0",
        "colab": {
          "base_uri": "https://localhost:8080/"
        },
        "outputId": "2a7f414b-eda1-4dfa-a11e-37b2a24541c1"
      },
      "source": [
        "!pip install keras-tuner -q "
      ],
      "execution_count": 1,
      "outputs": [
        {
          "output_type": "stream",
          "text": [
            "\u001b[?25l\r\u001b[K     |███▍                            | 10 kB 22.2 MB/s eta 0:00:01\r\u001b[K     |██████▉                         | 20 kB 24.8 MB/s eta 0:00:01\r\u001b[K     |██████████▏                     | 30 kB 27.5 MB/s eta 0:00:01\r\u001b[K     |█████████████▋                  | 40 kB 29.2 MB/s eta 0:00:01\r\u001b[K     |█████████████████               | 51 kB 23.6 MB/s eta 0:00:01\r\u001b[K     |████████████████████▍           | 61 kB 25.2 MB/s eta 0:00:01\r\u001b[K     |███████████████████████▊        | 71 kB 26.5 MB/s eta 0:00:01\r\u001b[K     |███████████████████████████▏    | 81 kB 27.9 MB/s eta 0:00:01\r\u001b[K     |██████████████████████████████▋ | 92 kB 29.5 MB/s eta 0:00:01\r\u001b[K     |████████████████████████████████| 96 kB 3.7 MB/s \n",
            "\u001b[?25h"
          ],
          "name": "stdout"
        }
      ]
    },
    {
      "cell_type": "code",
      "metadata": {
        "id": "2FeaAPfJb9ft"
      },
      "source": [
        "import pandas as pd\n",
        "import numpy as np\n",
        "import matplotlib.pyplot as plt\n",
        "from sklearn.preprocessing import MinMaxScaler\n",
        "from tensorflow.keras.models import Sequential\n",
        "from tensorflow.keras.layers import Dense,LSTM,Activation,Dropout,RepeatVector,TimeDistributed\n",
        "from tensorflow import keras\n",
        "import tensorflow as tf\n",
        "from tensorflow.keras.metrics import RootMeanSquaredError, MeanSquaredError, MeanAbsoluteError\n",
        "import keras_tuner as kt\n"
      ],
      "execution_count": 2,
      "outputs": []
    },
    {
      "cell_type": "markdown",
      "metadata": {
        "id": "kHx3s20Rb9fy"
      },
      "source": [
        "# Load the dataset"
      ]
    },
    {
      "cell_type": "code",
      "metadata": {
        "colab": {
          "resources": {
            "http://localhost:8080/nbextensions/google.colab/files.js": {
              "data": "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",
              "ok": true,
              "headers": [
                [
                  "content-type",
                  "application/javascript"
                ]
              ],
              "status": 200,
              "status_text": ""
            }
          },
          "base_uri": "https://localhost:8080/",
          "height": 74
        },
        "id": "eMXMMRUWuk0F",
        "outputId": "4c7069ad-2992-47df-c3e6-19c0f8d6ff9a"
      },
      "source": [
        "from google.colab import files\n",
        "import io\n",
        "uploaded = files.upload()"
      ],
      "execution_count": 3,
      "outputs": [
        {
          "output_type": "display_data",
          "data": {
            "text/html": [
              "\n",
              "     <input type=\"file\" id=\"files-4245a393-2c29-46da-be9a-c0aab7c1dabd\" name=\"files[]\" multiple disabled\n",
              "        style=\"border:none\" />\n",
              "     <output id=\"result-4245a393-2c29-46da-be9a-c0aab7c1dabd\">\n",
              "      Upload widget is only available when the cell has been executed in the\n",
              "      current browser session. Please rerun this cell to enable.\n",
              "      </output>\n",
              "      <script src=\"/nbextensions/google.colab/files.js\"></script> "
            ],
            "text/plain": [
              "<IPython.core.display.HTML object>"
            ]
          },
          "metadata": {}
        },
        {
          "output_type": "stream",
          "text": [
            "Saving dataset.csv to dataset.csv\n"
          ],
          "name": "stdout"
        }
      ]
    },
    {
      "cell_type": "code",
      "metadata": {
        "id": "v89NaOAlumND"
      },
      "source": [
        "df = pd.read_csv(io.BytesIO(uploaded['dataset.csv']), header=None)"
      ],
      "execution_count": 4,
      "outputs": []
    },
    {
      "cell_type": "code",
      "metadata": {
        "id": "ut4tcQUib9fz"
      },
      "source": [
        "#df = pd.read_csv('dataset.csv', header=None)\n",
        "\n",
        "df.columns = ['Open Time', 'Open', 'High', 'Low', 'Close', 'Volume (ETH)', 'Close Time', 'Quote Asset Volume (USDT)', \n",
        "              'No. of trades', 'Buy Base Volume (ETH)', 'Buy Quote Volume (USDT)', 'Ignore']"
      ],
      "execution_count": 5,
      "outputs": []
    },
    {
      "cell_type": "markdown",
      "metadata": {
        "id": "hzkJHzWTb9f1"
      },
      "source": [
        "# Preprocessing steps \n",
        "##### (Explained in the workbook titled 'Exploratory Data Analysis & Preprocessing)"
      ]
    },
    {
      "cell_type": "code",
      "metadata": {
        "id": "0jOAG2clb9f2"
      },
      "source": [
        "df['Open Date'] = pd.to_datetime(df['Open Time'], unit='ms')"
      ],
      "execution_count": 6,
      "outputs": []
    },
    {
      "cell_type": "code",
      "metadata": {
        "id": "_XlN1AtMb9f2"
      },
      "source": [
        "df['Close Date'] = pd.to_datetime(df['Close Time'], unit='ms')"
      ],
      "execution_count": 7,
      "outputs": []
    },
    {
      "cell_type": "code",
      "metadata": {
        "id": "rbj3JkZjb9f3"
      },
      "source": [
        "df['Close Date'] = df['Close Date'].dt.normalize()"
      ],
      "execution_count": 8,
      "outputs": []
    },
    {
      "cell_type": "code",
      "metadata": {
        "id": "8MwpH5clb9f4"
      },
      "source": [
        "df.drop(['Open Time', 'Close Time'], axis=1, inplace=True)"
      ],
      "execution_count": 9,
      "outputs": []
    },
    {
      "cell_type": "code",
      "metadata": {
        "id": "6iF_cLTSb9f4"
      },
      "source": [
        "df.drop(['Ignore', 'Volume (ETH)', 'No. of trades', 'Buy Base Volume (ETH)', 'Buy Quote Volume (USDT)', 'Open Date'], axis=1, inplace=True)"
      ],
      "execution_count": 10,
      "outputs": []
    },
    {
      "cell_type": "code",
      "metadata": {
        "id": "JRR_2rsib9f5"
      },
      "source": [
        "df.rename(columns = {'Quote Asset Volume (USDT)':'Volume'}, inplace = True)"
      ],
      "execution_count": 11,
      "outputs": []
    },
    {
      "cell_type": "code",
      "metadata": {
        "colab": {
          "base_uri": "https://localhost:8080/",
          "height": 234
        },
        "id": "W4kDcSwfb9f6",
        "outputId": "90c1bb95-71a3-403c-8b4b-1954dd4210cc"
      },
      "source": [
        "df.set_index('Close Date', inplace=True)\n",
        "df.head()"
      ],
      "execution_count": 12,
      "outputs": [
        {
          "output_type": "execute_result",
          "data": {
            "text/html": [
              "<div>\n",
              "<style scoped>\n",
              "    .dataframe tbody tr th:only-of-type {\n",
              "        vertical-align: middle;\n",
              "    }\n",
              "\n",
              "    .dataframe tbody tr th {\n",
              "        vertical-align: top;\n",
              "    }\n",
              "\n",
              "    .dataframe thead th {\n",
              "        text-align: right;\n",
              "    }\n",
              "</style>\n",
              "<table border=\"1\" class=\"dataframe\">\n",
              "  <thead>\n",
              "    <tr style=\"text-align: right;\">\n",
              "      <th></th>\n",
              "      <th>Open</th>\n",
              "      <th>High</th>\n",
              "      <th>Low</th>\n",
              "      <th>Close</th>\n",
              "      <th>Volume</th>\n",
              "    </tr>\n",
              "    <tr>\n",
              "      <th>Close Date</th>\n",
              "      <th></th>\n",
              "      <th></th>\n",
              "      <th></th>\n",
              "      <th></th>\n",
              "      <th></th>\n",
              "    </tr>\n",
              "  </thead>\n",
              "  <tbody>\n",
              "    <tr>\n",
              "      <th>2017-08-17</th>\n",
              "      <td>301.13</td>\n",
              "      <td>312.18</td>\n",
              "      <td>298.00</td>\n",
              "      <td>302.00</td>\n",
              "      <td>2.154655e+06</td>\n",
              "    </tr>\n",
              "    <tr>\n",
              "      <th>2017-08-18</th>\n",
              "      <td>302.00</td>\n",
              "      <td>311.79</td>\n",
              "      <td>283.94</td>\n",
              "      <td>293.96</td>\n",
              "      <td>2.858947e+06</td>\n",
              "    </tr>\n",
              "    <tr>\n",
              "      <th>2017-08-19</th>\n",
              "      <td>293.31</td>\n",
              "      <td>299.90</td>\n",
              "      <td>278.00</td>\n",
              "      <td>290.91</td>\n",
              "      <td>6.200226e+05</td>\n",
              "    </tr>\n",
              "    <tr>\n",
              "      <th>2017-08-20</th>\n",
              "      <td>289.41</td>\n",
              "      <td>300.53</td>\n",
              "      <td>282.85</td>\n",
              "      <td>299.10</td>\n",
              "      <td>7.428479e+05</td>\n",
              "    </tr>\n",
              "    <tr>\n",
              "      <th>2017-08-21</th>\n",
              "      <td>299.10</td>\n",
              "      <td>346.52</td>\n",
              "      <td>294.60</td>\n",
              "      <td>323.29</td>\n",
              "      <td>1.689472e+06</td>\n",
              "    </tr>\n",
              "  </tbody>\n",
              "</table>\n",
              "</div>"
            ],
            "text/plain": [
              "              Open    High     Low   Close        Volume\n",
              "Close Date                                              \n",
              "2017-08-17  301.13  312.18  298.00  302.00  2.154655e+06\n",
              "2017-08-18  302.00  311.79  283.94  293.96  2.858947e+06\n",
              "2017-08-19  293.31  299.90  278.00  290.91  6.200226e+05\n",
              "2017-08-20  289.41  300.53  282.85  299.10  7.428479e+05\n",
              "2017-08-21  299.10  346.52  294.60  323.29  1.689472e+06"
            ]
          },
          "metadata": {},
          "execution_count": 12
        }
      ]
    },
    {
      "cell_type": "code",
      "metadata": {
        "id": "-a-XRuDNv17D"
      },
      "source": [
        "columns = df.columns.tolist()\n",
        "columns = columns[-1:] + columns[:-1]\n",
        "df = df[columns]"
      ],
      "execution_count": 13,
      "outputs": []
    },
    {
      "cell_type": "code",
      "metadata": {
        "colab": {
          "base_uri": "https://localhost:8080/",
          "height": 234
        },
        "id": "xC7TQSxZwKLk",
        "outputId": "cd46256d-9741-4940-e32e-947c06e119f9"
      },
      "source": [
        "df.head()"
      ],
      "execution_count": 14,
      "outputs": [
        {
          "output_type": "execute_result",
          "data": {
            "text/html": [
              "<div>\n",
              "<style scoped>\n",
              "    .dataframe tbody tr th:only-of-type {\n",
              "        vertical-align: middle;\n",
              "    }\n",
              "\n",
              "    .dataframe tbody tr th {\n",
              "        vertical-align: top;\n",
              "    }\n",
              "\n",
              "    .dataframe thead th {\n",
              "        text-align: right;\n",
              "    }\n",
              "</style>\n",
              "<table border=\"1\" class=\"dataframe\">\n",
              "  <thead>\n",
              "    <tr style=\"text-align: right;\">\n",
              "      <th></th>\n",
              "      <th>Volume</th>\n",
              "      <th>Open</th>\n",
              "      <th>High</th>\n",
              "      <th>Low</th>\n",
              "      <th>Close</th>\n",
              "    </tr>\n",
              "    <tr>\n",
              "      <th>Close Date</th>\n",
              "      <th></th>\n",
              "      <th></th>\n",
              "      <th></th>\n",
              "      <th></th>\n",
              "      <th></th>\n",
              "    </tr>\n",
              "  </thead>\n",
              "  <tbody>\n",
              "    <tr>\n",
              "      <th>2017-08-17</th>\n",
              "      <td>2.154655e+06</td>\n",
              "      <td>301.13</td>\n",
              "      <td>312.18</td>\n",
              "      <td>298.00</td>\n",
              "      <td>302.00</td>\n",
              "    </tr>\n",
              "    <tr>\n",
              "      <th>2017-08-18</th>\n",
              "      <td>2.858947e+06</td>\n",
              "      <td>302.00</td>\n",
              "      <td>311.79</td>\n",
              "      <td>283.94</td>\n",
              "      <td>293.96</td>\n",
              "    </tr>\n",
              "    <tr>\n",
              "      <th>2017-08-19</th>\n",
              "      <td>6.200226e+05</td>\n",
              "      <td>293.31</td>\n",
              "      <td>299.90</td>\n",
              "      <td>278.00</td>\n",
              "      <td>290.91</td>\n",
              "    </tr>\n",
              "    <tr>\n",
              "      <th>2017-08-20</th>\n",
              "      <td>7.428479e+05</td>\n",
              "      <td>289.41</td>\n",
              "      <td>300.53</td>\n",
              "      <td>282.85</td>\n",
              "      <td>299.10</td>\n",
              "    </tr>\n",
              "    <tr>\n",
              "      <th>2017-08-21</th>\n",
              "      <td>1.689472e+06</td>\n",
              "      <td>299.10</td>\n",
              "      <td>346.52</td>\n",
              "      <td>294.60</td>\n",
              "      <td>323.29</td>\n",
              "    </tr>\n",
              "  </tbody>\n",
              "</table>\n",
              "</div>"
            ],
            "text/plain": [
              "                  Volume    Open    High     Low   Close\n",
              "Close Date                                              \n",
              "2017-08-17  2.154655e+06  301.13  312.18  298.00  302.00\n",
              "2017-08-18  2.858947e+06  302.00  311.79  283.94  293.96\n",
              "2017-08-19  6.200226e+05  293.31  299.90  278.00  290.91\n",
              "2017-08-20  7.428479e+05  289.41  300.53  282.85  299.10\n",
              "2017-08-21  1.689472e+06  299.10  346.52  294.60  323.29"
            ]
          },
          "metadata": {},
          "execution_count": 14
        }
      ]
    },
    {
      "cell_type": "code",
      "metadata": {
        "colab": {
          "base_uri": "https://localhost:8080/"
        },
        "id": "ZmfRfbx1b9f8",
        "outputId": "b72578df-c3b0-4b49-b21a-9e24de3a8727"
      },
      "source": [
        "df.info()"
      ],
      "execution_count": 15,
      "outputs": [
        {
          "output_type": "stream",
          "text": [
            "<class 'pandas.core.frame.DataFrame'>\n",
            "DatetimeIndex: 1412 entries, 2017-08-17 to 2021-06-28\n",
            "Data columns (total 5 columns):\n",
            " #   Column  Non-Null Count  Dtype  \n",
            "---  ------  --------------  -----  \n",
            " 0   Volume  1412 non-null   float64\n",
            " 1   Open    1412 non-null   float64\n",
            " 2   High    1412 non-null   float64\n",
            " 3   Low     1412 non-null   float64\n",
            " 4   Close   1412 non-null   float64\n",
            "dtypes: float64(5)\n",
            "memory usage: 66.2 KB\n"
          ],
          "name": "stdout"
        }
      ]
    },
    {
      "cell_type": "markdown",
      "metadata": {
        "id": "b93fV6nAb9f9"
      },
      "source": [
        "# Split dataset into training, validation and testing datasets"
      ]
    },
    {
      "cell_type": "markdown",
      "metadata": {
        "id": "WCRlPqQFb9f9"
      },
      "source": [
        "#### I will now split the timeseries into training and test sets, before I scale it to prevent data leakage. https://machinelearningmastery.com/machine-learning-data-transforms-for-time-series-forecasting/\n",
        "#### I'll be splitting the data into three sets (Training, Validation and Test)  as per the holdout method to help with determining the generalisation ability of the model during model selection. \n",
        "#### 61.45% of the data will be used for training, 12.7% will be used as the validation set and the remaining 25.85% will be used as the test set"
      ]
    },
    {
      "cell_type": "code",
      "metadata": {
        "id": "dXg1O9ENb9f-"
      },
      "source": [
        "split = int(len(df)*0.6145)\n",
        "training_set = df[:split]      # 17/8/2017 - 31/12/2019\n",
        "\n",
        "subset = df[split:]\n",
        "split2 = int(len(subset)*0.3303)\n",
        "\n",
        "val_set = subset[:split2]      # 1/1/2020 - 28/6/2020\n",
        "test_set = subset[split2:]     # 29/6/2020 - 28/6/2021"
      ],
      "execution_count": 16,
      "outputs": []
    },
    {
      "cell_type": "code",
      "metadata": {
        "colab": {
          "base_uri": "https://localhost:8080/"
        },
        "id": "x5oTK5hevHP5",
        "outputId": "b1d62265-b33e-4c67-b9c3-2619d5de05d0"
      },
      "source": [
        "print('Training: ', training_set.shape, '\\nValidation: ', val_set.shape, '\\nTest: ', test_set.shape)"
      ],
      "execution_count": 17,
      "outputs": [
        {
          "output_type": "stream",
          "text": [
            "Training:  (867, 5) \n",
            "Validation:  (180, 5) \n",
            "Test:  (365, 5)\n"
          ],
          "name": "stdout"
        }
      ]
    },
    {
      "cell_type": "markdown",
      "metadata": {
        "id": "rwSNvmT6wkGx"
      },
      "source": [
        "# Split the data into X and y variables"
      ]
    },
    {
      "cell_type": "code",
      "metadata": {
        "colab": {
          "base_uri": "https://localhost:8080/"
        },
        "id": "j0jH_bixwiU5",
        "outputId": "8e097544-afab-4e7c-9f5b-80fcf3b8ebf7"
      },
      "source": [
        "# the x values will contain all the features in the dataset and the y value will contain only the target feature to predict (Close Price) \n",
        "\n",
        "X_training = (training_set.iloc[:, :]).values.reshape(training_set.shape[0],training_set.shape[1])\n",
        "y_training = (training_set.iloc[:, 4]).values.reshape(training_set.shape[0],1)\n",
        "\n",
        "print(X_training.shape, y_training.shape)\n",
        "\n",
        "X_valid = (val_set.iloc[:, :]).values.reshape(val_set.shape[0],val_set.shape[1])\n",
        "y_valid = (val_set.iloc[:, 4]).values.reshape(val_set.shape[0],1)\n",
        "\n",
        "print(X_valid.shape, y_valid.shape)\n",
        "\n",
        "X_testing = (test_set.iloc[:, :]).values.reshape(test_set.shape[0],test_set.shape[1])\n",
        "y_testing = (test_set.iloc[:, 4]).values.reshape(test_set.shape[0],1)\n",
        "\n",
        "print(X_testing.shape, y_testing.shape)"
      ],
      "execution_count": 18,
      "outputs": [
        {
          "output_type": "stream",
          "text": [
            "(867, 5) (867, 1)\n",
            "(180, 5) (180, 1)\n",
            "(365, 5) (365, 1)\n"
          ],
          "name": "stdout"
        }
      ]
    },
    {
      "cell_type": "markdown",
      "metadata": {
        "id": "L9yC4S10b9f-"
      },
      "source": [
        "# Normalisation"
      ]
    },
    {
      "cell_type": "markdown",
      "metadata": {
        "id": "Y3HBL1aob9f_"
      },
      "source": [
        "#### The values need to be scaled to between 0 and 1 so I will use MinMaxScaler from scikit-learn to do this.\n",
        "#### https://scikit-learn.org/stable/modules/generated/sklearn.preprocessing.MinMaxScaler.html"
      ]
    },
    {
      "cell_type": "code",
      "metadata": {
        "id": "XdVhgRevb9f_"
      },
      "source": [
        "Xscaler = MinMaxScaler(feature_range=(0,1))\n",
        "yscaler = MinMaxScaler(feature_range=(0,1))\n",
        "\n",
        "X_train = Xscaler.fit_transform(X_training)\n",
        "y_train = yscaler.fit_transform(y_training)\n",
        "\n",
        "X_val = Xscaler.fit_transform(X_valid)\n",
        "y_val = yscaler.fit_transform(y_valid)\n",
        "\n",
        "X_test = Xscaler.fit_transform(X_testing)\n",
        "y_test = yscaler.fit_transform(y_testing)"
      ],
      "execution_count": 19,
      "outputs": []
    },
    {
      "cell_type": "markdown",
      "metadata": {
        "id": "PXdorkq6QtDT"
      },
      "source": [
        "## Prepare data for multi-step LSTM\n",
        "##### source code: https://pangkh98.medium.com/multi-step-multivariate-time-series-forecasting-using-lstm-92c6d22cd9c2"
      ]
    },
    {
      "cell_type": "code",
      "metadata": {
        "colab": {
          "base_uri": "https://localhost:8080/"
        },
        "id": "nwBjpX0QO96M",
        "outputId": "69c88904-7f5f-406b-cab0-c79e0e67dd75"
      },
      "source": [
        "# stack the data horizontally\n",
        "\n",
        "train_stacked = np.hstack((X_train, y_train))\n",
        "print (\"Stacked Training Data Shape: \" , train_stacked.shape)\n",
        "\n",
        "val_stacked = np.hstack((X_val, y_val))\n",
        "print (\"Stacked Validation Data Shape: \" , val_stacked.shape)\n",
        "\n",
        "test_stacked = np.hstack((X_test, y_test))\n",
        "print (\"Stacked Test Data Shape: \" , test_stacked.shape)"
      ],
      "execution_count": 20,
      "outputs": [
        {
          "output_type": "stream",
          "text": [
            "Stacked Training Data Shape:  (867, 6)\n",
            "Stacked Validation Data Shape:  (180, 6)\n",
            "Stacked Test Data Shape:  (365, 6)\n"
          ],
          "name": "stdout"
        }
      ]
    },
    {
      "cell_type": "code",
      "metadata": {
        "id": "ex1aH0q5QJTw"
      },
      "source": [
        "# create sequences (n_steps_in = input timesteps, n_steps_out = output timesteps)\n",
        "\n",
        "def create_sequences(sequences, n_steps_in, n_steps_out):\n",
        " X, y = [], []\n",
        "\n",
        " for i in range(len(sequences)):\n",
        "\n",
        "  # find the end of this pattern\n",
        "  end_ix = i + n_steps_in\n",
        "  out_end_ix = end_ix + n_steps_out-1\n",
        "\n",
        "  # check if we are beyond the dataset\n",
        "  if out_end_ix > len(sequences):\n",
        "   break\n",
        "\n",
        "  # gather input and output parts of the pattern\n",
        "  seq_x, seq_y = sequences[i:end_ix, :-1], sequences[end_ix-1:out_end_ix, -1]\n",
        "  X.append(seq_x)\n",
        "  y.append(seq_y)\n",
        " return np.array(X), np.array(y)\n",
        "\n",
        "   "
      ],
      "execution_count": 21,
      "outputs": []
    },
    {
      "cell_type": "code",
      "metadata": {
        "colab": {
          "base_uri": "https://localhost:8080/"
        },
        "id": "z1tNnTyXjW5h",
        "outputId": "a387672b-56aa-4675-a629-157e3199f85c"
      },
      "source": [
        "# choose a number of time steps \n",
        "n_steps_in, n_steps_out = 7, 7\n",
        "\n",
        "# run function\n",
        "X_train, y_train = create_sequences(train_stacked, n_steps_in, n_steps_out)\n",
        "print (\"X train sequences: \" , X_train.shape, \"y train sequences\" , y_train.shape)            \n",
        "\n",
        "X_val, y_val = create_sequences(val_stacked, n_steps_in, n_steps_out)\n",
        "print (\"X val sequences: \" , X_val.shape, \"y val sequences\" , y_val.shape) \n",
        "\n",
        "X_test, y_test = create_sequences(test_stacked, n_steps_in, n_steps_out)\n",
        "print (\"X test sequences: \" , X_test.shape, \"y test sequences\" , y_test.shape)      "
      ],
      "execution_count": 22,
      "outputs": [
        {
          "output_type": "stream",
          "text": [
            "X train sequences:  (855, 7, 5) y train sequences (855, 7)\n",
            "X val sequences:  (168, 7, 5) y val sequences (168, 7)\n",
            "X test sequences:  (353, 7, 5) y test sequences (353, 7)\n"
          ],
          "name": "stdout"
        }
      ]
    },
    {
      "cell_type": "markdown",
      "metadata": {
        "id": "wzBdRK4jb9gA"
      },
      "source": [
        "# Model Building on CoLab\n",
        "### I will tune the model using Keras Tuner\n",
        "\n",
        "##### https://www.danielpovey.com/files/2017_interspeech_dropout.pdf \n",
        "##### https://www.tensorflow.org/tutorials/keras/keras_tuner#define_the_model\n",
        "##### https://machinelearningmastery.com/how-to-develop-lstm-models-for-multi-step-time-series-forecasting-of-household-power-consumption/"
      ]
    },
    {
      "cell_type": "code",
      "metadata": {
        "id": "4BSjsu7wb9gA"
      },
      "source": [
        "n_features = X_train.shape[2]\n",
        "\n",
        "rmse = RootMeanSquaredError()\n",
        "mae = MeanAbsoluteError()\n",
        "\n",
        "# for encoder-decoder model, reshape output into [samples, timesteps, features]\n",
        "y_train = y_train.reshape((y_train.shape[0], y_train.shape[1], 1))\n",
        "y_val = y_val.reshape((y_val.shape[0], y_val.shape[1], 1))\n",
        "y_test = y_test.reshape((y_test.shape[0], y_test.shape[1], 1))\n",
        "\n",
        "# I need to define the features during model creation so that the Keras Tuner can find the optimum values\n",
        "\n",
        "# create Encode-Decoder LSTM model\n",
        "def build_model(hp):\n",
        "\n",
        "  model = Sequential()\n",
        "  # Tuner for number of nodules/units in the model layers\n",
        "  model.add(LSTM(units=hp.Int('units', min_value=10, max_value=100, step=10), activation='relu', input_shape=(n_steps_in, n_features)))\n",
        "  model.add(RepeatVector(n_steps_out))\n",
        "\n",
        "  for i in range(hp.Int('n_layers', 1, 3)):  # adding variation of layers.\n",
        "    model.add(LSTM(units=hp.Int('units', min_value=10, max_value=100, step=10), activation='relu', return_sequences=True))\n",
        "    model.add(Dropout(hp.Choice('dropout', values=[0.3, 0.5, 0.7])))\n",
        "\n",
        "  model.add(LSTM(units=hp.Int('units', min_value=10, max_value=100, step=10), activation='relu', return_sequences=True))\n",
        "  model.add(Dropout(hp.Choice('dropout', values=[0.3, 0.5, 0.7])))\n",
        "  model.add(TimeDistributed(Dense(10, activation='relu')))\n",
        "  model.add(TimeDistributed(Dense(n_steps_out)))\n",
        "  model.compile(loss='mse' , optimizer=keras.optimizers.Adam(hp.Choice('learning_rate', values=[0.01, 0.001, 0.0001])) , metrics=[rmse, mae])\n",
        "\n",
        "  return model\n"
      ],
      "execution_count": 23,
      "outputs": []
    },
    {
      "cell_type": "markdown",
      "metadata": {
        "id": "QK8SbbsUK5Y8"
      },
      "source": [
        "# Hypertune the model"
      ]
    },
    {
      "cell_type": "code",
      "metadata": {
        "id": "BKhRNWtwK8qH"
      },
      "source": [
        "# I need to set up the tuner with the correct objective function which in this case is to minimise the validation loss (i.e. the generalisation error)\n",
        "\n",
        "tuner1 = kt.RandomSearch(build_model,\n",
        "                     objective = kt.Objective(\"val_loss\", direction=\"min\"),\n",
        "                     max_trials=10)"
      ],
      "execution_count": 24,
      "outputs": []
    },
    {
      "cell_type": "markdown",
      "metadata": {
        "id": "1LWZa736P-qy"
      },
      "source": [
        "# Search for the best parameters"
      ]
    },
    {
      "cell_type": "code",
      "metadata": {
        "colab": {
          "base_uri": "https://localhost:8080/"
        },
        "id": "IQ58h410Reeq",
        "outputId": "8366f0ce-257f-4f79-bfbe-8798edece8fc"
      },
      "source": [
        "tuner1.search_space_summary()"
      ],
      "execution_count": 25,
      "outputs": [
        {
          "output_type": "stream",
          "text": [
            "Search space summary\n",
            "Default search space size: 4\n",
            "units (Int)\n",
            "{'default': None, 'conditions': [], 'min_value': 10, 'max_value': 100, 'step': 10, 'sampling': None}\n",
            "n_layers (Int)\n",
            "{'default': None, 'conditions': [], 'min_value': 1, 'max_value': 3, 'step': 1, 'sampling': None}\n",
            "dropout (Choice)\n",
            "{'default': 0.3, 'conditions': [], 'values': [0.3, 0.5, 0.7], 'ordered': True}\n",
            "learning_rate (Choice)\n",
            "{'default': 0.01, 'conditions': [], 'values': [0.01, 0.001, 0.0001], 'ordered': True}\n"
          ],
          "name": "stdout"
        }
      ]
    },
    {
      "cell_type": "code",
      "metadata": {
        "id": "71ouGcrlmIg-"
      },
      "source": [
        "stop_early = tf.keras.callbacks.EarlyStopping(monitor='val_loss', patience=5)"
      ],
      "execution_count": 26,
      "outputs": []
    },
    {
      "cell_type": "code",
      "metadata": {
        "colab": {
          "base_uri": "https://localhost:8080/"
        },
        "id": "QN7TB19hP9tO",
        "outputId": "972dd3c2-3eb0-4dd4-fdd7-e772ad51e51c"
      },
      "source": [
        "# The tuner will now search across the potential values for each hyperparameter and select the best combination\n",
        "\n",
        "tuner1.search(X_train , y_train , epochs=100 , validation_data=(X_val, y_val)  ,shuffle=False, callbacks=[stop_early])"
      ],
      "execution_count": 27,
      "outputs": [
        {
          "output_type": "stream",
          "text": [
            "Trial 10 Complete [00h 00m 32s]\n",
            "val_loss: 0.15472620725631714\n",
            "\n",
            "Best val_loss So Far: 0.017217475920915604\n",
            "Total elapsed time: 00h 07m 53s\n",
            "INFO:tensorflow:Oracle triggered exit\n"
          ],
          "name": "stdout"
        }
      ]
    },
    {
      "cell_type": "markdown",
      "metadata": {
        "id": "4a6p3wilRwVv"
      },
      "source": [
        "# Results of hypertuning"
      ]
    },
    {
      "cell_type": "code",
      "metadata": {
        "id": "kNc7FgTmRvRg",
        "colab": {
          "base_uri": "https://localhost:8080/"
        },
        "outputId": "6e73f961-8644-4ef9-f8c6-b1325fba0f82"
      },
      "source": [
        "# This will provide a list of the top 10 best models in ascending order, with their respective parameters. \n",
        "# Model 1 at the top of the list is the optimised model that I will use for training and testing.\n",
        "\n",
        "tuner1.results_summary()"
      ],
      "execution_count": 28,
      "outputs": [
        {
          "output_type": "stream",
          "text": [
            "Results summary\n",
            "Results in ./untitled_project\n",
            "Showing 10 best trials\n",
            "Objective(name='val_loss', direction='min')\n",
            "Trial summary\n",
            "Hyperparameters:\n",
            "units: 40\n",
            "n_layers: 2\n",
            "dropout: 0.3\n",
            "learning_rate: 0.001\n",
            "Score: 0.017217475920915604\n",
            "Trial summary\n",
            "Hyperparameters:\n",
            "units: 20\n",
            "n_layers: 2\n",
            "dropout: 0.3\n",
            "learning_rate: 0.001\n",
            "Score: 0.018303008750081062\n",
            "Trial summary\n",
            "Hyperparameters:\n",
            "units: 70\n",
            "n_layers: 2\n",
            "dropout: 0.3\n",
            "learning_rate: 0.001\n",
            "Score: 0.020545659586787224\n",
            "Trial summary\n",
            "Hyperparameters:\n",
            "units: 60\n",
            "n_layers: 2\n",
            "dropout: 0.7\n",
            "learning_rate: 0.001\n",
            "Score: 0.02270224690437317\n",
            "Trial summary\n",
            "Hyperparameters:\n",
            "units: 10\n",
            "n_layers: 2\n",
            "dropout: 0.3\n",
            "learning_rate: 0.001\n",
            "Score: 0.0233148243278265\n",
            "Trial summary\n",
            "Hyperparameters:\n",
            "units: 70\n",
            "n_layers: 3\n",
            "dropout: 0.3\n",
            "learning_rate: 0.0001\n",
            "Score: 0.026607360690832138\n",
            "Trial summary\n",
            "Hyperparameters:\n",
            "units: 50\n",
            "n_layers: 1\n",
            "dropout: 0.3\n",
            "learning_rate: 0.0001\n",
            "Score: 0.03501038998365402\n",
            "Trial summary\n",
            "Hyperparameters:\n",
            "units: 50\n",
            "n_layers: 3\n",
            "dropout: 0.5\n",
            "learning_rate: 0.001\n",
            "Score: 0.03732877969741821\n",
            "Trial summary\n",
            "Hyperparameters:\n",
            "units: 30\n",
            "n_layers: 3\n",
            "dropout: 0.5\n",
            "learning_rate: 0.0001\n",
            "Score: 0.042557280510663986\n",
            "Trial summary\n",
            "Hyperparameters:\n",
            "units: 70\n",
            "n_layers: 3\n",
            "dropout: 0.5\n",
            "learning_rate: 0.01\n",
            "Score: 0.15472620725631714\n"
          ],
          "name": "stdout"
        }
      ]
    },
    {
      "cell_type": "code",
      "metadata": {
        "id": "DyC2v0MvR8BS"
      },
      "source": [
        "# best model - we still need to find the best number of epochs though\n",
        "best_model_history = tuner1.get_best_models(num_models=1)[0]"
      ],
      "execution_count": 29,
      "outputs": []
    },
    {
      "cell_type": "code",
      "metadata": {
        "id": "mJw97SfvTzV0",
        "colab": {
          "base_uri": "https://localhost:8080/"
        },
        "outputId": "92d69eb9-25a7-4aa1-e0c0-84da42cfabc1"
      },
      "source": [
        "best_model_history.summary()"
      ],
      "execution_count": 30,
      "outputs": [
        {
          "output_type": "stream",
          "text": [
            "Model: \"sequential\"\n",
            "_________________________________________________________________\n",
            "Layer (type)                 Output Shape              Param #   \n",
            "=================================================================\n",
            "lstm (LSTM)                  (None, 40)                7360      \n",
            "_________________________________________________________________\n",
            "repeat_vector (RepeatVector) (None, 7, 40)             0         \n",
            "_________________________________________________________________\n",
            "lstm_1 (LSTM)                (None, 7, 40)             12960     \n",
            "_________________________________________________________________\n",
            "dropout (Dropout)            (None, 7, 40)             0         \n",
            "_________________________________________________________________\n",
            "lstm_2 (LSTM)                (None, 7, 40)             12960     \n",
            "_________________________________________________________________\n",
            "dropout_1 (Dropout)          (None, 7, 40)             0         \n",
            "_________________________________________________________________\n",
            "lstm_3 (LSTM)                (None, 7, 40)             12960     \n",
            "_________________________________________________________________\n",
            "dropout_2 (Dropout)          (None, 7, 40)             0         \n",
            "_________________________________________________________________\n",
            "time_distributed (TimeDistri (None, 7, 10)             410       \n",
            "_________________________________________________________________\n",
            "time_distributed_1 (TimeDist (None, 7, 7)              77        \n",
            "=================================================================\n",
            "Total params: 46,727\n",
            "Trainable params: 46,727\n",
            "Non-trainable params: 0\n",
            "_________________________________________________________________\n"
          ],
          "name": "stdout"
        }
      ]
    },
    {
      "cell_type": "markdown",
      "metadata": {
        "id": "ZBWm5xrdS1oy"
      },
      "source": [
        "# Find optimal epochs by training the best model with the best hyperparameters"
      ]
    },
    {
      "cell_type": "code",
      "metadata": {
        "id": "M-VQrBQ4SlTi"
      },
      "source": [
        "find_epoch = best_model_history.fit(X_train , y_train , epochs=100 , validation_data=(X_val, y_val) ,shuffle=False, verbose = 0)"
      ],
      "execution_count": 31,
      "outputs": []
    },
    {
      "cell_type": "code",
      "metadata": {
        "id": "GksCinWc2cDg",
        "colab": {
          "base_uri": "https://localhost:8080/"
        },
        "outputId": "983f364d-beb7-44ac-df76-63aaf684d8ba"
      },
      "source": [
        "val_loss_per_epoch = find_epoch.history['val_loss']    # want to find where the gap between train loss and val loss is minimal\n",
        "best_epoch = val_loss_per_epoch.index(min(val_loss_per_epoch)) + 1\n",
        "print('Best epoch: %d' % (best_epoch))"
      ],
      "execution_count": 32,
      "outputs": [
        {
          "output_type": "stream",
          "text": [
            "Best epoch: 92\n"
          ],
          "name": "stdout"
        }
      ]
    },
    {
      "cell_type": "markdown",
      "metadata": {
        "id": "i_sFkNak4RyR"
      },
      "source": [
        "# Re-train model to get final results\n",
        "#### The training will be repeated 5 times for robustness\n",
        "#### source code: https://github.com/yanghaocsg/keras_lstm/wiki/chapter-7.1-Evaluating-LSTM-Models-Robustly\n"
      ]
    },
    {
      "cell_type": "code",
      "metadata": {
        "id": "gA9ilPEb2gYg",
        "colab": {
          "base_uri": "https://localhost:8080/"
        },
        "outputId": "8d2655b0-321e-4e82-d0ac-2660d69ddd18"
      },
      "source": [
        "best_model = tuner1.get_best_models(num_models=1)[0]\n",
        "\n",
        "training_losses = pd.DataFrame()\n",
        "validation_losses = pd.DataFrame()\n",
        "\n",
        "training_rmse = pd.DataFrame()\n",
        "validation_rmse = pd.DataFrame()\n",
        "\n",
        "training_mae = pd.DataFrame()\n",
        "validation_mae = pd.DataFrame()\n",
        "\n",
        "for i in range(5):\n",
        "\n",
        "  # fit model\n",
        "  print('\\nTraining Number ', i)\n",
        "  history = best_model.fit(X_train , y_train , epochs=best_epoch , verbose=0 , validation_data=(X_val, y_val) ,shuffle=False)\n",
        "\n",
        "  training_losses[str(i)] = history.history['loss']\n",
        "  validation_losses[str(i)] = history.history['val_loss']\n",
        "\n",
        "  training_rmse[str(i)] = history.history['root_mean_squared_error']\n",
        "  validation_rmse[str(i)] = history.history['val_root_mean_squared_error']\n",
        "\n",
        "  training_mae[str(i)] = history.history['mean_absolute_error']\n",
        "  validation_mae[str(i)] = history.history['val_mean_absolute_error']"
      ],
      "execution_count": 33,
      "outputs": [
        {
          "output_type": "stream",
          "text": [
            "\n",
            "Training Number  0\n",
            "\n",
            "Training Number  1\n",
            "\n",
            "Training Number  2\n",
            "\n",
            "Training Number  3\n",
            "\n",
            "Training Number  4\n"
          ],
          "name": "stdout"
        }
      ]
    },
    {
      "cell_type": "code",
      "metadata": {
        "id": "xZMOUG_z2lPy",
        "colab": {
          "base_uri": "https://localhost:8080/"
        },
        "outputId": "08234a28-59b0-4c88-a409-8208ce9893ec"
      },
      "source": [
        "# Retrieve results to get an average value of each\n",
        "\n",
        "avg_trainloss_list = []\n",
        "avg_valloss_list= []\n",
        "\n",
        "avg_trainrmse_list = []\n",
        "avg_valrmse_list= []\n",
        "\n",
        "avg_trainmae_list = []\n",
        "avg_valmae_list = []\n",
        "\n",
        "for i in range(5):\n",
        "\n",
        "  final_train_loss = training_losses.iloc[-1,i]\n",
        "  final_val_loss = validation_losses.iloc[-1,i]\n",
        "  avg_trainloss_list.append(final_train_loss)\n",
        "  avg_valloss_list.append(final_val_loss)\n",
        "\n",
        "  final_train_rmse = training_rmse.iloc[-1,i]\n",
        "  final_val_rmse = validation_rmse.iloc[-1,i]\n",
        "  avg_trainrmse_list.append(final_train_rmse)\n",
        "  avg_valrmse_list.append(final_val_rmse)\n",
        "  \n",
        "  final_train_mae = training_mae.iloc[-1,i]\n",
        "  final_val_mae = validation_mae.iloc[-1,i]\n",
        "  avg_trainmae_list.append(final_train_mae)\n",
        "  avg_valmae_list.append(final_val_mae)\n",
        "\n",
        "print('Average Training Loss: ', float('%.3g' % np.mean(avg_trainloss_list)), ' ||  Average Validation Loss: ', float('%.3g' % np.mean(avg_valloss_list)))\n",
        "print('Average Training RMSE: ', float('%.3g' % np.mean(avg_trainrmse_list)), ' ||  Average Validation RMSE: ', float('%.3g' % np.mean(avg_valrmse_list)))\n",
        "print('Average Training MAE: ', float('%.3g' % np.mean(avg_trainmae_list)), ' ||  Average Validation MAE: ', float('%.3g' % np.mean(avg_valmae_list)))\n"
      ],
      "execution_count": 34,
      "outputs": [
        {
          "output_type": "stream",
          "text": [
            "Average Training Loss:  0.00278  ||  Average Validation Loss:  0.0137\n",
            "Average Training RMSE:  0.0525  ||  Average Validation RMSE:  0.117\n",
            "Average Training MAE:  0.0334  ||  Average Validation MAE:  0.0789\n"
          ],
          "name": "stdout"
        }
      ]
    },
    {
      "cell_type": "markdown",
      "metadata": {
        "id": "F8B27TFuiQbM"
      },
      "source": [
        "# Test the model on test dataset"
      ]
    },
    {
      "cell_type": "code",
      "metadata": {
        "id": "9M9dFSyD2ok1",
        "colab": {
          "base_uri": "https://localhost:8080/",
          "height": 386
        },
        "outputId": "d48b6501-0871-4bcd-8a3a-50829d68b5b1"
      },
      "source": [
        "y_test_reshape = y_test.reshape((y_test.shape[0], y_test.shape[1]*y_test.shape[2]))\n",
        "y_test_inv = yscaler.inverse_transform(y_test_reshape)\n",
        "\n",
        "# generate the test predictions and plot them against the true values\n",
        "\n",
        "test_pred = best_model.predict(X_test)\n",
        "test_pred = test_pred.reshape((test_pred.shape[0], test_pred.shape[1]*test_pred.shape[2]))\n",
        "test_pred = yscaler.inverse_transform(test_pred)\n",
        "\n",
        "plt.figure(figsize = (10, 5))\n",
        "plt.plot(y_test_inv[:,0], label = 'True')\n",
        "plt.plot(test_pred[:,0], label = 'Predicted')\n",
        "plt.legend()\n",
        "plt.title('ETH Prices - Model A (7-7) Optimised')\n",
        "plt.xlabel(\"Days\")\n",
        "plt.ylabel(\"Close Price\")\n",
        "plt.show()\n",
        "\n",
        "# generate the loss and rmse\n",
        "\n",
        "test_loss, test_rmse, test_mae = best_model.evaluate(X_test, y_test, verbose = 0)\n",
        "\n",
        "print('\\nTesting Loss: ', float('%.3g' % test_loss), ' ||  Testing RMSE: ', float('%.3g' % test_rmse), ' ||  Testing MAE: ', float('%.3g' % test_mae))\n"
      ],
      "execution_count": 35,
      "outputs": [
        {
          "output_type": "display_data",
          "data": {
            "image/png": "[encoded data removed]",
            "text/plain": [
              "<Figure size 720x360 with 1 Axes>"
            ]
          },
          "metadata": {
            "needs_background": "light"
          }
        },
        {
          "output_type": "stream",
          "text": [
            "\n",
            "Testing Loss:  0.00294  ||  Testing RMSE:  0.0542  ||  Testing MAE:  0.0327\n"
          ],
          "name": "stdout"
        }
      ]
    }
  ]
}