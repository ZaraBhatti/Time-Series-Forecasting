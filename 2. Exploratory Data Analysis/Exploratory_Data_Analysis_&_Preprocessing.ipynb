{
 "cells": [
  {
   "cell_type": "code",
   "execution_count": 1,
   "metadata": {},
   "outputs": [],
   "source": [
    "import pandas as pd\n",
    "import matplotlib.pyplot as plt\n",
    "import seaborn as sns\n",
    "import matplotlib.dates as mdates\n",
    "import statsmodels.api as sm\n",
    "from scipy.stats import kstest\n",
    "from statsmodels.tsa.stattools import adfuller, kpss\n",
    "from statsmodels.tsa.seasonal import STL"
   ]
  },
  {
   "cell_type": "markdown",
   "metadata": {},
   "source": [
    "# Load the ETH dataset"
   ]
  },
  {
   "cell_type": "code",
   "execution_count": 2,
   "metadata": {},
   "outputs": [],
   "source": [
    "df = pd.read_csv('dataset.csv', header=None)\n",
    "\n",
    "df.columns = ['Open Time', 'Open', 'High', 'Low', 'Close', 'Volume (ETH)', 'Close Time', 'Quote Asset Volume (USDT)', \n",
    "              'No. of trades', 'Buy Base Volume (ETH)', 'Buy Quote Volume (USDT)', 'Ignore']"
   ]
  },
  {
   "cell_type": "code",
   "execution_count": 3,
   "metadata": {},
   "outputs": [
    {
     "name": "stdout",
     "output_type": "stream",
     "text": [
      "<class 'pandas.core.frame.DataFrame'>\n",
      "RangeIndex: 1412 entries, 0 to 1411\n",
      "Data columns (total 12 columns):\n",
      " #   Column                     Non-Null Count  Dtype  \n",
      "---  ------                     --------------  -----  \n",
      " 0   Open Time                  1412 non-null   int64  \n",
      " 1   Open                       1412 non-null   float64\n",
      " 2   High                       1412 non-null   float64\n",
      " 3   Low                        1412 non-null   float64\n",
      " 4   Close                      1412 non-null   float64\n",
      " 5   Volume (ETH)               1412 non-null   float64\n",
      " 6   Close Time                 1412 non-null   int64  \n",
      " 7   Quote Asset Volume (USDT)  1412 non-null   float64\n",
      " 8   No. of trades              1412 non-null   int64  \n",
      " 9   Buy Base Volume (ETH)      1412 non-null   float64\n",
      " 10  Buy Quote Volume (USDT)    1412 non-null   float64\n",
      " 11  Ignore                     1412 non-null   float64\n",
      "dtypes: float64(9), int64(3)\n",
      "memory usage: 132.5 KB\n"
     ]
    }
   ],
   "source": [
    "df.info()"
   ]
  },
  {
   "cell_type": "code",
   "execution_count": 4,
   "metadata": {},
   "outputs": [
    {
     "data": {
      "text/html": [
       "<div>\n",
       "<style scoped>\n",
       "    .dataframe tbody tr th:only-of-type {\n",
       "        vertical-align: middle;\n",
       "    }\n",
       "\n",
       "    .dataframe tbody tr th {\n",
       "        vertical-align: top;\n",
       "    }\n",
       "\n",
       "    .dataframe thead th {\n",
       "        text-align: right;\n",
       "    }\n",
       "</style>\n",
       "<table border=\"1\" class=\"dataframe\">\n",
       "  <thead>\n",
       "    <tr style=\"text-align: right;\">\n",
       "      <th></th>\n",
       "      <th>Open Time</th>\n",
       "      <th>Open</th>\n",
       "      <th>High</th>\n",
       "      <th>Low</th>\n",
       "      <th>Close</th>\n",
       "      <th>Volume (ETH)</th>\n",
       "      <th>Close Time</th>\n",
       "      <th>Quote Asset Volume (USDT)</th>\n",
       "      <th>No. of trades</th>\n",
       "      <th>Buy Base Volume (ETH)</th>\n",
       "      <th>Buy Quote Volume (USDT)</th>\n",
       "      <th>Ignore</th>\n",
       "    </tr>\n",
       "  </thead>\n",
       "  <tbody>\n",
       "    <tr>\n",
       "      <th>0</th>\n",
       "      <td>1502928000000</td>\n",
       "      <td>301.13</td>\n",
       "      <td>312.18</td>\n",
       "      <td>298.00</td>\n",
       "      <td>302.00</td>\n",
       "      <td>7030.71034</td>\n",
       "      <td>1503014399999</td>\n",
       "      <td>2.154655e+06</td>\n",
       "      <td>4522</td>\n",
       "      <td>6224.58999</td>\n",
       "      <td>1.908705e+06</td>\n",
       "      <td>50579.872288</td>\n",
       "    </tr>\n",
       "    <tr>\n",
       "      <th>1</th>\n",
       "      <td>1503014400000</td>\n",
       "      <td>302.00</td>\n",
       "      <td>311.79</td>\n",
       "      <td>283.94</td>\n",
       "      <td>293.96</td>\n",
       "      <td>9537.84646</td>\n",
       "      <td>1503100799999</td>\n",
       "      <td>2.858947e+06</td>\n",
       "      <td>5658</td>\n",
       "      <td>7452.43542</td>\n",
       "      <td>2.240813e+06</td>\n",
       "      <td>55329.574324</td>\n",
       "    </tr>\n",
       "    <tr>\n",
       "      <th>2</th>\n",
       "      <td>1503100800000</td>\n",
       "      <td>293.31</td>\n",
       "      <td>299.90</td>\n",
       "      <td>278.00</td>\n",
       "      <td>290.91</td>\n",
       "      <td>2146.19773</td>\n",
       "      <td>1503187199999</td>\n",
       "      <td>6.200226e+05</td>\n",
       "      <td>1795</td>\n",
       "      <td>1537.97550</td>\n",
       "      <td>4.447136e+05</td>\n",
       "      <td>58005.171046</td>\n",
       "    </tr>\n",
       "    <tr>\n",
       "      <th>3</th>\n",
       "      <td>1503187200000</td>\n",
       "      <td>289.41</td>\n",
       "      <td>300.53</td>\n",
       "      <td>282.85</td>\n",
       "      <td>299.10</td>\n",
       "      <td>2510.13871</td>\n",
       "      <td>1503273599999</td>\n",
       "      <td>7.428479e+05</td>\n",
       "      <td>2038</td>\n",
       "      <td>2186.68739</td>\n",
       "      <td>6.475061e+05</td>\n",
       "      <td>60299.066154</td>\n",
       "    </tr>\n",
       "    <tr>\n",
       "      <th>4</th>\n",
       "      <td>1503273600000</td>\n",
       "      <td>299.10</td>\n",
       "      <td>346.52</td>\n",
       "      <td>294.60</td>\n",
       "      <td>323.29</td>\n",
       "      <td>5219.44542</td>\n",
       "      <td>1503359999999</td>\n",
       "      <td>1.689472e+06</td>\n",
       "      <td>3925</td>\n",
       "      <td>4004.19967</td>\n",
       "      <td>1.297977e+06</td>\n",
       "      <td>66203.840222</td>\n",
       "    </tr>\n",
       "  </tbody>\n",
       "</table>\n",
       "</div>"
      ],
      "text/plain": [
       "       Open Time    Open    High     Low   Close  Volume (ETH)     Close Time  \\\n",
       "0  1502928000000  301.13  312.18  298.00  302.00    7030.71034  1503014399999   \n",
       "1  1503014400000  302.00  311.79  283.94  293.96    9537.84646  1503100799999   \n",
       "2  1503100800000  293.31  299.90  278.00  290.91    2146.19773  1503187199999   \n",
       "3  1503187200000  289.41  300.53  282.85  299.10    2510.13871  1503273599999   \n",
       "4  1503273600000  299.10  346.52  294.60  323.29    5219.44542  1503359999999   \n",
       "\n",
       "   Quote Asset Volume (USDT)  No. of trades  Buy Base Volume (ETH)  \\\n",
       "0               2.154655e+06           4522             6224.58999   \n",
       "1               2.858947e+06           5658             7452.43542   \n",
       "2               6.200226e+05           1795             1537.97550   \n",
       "3               7.428479e+05           2038             2186.68739   \n",
       "4               1.689472e+06           3925             4004.19967   \n",
       "\n",
       "   Buy Quote Volume (USDT)        Ignore  \n",
       "0             1.908705e+06  50579.872288  \n",
       "1             2.240813e+06  55329.574324  \n",
       "2             4.447136e+05  58005.171046  \n",
       "3             6.475061e+05  60299.066154  \n",
       "4             1.297977e+06  66203.840222  "
      ]
     },
     "execution_count": 4,
     "metadata": {},
     "output_type": "execute_result"
    }
   ],
   "source": [
    "df.head()"
   ]
  },
  {
   "cell_type": "markdown",
   "metadata": {},
   "source": [
    "# Preprocessing\n",
    "#### The 'Open Time' and 'Close Time' columns are recorded in Unix Epoch Time so I will convert this into Standard Local Time for clarity."
   ]
  },
  {
   "cell_type": "code",
   "execution_count": 5,
   "metadata": {},
   "outputs": [],
   "source": [
    "df['Open Date'] = pd.to_datetime(df['Open Time'], unit='ms')"
   ]
  },
  {
   "cell_type": "code",
   "execution_count": 6,
   "metadata": {},
   "outputs": [
    {
     "data": {
      "text/html": [
       "<div>\n",
       "<style scoped>\n",
       "    .dataframe tbody tr th:only-of-type {\n",
       "        vertical-align: middle;\n",
       "    }\n",
       "\n",
       "    .dataframe tbody tr th {\n",
       "        vertical-align: top;\n",
       "    }\n",
       "\n",
       "    .dataframe thead th {\n",
       "        text-align: right;\n",
       "    }\n",
       "</style>\n",
       "<table border=\"1\" class=\"dataframe\">\n",
       "  <thead>\n",
       "    <tr style=\"text-align: right;\">\n",
       "      <th></th>\n",
       "      <th>Open Time</th>\n",
       "      <th>Open</th>\n",
       "      <th>High</th>\n",
       "      <th>Low</th>\n",
       "      <th>Close</th>\n",
       "      <th>Volume (ETH)</th>\n",
       "      <th>Close Time</th>\n",
       "      <th>Quote Asset Volume (USDT)</th>\n",
       "      <th>No. of trades</th>\n",
       "      <th>Buy Base Volume (ETH)</th>\n",
       "      <th>Buy Quote Volume (USDT)</th>\n",
       "      <th>Ignore</th>\n",
       "      <th>Open Date</th>\n",
       "    </tr>\n",
       "  </thead>\n",
       "  <tbody>\n",
       "    <tr>\n",
       "      <th>0</th>\n",
       "      <td>1502928000000</td>\n",
       "      <td>301.13</td>\n",
       "      <td>312.18</td>\n",
       "      <td>298.00</td>\n",
       "      <td>302.00</td>\n",
       "      <td>7030.71034</td>\n",
       "      <td>1503014399999</td>\n",
       "      <td>2.154655e+06</td>\n",
       "      <td>4522</td>\n",
       "      <td>6224.58999</td>\n",
       "      <td>1.908705e+06</td>\n",
       "      <td>50579.872288</td>\n",
       "      <td>2017-08-17</td>\n",
       "    </tr>\n",
       "    <tr>\n",
       "      <th>1</th>\n",
       "      <td>1503014400000</td>\n",
       "      <td>302.00</td>\n",
       "      <td>311.79</td>\n",
       "      <td>283.94</td>\n",
       "      <td>293.96</td>\n",
       "      <td>9537.84646</td>\n",
       "      <td>1503100799999</td>\n",
       "      <td>2.858947e+06</td>\n",
       "      <td>5658</td>\n",
       "      <td>7452.43542</td>\n",
       "      <td>2.240813e+06</td>\n",
       "      <td>55329.574324</td>\n",
       "      <td>2017-08-18</td>\n",
       "    </tr>\n",
       "    <tr>\n",
       "      <th>2</th>\n",
       "      <td>1503100800000</td>\n",
       "      <td>293.31</td>\n",
       "      <td>299.90</td>\n",
       "      <td>278.00</td>\n",
       "      <td>290.91</td>\n",
       "      <td>2146.19773</td>\n",
       "      <td>1503187199999</td>\n",
       "      <td>6.200226e+05</td>\n",
       "      <td>1795</td>\n",
       "      <td>1537.97550</td>\n",
       "      <td>4.447136e+05</td>\n",
       "      <td>58005.171046</td>\n",
       "      <td>2017-08-19</td>\n",
       "    </tr>\n",
       "    <tr>\n",
       "      <th>3</th>\n",
       "      <td>1503187200000</td>\n",
       "      <td>289.41</td>\n",
       "      <td>300.53</td>\n",
       "      <td>282.85</td>\n",
       "      <td>299.10</td>\n",
       "      <td>2510.13871</td>\n",
       "      <td>1503273599999</td>\n",
       "      <td>7.428479e+05</td>\n",
       "      <td>2038</td>\n",
       "      <td>2186.68739</td>\n",
       "      <td>6.475061e+05</td>\n",
       "      <td>60299.066154</td>\n",
       "      <td>2017-08-20</td>\n",
       "    </tr>\n",
       "    <tr>\n",
       "      <th>4</th>\n",
       "      <td>1503273600000</td>\n",
       "      <td>299.10</td>\n",
       "      <td>346.52</td>\n",
       "      <td>294.60</td>\n",
       "      <td>323.29</td>\n",
       "      <td>5219.44542</td>\n",
       "      <td>1503359999999</td>\n",
       "      <td>1.689472e+06</td>\n",
       "      <td>3925</td>\n",
       "      <td>4004.19967</td>\n",
       "      <td>1.297977e+06</td>\n",
       "      <td>66203.840222</td>\n",
       "      <td>2017-08-21</td>\n",
       "    </tr>\n",
       "    <tr>\n",
       "      <th>...</th>\n",
       "      <td>...</td>\n",
       "      <td>...</td>\n",
       "      <td>...</td>\n",
       "      <td>...</td>\n",
       "      <td>...</td>\n",
       "      <td>...</td>\n",
       "      <td>...</td>\n",
       "      <td>...</td>\n",
       "      <td>...</td>\n",
       "      <td>...</td>\n",
       "      <td>...</td>\n",
       "      <td>...</td>\n",
       "      <td>...</td>\n",
       "    </tr>\n",
       "    <tr>\n",
       "      <th>1407</th>\n",
       "      <td>1624492800000</td>\n",
       "      <td>1967.95</td>\n",
       "      <td>2036.61</td>\n",
       "      <td>1884.79</td>\n",
       "      <td>1989.52</td>\n",
       "      <td>701231.67478</td>\n",
       "      <td>1624579199999</td>\n",
       "      <td>1.377800e+09</td>\n",
       "      <td>833337</td>\n",
       "      <td>344155.41659</td>\n",
       "      <td>6.763048e+08</td>\n",
       "      <td>0.000000</td>\n",
       "      <td>2021-06-24</td>\n",
       "    </tr>\n",
       "    <tr>\n",
       "      <th>1408</th>\n",
       "      <td>1624579200000</td>\n",
       "      <td>1989.53</td>\n",
       "      <td>2019.99</td>\n",
       "      <td>1791.22</td>\n",
       "      <td>1808.82</td>\n",
       "      <td>858808.54767</td>\n",
       "      <td>1624665599999</td>\n",
       "      <td>1.612557e+09</td>\n",
       "      <td>1041338</td>\n",
       "      <td>408120.68053</td>\n",
       "      <td>7.665949e+08</td>\n",
       "      <td>0.000000</td>\n",
       "      <td>2021-06-25</td>\n",
       "    </tr>\n",
       "    <tr>\n",
       "      <th>1409</th>\n",
       "      <td>1624665600000</td>\n",
       "      <td>1808.97</td>\n",
       "      <td>1852.80</td>\n",
       "      <td>1717.32</td>\n",
       "      <td>1829.64</td>\n",
       "      <td>832315.14904</td>\n",
       "      <td>1624751999999</td>\n",
       "      <td>1.478551e+09</td>\n",
       "      <td>923226</td>\n",
       "      <td>407180.66965</td>\n",
       "      <td>7.233913e+08</td>\n",
       "      <td>0.000000</td>\n",
       "      <td>2021-06-26</td>\n",
       "    </tr>\n",
       "    <tr>\n",
       "      <th>1410</th>\n",
       "      <td>1624752000000</td>\n",
       "      <td>1829.84</td>\n",
       "      <td>1984.50</td>\n",
       "      <td>1804.26</td>\n",
       "      <td>1982.28</td>\n",
       "      <td>696055.79307</td>\n",
       "      <td>1624838399999</td>\n",
       "      <td>1.299522e+09</td>\n",
       "      <td>1091206</td>\n",
       "      <td>354611.53419</td>\n",
       "      <td>6.628817e+08</td>\n",
       "      <td>0.000000</td>\n",
       "      <td>2021-06-27</td>\n",
       "    </tr>\n",
       "    <tr>\n",
       "      <th>1411</th>\n",
       "      <td>1624838400000</td>\n",
       "      <td>1982.27</td>\n",
       "      <td>2136.71</td>\n",
       "      <td>1960.52</td>\n",
       "      <td>2088.28</td>\n",
       "      <td>855130.60213</td>\n",
       "      <td>1624924799999</td>\n",
       "      <td>1.740555e+09</td>\n",
       "      <td>1248749</td>\n",
       "      <td>444496.47884</td>\n",
       "      <td>9.049952e+08</td>\n",
       "      <td>0.000000</td>\n",
       "      <td>2021-06-28</td>\n",
       "    </tr>\n",
       "  </tbody>\n",
       "</table>\n",
       "<p>1412 rows × 13 columns</p>\n",
       "</div>"
      ],
      "text/plain": [
       "          Open Time     Open     High      Low    Close  Volume (ETH)  \\\n",
       "0     1502928000000   301.13   312.18   298.00   302.00    7030.71034   \n",
       "1     1503014400000   302.00   311.79   283.94   293.96    9537.84646   \n",
       "2     1503100800000   293.31   299.90   278.00   290.91    2146.19773   \n",
       "3     1503187200000   289.41   300.53   282.85   299.10    2510.13871   \n",
       "4     1503273600000   299.10   346.52   294.60   323.29    5219.44542   \n",
       "...             ...      ...      ...      ...      ...           ...   \n",
       "1407  1624492800000  1967.95  2036.61  1884.79  1989.52  701231.67478   \n",
       "1408  1624579200000  1989.53  2019.99  1791.22  1808.82  858808.54767   \n",
       "1409  1624665600000  1808.97  1852.80  1717.32  1829.64  832315.14904   \n",
       "1410  1624752000000  1829.84  1984.50  1804.26  1982.28  696055.79307   \n",
       "1411  1624838400000  1982.27  2136.71  1960.52  2088.28  855130.60213   \n",
       "\n",
       "         Close Time  Quote Asset Volume (USDT)  No. of trades  \\\n",
       "0     1503014399999               2.154655e+06           4522   \n",
       "1     1503100799999               2.858947e+06           5658   \n",
       "2     1503187199999               6.200226e+05           1795   \n",
       "3     1503273599999               7.428479e+05           2038   \n",
       "4     1503359999999               1.689472e+06           3925   \n",
       "...             ...                        ...            ...   \n",
       "1407  1624579199999               1.377800e+09         833337   \n",
       "1408  1624665599999               1.612557e+09        1041338   \n",
       "1409  1624751999999               1.478551e+09         923226   \n",
       "1410  1624838399999               1.299522e+09        1091206   \n",
       "1411  1624924799999               1.740555e+09        1248749   \n",
       "\n",
       "      Buy Base Volume (ETH)  Buy Quote Volume (USDT)        Ignore  Open Date  \n",
       "0                6224.58999             1.908705e+06  50579.872288 2017-08-17  \n",
       "1                7452.43542             2.240813e+06  55329.574324 2017-08-18  \n",
       "2                1537.97550             4.447136e+05  58005.171046 2017-08-19  \n",
       "3                2186.68739             6.475061e+05  60299.066154 2017-08-20  \n",
       "4                4004.19967             1.297977e+06  66203.840222 2017-08-21  \n",
       "...                     ...                      ...           ...        ...  \n",
       "1407           344155.41659             6.763048e+08      0.000000 2021-06-24  \n",
       "1408           408120.68053             7.665949e+08      0.000000 2021-06-25  \n",
       "1409           407180.66965             7.233913e+08      0.000000 2021-06-26  \n",
       "1410           354611.53419             6.628817e+08      0.000000 2021-06-27  \n",
       "1411           444496.47884             9.049952e+08      0.000000 2021-06-28  \n",
       "\n",
       "[1412 rows x 13 columns]"
      ]
     },
     "execution_count": 6,
     "metadata": {},
     "output_type": "execute_result"
    }
   ],
   "source": [
    "df"
   ]
  },
  {
   "cell_type": "markdown",
   "metadata": {},
   "source": [
    "#### The Open Time is the time of the price at the very start of the day which would be midnight. The Close Time is the time of the price at the very end of the day which would be JUST before midnight.\n",
    "#### The reason why only the date appears in the Open Time column is because each date in this column shows midnight which is redundant information for me. I only need the date.\n",
    "#### I will just display some examples of the times here once for confirmation:"
   ]
  },
  {
   "cell_type": "code",
   "execution_count": 7,
   "metadata": {},
   "outputs": [
    {
     "name": "stdout",
     "output_type": "stream",
     "text": [
      "2017-08-17 00:00:00\n",
      "2017-08-18 00:00:00\n",
      "2017-08-19 00:00:00\n"
     ]
    }
   ],
   "source": [
    "# The first 3 values in the 'Open Time' column\n",
    "\n",
    "print(pd.to_datetime(1502928000000, unit='ms'))\n",
    "print(pd.to_datetime(1503014400000, unit='ms'))\n",
    "print(pd.to_datetime(1503100800000, unit='ms'))\n"
   ]
  },
  {
   "cell_type": "markdown",
   "metadata": {},
   "source": [
    "#### As we can see, the times are all midnight so this information is not displayed\n",
    "#### I will repeat the conversion to local time for the Close Times column"
   ]
  },
  {
   "cell_type": "code",
   "execution_count": 8,
   "metadata": {},
   "outputs": [],
   "source": [
    "df['Close Date'] = pd.to_datetime(df['Close Time'], unit='ms')"
   ]
  },
  {
   "cell_type": "code",
   "execution_count": 9,
   "metadata": {},
   "outputs": [
    {
     "data": {
      "text/html": [
       "<div>\n",
       "<style scoped>\n",
       "    .dataframe tbody tr th:only-of-type {\n",
       "        vertical-align: middle;\n",
       "    }\n",
       "\n",
       "    .dataframe tbody tr th {\n",
       "        vertical-align: top;\n",
       "    }\n",
       "\n",
       "    .dataframe thead th {\n",
       "        text-align: right;\n",
       "    }\n",
       "</style>\n",
       "<table border=\"1\" class=\"dataframe\">\n",
       "  <thead>\n",
       "    <tr style=\"text-align: right;\">\n",
       "      <th></th>\n",
       "      <th>Open Time</th>\n",
       "      <th>Open</th>\n",
       "      <th>High</th>\n",
       "      <th>Low</th>\n",
       "      <th>Close</th>\n",
       "      <th>Volume (ETH)</th>\n",
       "      <th>Close Time</th>\n",
       "      <th>Quote Asset Volume (USDT)</th>\n",
       "      <th>No. of trades</th>\n",
       "      <th>Buy Base Volume (ETH)</th>\n",
       "      <th>Buy Quote Volume (USDT)</th>\n",
       "      <th>Ignore</th>\n",
       "      <th>Open Date</th>\n",
       "      <th>Close Date</th>\n",
       "    </tr>\n",
       "  </thead>\n",
       "  <tbody>\n",
       "    <tr>\n",
       "      <th>0</th>\n",
       "      <td>1502928000000</td>\n",
       "      <td>301.13</td>\n",
       "      <td>312.18</td>\n",
       "      <td>298.00</td>\n",
       "      <td>302.00</td>\n",
       "      <td>7030.71034</td>\n",
       "      <td>1503014399999</td>\n",
       "      <td>2.154655e+06</td>\n",
       "      <td>4522</td>\n",
       "      <td>6224.58999</td>\n",
       "      <td>1.908705e+06</td>\n",
       "      <td>50579.872288</td>\n",
       "      <td>2017-08-17</td>\n",
       "      <td>2017-08-17 23:59:59.999</td>\n",
       "    </tr>\n",
       "    <tr>\n",
       "      <th>1</th>\n",
       "      <td>1503014400000</td>\n",
       "      <td>302.00</td>\n",
       "      <td>311.79</td>\n",
       "      <td>283.94</td>\n",
       "      <td>293.96</td>\n",
       "      <td>9537.84646</td>\n",
       "      <td>1503100799999</td>\n",
       "      <td>2.858947e+06</td>\n",
       "      <td>5658</td>\n",
       "      <td>7452.43542</td>\n",
       "      <td>2.240813e+06</td>\n",
       "      <td>55329.574324</td>\n",
       "      <td>2017-08-18</td>\n",
       "      <td>2017-08-18 23:59:59.999</td>\n",
       "    </tr>\n",
       "    <tr>\n",
       "      <th>2</th>\n",
       "      <td>1503100800000</td>\n",
       "      <td>293.31</td>\n",
       "      <td>299.90</td>\n",
       "      <td>278.00</td>\n",
       "      <td>290.91</td>\n",
       "      <td>2146.19773</td>\n",
       "      <td>1503187199999</td>\n",
       "      <td>6.200226e+05</td>\n",
       "      <td>1795</td>\n",
       "      <td>1537.97550</td>\n",
       "      <td>4.447136e+05</td>\n",
       "      <td>58005.171046</td>\n",
       "      <td>2017-08-19</td>\n",
       "      <td>2017-08-19 23:59:59.999</td>\n",
       "    </tr>\n",
       "    <tr>\n",
       "      <th>3</th>\n",
       "      <td>1503187200000</td>\n",
       "      <td>289.41</td>\n",
       "      <td>300.53</td>\n",
       "      <td>282.85</td>\n",
       "      <td>299.10</td>\n",
       "      <td>2510.13871</td>\n",
       "      <td>1503273599999</td>\n",
       "      <td>7.428479e+05</td>\n",
       "      <td>2038</td>\n",
       "      <td>2186.68739</td>\n",
       "      <td>6.475061e+05</td>\n",
       "      <td>60299.066154</td>\n",
       "      <td>2017-08-20</td>\n",
       "      <td>2017-08-20 23:59:59.999</td>\n",
       "    </tr>\n",
       "    <tr>\n",
       "      <th>4</th>\n",
       "      <td>1503273600000</td>\n",
       "      <td>299.10</td>\n",
       "      <td>346.52</td>\n",
       "      <td>294.60</td>\n",
       "      <td>323.29</td>\n",
       "      <td>5219.44542</td>\n",
       "      <td>1503359999999</td>\n",
       "      <td>1.689472e+06</td>\n",
       "      <td>3925</td>\n",
       "      <td>4004.19967</td>\n",
       "      <td>1.297977e+06</td>\n",
       "      <td>66203.840222</td>\n",
       "      <td>2017-08-21</td>\n",
       "      <td>2017-08-21 23:59:59.999</td>\n",
       "    </tr>\n",
       "    <tr>\n",
       "      <th>...</th>\n",
       "      <td>...</td>\n",
       "      <td>...</td>\n",
       "      <td>...</td>\n",
       "      <td>...</td>\n",
       "      <td>...</td>\n",
       "      <td>...</td>\n",
       "      <td>...</td>\n",
       "      <td>...</td>\n",
       "      <td>...</td>\n",
       "      <td>...</td>\n",
       "      <td>...</td>\n",
       "      <td>...</td>\n",
       "      <td>...</td>\n",
       "      <td>...</td>\n",
       "    </tr>\n",
       "    <tr>\n",
       "      <th>1407</th>\n",
       "      <td>1624492800000</td>\n",
       "      <td>1967.95</td>\n",
       "      <td>2036.61</td>\n",
       "      <td>1884.79</td>\n",
       "      <td>1989.52</td>\n",
       "      <td>701231.67478</td>\n",
       "      <td>1624579199999</td>\n",
       "      <td>1.377800e+09</td>\n",
       "      <td>833337</td>\n",
       "      <td>344155.41659</td>\n",
       "      <td>6.763048e+08</td>\n",
       "      <td>0.000000</td>\n",
       "      <td>2021-06-24</td>\n",
       "      <td>2021-06-24 23:59:59.999</td>\n",
       "    </tr>\n",
       "    <tr>\n",
       "      <th>1408</th>\n",
       "      <td>1624579200000</td>\n",
       "      <td>1989.53</td>\n",
       "      <td>2019.99</td>\n",
       "      <td>1791.22</td>\n",
       "      <td>1808.82</td>\n",
       "      <td>858808.54767</td>\n",
       "      <td>1624665599999</td>\n",
       "      <td>1.612557e+09</td>\n",
       "      <td>1041338</td>\n",
       "      <td>408120.68053</td>\n",
       "      <td>7.665949e+08</td>\n",
       "      <td>0.000000</td>\n",
       "      <td>2021-06-25</td>\n",
       "      <td>2021-06-25 23:59:59.999</td>\n",
       "    </tr>\n",
       "    <tr>\n",
       "      <th>1409</th>\n",
       "      <td>1624665600000</td>\n",
       "      <td>1808.97</td>\n",
       "      <td>1852.80</td>\n",
       "      <td>1717.32</td>\n",
       "      <td>1829.64</td>\n",
       "      <td>832315.14904</td>\n",
       "      <td>1624751999999</td>\n",
       "      <td>1.478551e+09</td>\n",
       "      <td>923226</td>\n",
       "      <td>407180.66965</td>\n",
       "      <td>7.233913e+08</td>\n",
       "      <td>0.000000</td>\n",
       "      <td>2021-06-26</td>\n",
       "      <td>2021-06-26 23:59:59.999</td>\n",
       "    </tr>\n",
       "    <tr>\n",
       "      <th>1410</th>\n",
       "      <td>1624752000000</td>\n",
       "      <td>1829.84</td>\n",
       "      <td>1984.50</td>\n",
       "      <td>1804.26</td>\n",
       "      <td>1982.28</td>\n",
       "      <td>696055.79307</td>\n",
       "      <td>1624838399999</td>\n",
       "      <td>1.299522e+09</td>\n",
       "      <td>1091206</td>\n",
       "      <td>354611.53419</td>\n",
       "      <td>6.628817e+08</td>\n",
       "      <td>0.000000</td>\n",
       "      <td>2021-06-27</td>\n",
       "      <td>2021-06-27 23:59:59.999</td>\n",
       "    </tr>\n",
       "    <tr>\n",
       "      <th>1411</th>\n",
       "      <td>1624838400000</td>\n",
       "      <td>1982.27</td>\n",
       "      <td>2136.71</td>\n",
       "      <td>1960.52</td>\n",
       "      <td>2088.28</td>\n",
       "      <td>855130.60213</td>\n",
       "      <td>1624924799999</td>\n",
       "      <td>1.740555e+09</td>\n",
       "      <td>1248749</td>\n",
       "      <td>444496.47884</td>\n",
       "      <td>9.049952e+08</td>\n",
       "      <td>0.000000</td>\n",
       "      <td>2021-06-28</td>\n",
       "      <td>2021-06-28 23:59:59.999</td>\n",
       "    </tr>\n",
       "  </tbody>\n",
       "</table>\n",
       "<p>1412 rows × 14 columns</p>\n",
       "</div>"
      ],
      "text/plain": [
       "          Open Time     Open     High      Low    Close  Volume (ETH)  \\\n",
       "0     1502928000000   301.13   312.18   298.00   302.00    7030.71034   \n",
       "1     1503014400000   302.00   311.79   283.94   293.96    9537.84646   \n",
       "2     1503100800000   293.31   299.90   278.00   290.91    2146.19773   \n",
       "3     1503187200000   289.41   300.53   282.85   299.10    2510.13871   \n",
       "4     1503273600000   299.10   346.52   294.60   323.29    5219.44542   \n",
       "...             ...      ...      ...      ...      ...           ...   \n",
       "1407  1624492800000  1967.95  2036.61  1884.79  1989.52  701231.67478   \n",
       "1408  1624579200000  1989.53  2019.99  1791.22  1808.82  858808.54767   \n",
       "1409  1624665600000  1808.97  1852.80  1717.32  1829.64  832315.14904   \n",
       "1410  1624752000000  1829.84  1984.50  1804.26  1982.28  696055.79307   \n",
       "1411  1624838400000  1982.27  2136.71  1960.52  2088.28  855130.60213   \n",
       "\n",
       "         Close Time  Quote Asset Volume (USDT)  No. of trades  \\\n",
       "0     1503014399999               2.154655e+06           4522   \n",
       "1     1503100799999               2.858947e+06           5658   \n",
       "2     1503187199999               6.200226e+05           1795   \n",
       "3     1503273599999               7.428479e+05           2038   \n",
       "4     1503359999999               1.689472e+06           3925   \n",
       "...             ...                        ...            ...   \n",
       "1407  1624579199999               1.377800e+09         833337   \n",
       "1408  1624665599999               1.612557e+09        1041338   \n",
       "1409  1624751999999               1.478551e+09         923226   \n",
       "1410  1624838399999               1.299522e+09        1091206   \n",
       "1411  1624924799999               1.740555e+09        1248749   \n",
       "\n",
       "      Buy Base Volume (ETH)  Buy Quote Volume (USDT)        Ignore  Open Date  \\\n",
       "0                6224.58999             1.908705e+06  50579.872288 2017-08-17   \n",
       "1                7452.43542             2.240813e+06  55329.574324 2017-08-18   \n",
       "2                1537.97550             4.447136e+05  58005.171046 2017-08-19   \n",
       "3                2186.68739             6.475061e+05  60299.066154 2017-08-20   \n",
       "4                4004.19967             1.297977e+06  66203.840222 2017-08-21   \n",
       "...                     ...                      ...           ...        ...   \n",
       "1407           344155.41659             6.763048e+08      0.000000 2021-06-24   \n",
       "1408           408120.68053             7.665949e+08      0.000000 2021-06-25   \n",
       "1409           407180.66965             7.233913e+08      0.000000 2021-06-26   \n",
       "1410           354611.53419             6.628817e+08      0.000000 2021-06-27   \n",
       "1411           444496.47884             9.049952e+08      0.000000 2021-06-28   \n",
       "\n",
       "                  Close Date  \n",
       "0    2017-08-17 23:59:59.999  \n",
       "1    2017-08-18 23:59:59.999  \n",
       "2    2017-08-19 23:59:59.999  \n",
       "3    2017-08-20 23:59:59.999  \n",
       "4    2017-08-21 23:59:59.999  \n",
       "...                      ...  \n",
       "1407 2021-06-24 23:59:59.999  \n",
       "1408 2021-06-25 23:59:59.999  \n",
       "1409 2021-06-26 23:59:59.999  \n",
       "1410 2021-06-27 23:59:59.999  \n",
       "1411 2021-06-28 23:59:59.999  \n",
       "\n",
       "[1412 rows x 14 columns]"
      ]
     },
     "execution_count": 9,
     "metadata": {},
     "output_type": "execute_result"
    }
   ],
   "source": [
    "df"
   ]
  },
  {
   "cell_type": "markdown",
   "metadata": {},
   "source": [
    "#### In the Close Date column, the times are displayed because they are not midnight. However, the times are the same for each entry in this column so it is not useful to me and I would like to remove it. I will use the datatime normalise function to do this."
   ]
  },
  {
   "cell_type": "code",
   "execution_count": 10,
   "metadata": {},
   "outputs": [],
   "source": [
    "df['Close Date'] = df['Close Date'].dt.normalize()"
   ]
  },
  {
   "cell_type": "markdown",
   "metadata": {},
   "source": [
    "#### I will remove the original Open Time and Close Time columns as I no longer need these. "
   ]
  },
  {
   "cell_type": "code",
   "execution_count": 11,
   "metadata": {},
   "outputs": [],
   "source": [
    "df.drop(['Open Time', 'Close Time'], axis=1, inplace=True)"
   ]
  },
  {
   "cell_type": "code",
   "execution_count": 12,
   "metadata": {},
   "outputs": [
    {
     "name": "stdout",
     "output_type": "stream",
     "text": [
      "<class 'pandas.core.frame.DataFrame'>\n",
      "RangeIndex: 1412 entries, 0 to 1411\n",
      "Data columns (total 12 columns):\n",
      " #   Column                     Non-Null Count  Dtype         \n",
      "---  ------                     --------------  -----         \n",
      " 0   Open                       1412 non-null   float64       \n",
      " 1   High                       1412 non-null   float64       \n",
      " 2   Low                        1412 non-null   float64       \n",
      " 3   Close                      1412 non-null   float64       \n",
      " 4   Volume (ETH)               1412 non-null   float64       \n",
      " 5   Quote Asset Volume (USDT)  1412 non-null   float64       \n",
      " 6   No. of trades              1412 non-null   int64         \n",
      " 7   Buy Base Volume (ETH)      1412 non-null   float64       \n",
      " 8   Buy Quote Volume (USDT)    1412 non-null   float64       \n",
      " 9   Ignore                     1412 non-null   float64       \n",
      " 10  Open Date                  1412 non-null   datetime64[ns]\n",
      " 11  Close Date                 1412 non-null   datetime64[ns]\n",
      "dtypes: datetime64[ns](2), float64(9), int64(1)\n",
      "memory usage: 132.5 KB\n"
     ]
    }
   ],
   "source": [
    "df.info()"
   ]
  },
  {
   "cell_type": "markdown",
   "metadata": {},
   "source": [
    "#### I will remove some of the features that aren't necessary for calculations within technical indicators or algorithms used to predict future prices."
   ]
  },
  {
   "cell_type": "code",
   "execution_count": 13,
   "metadata": {},
   "outputs": [],
   "source": [
    "df.drop(['Ignore', 'Volume (ETH)', 'No. of trades', 'Buy Base Volume (ETH)', 'Buy Quote Volume (USDT)', 'Open Date'], axis=1, inplace=True)"
   ]
  },
  {
   "cell_type": "code",
   "execution_count": 14,
   "metadata": {},
   "outputs": [],
   "source": [
    "df.rename(columns = {'Quote Asset Volume (USDT)':'Volume'}, inplace = True)"
   ]
  },
  {
   "cell_type": "code",
   "execution_count": 15,
   "metadata": {},
   "outputs": [
    {
     "name": "stdout",
     "output_type": "stream",
     "text": [
      "<class 'pandas.core.frame.DataFrame'>\n",
      "RangeIndex: 1412 entries, 0 to 1411\n",
      "Data columns (total 6 columns):\n",
      " #   Column      Non-Null Count  Dtype         \n",
      "---  ------      --------------  -----         \n",
      " 0   Open        1412 non-null   float64       \n",
      " 1   High        1412 non-null   float64       \n",
      " 2   Low         1412 non-null   float64       \n",
      " 3   Close       1412 non-null   float64       \n",
      " 4   Volume      1412 non-null   float64       \n",
      " 5   Close Date  1412 non-null   datetime64[ns]\n",
      "dtypes: datetime64[ns](1), float64(5)\n",
      "memory usage: 66.3 KB\n"
     ]
    }
   ],
   "source": [
    "df.info()"
   ]
  },
  {
   "cell_type": "markdown",
   "metadata": {},
   "source": [
    "### The columns that I currently have in the dataset are the following:\n",
    "\n",
    "- Open : The price of ETH at the very start of the day (at 24:00) in terms of USDT (which is a crytocurrency that can be exchanged 1:1 with the US Dollar)\n",
    "- High : The highest ETH price that was reached on this particular day in terms of USDT\n",
    "- Low : The lowest ETH price that was reached on this particular day in terms of USDT\n",
    "- Close : The price of ETH at the very end of the day (at 23:59) in terms of USDT\n",
    "- Volume : The total volume for the day in terms of USDT \n",
    "- Close Date : The date that the prices were taken from."
   ]
  },
  {
   "cell_type": "markdown",
   "metadata": {},
   "source": [
    "### I will confirm that there are no null values in the dataset by creating a heatmap"
   ]
  },
  {
   "cell_type": "code",
   "execution_count": 16,
   "metadata": {},
   "outputs": [
    {
     "data": {
      "text/plain": [
       "<matplotlib.axes._subplots.AxesSubplot at 0x16bd7df5190>"
      ]
     },
     "execution_count": 16,
     "metadata": {},
     "output_type": "execute_result"
    },
    {
     "data": {
      "image/png": "[encoded data removed]",
      "text/plain": [
       "<Figure size 432x288 with 2 Axes>"
      ]
     },
     "metadata": {
      "needs_background": "light"
     },
     "output_type": "display_data"
    }
   ],
   "source": [
    "sns.heatmap(df.isnull()) "
   ]
  },
  {
   "cell_type": "markdown",
   "metadata": {},
   "source": [
    "# Data Visualisation \n",
    "\n",
    "### I will create some plots to help visualise the dataset"
   ]
  },
  {
   "cell_type": "markdown",
   "metadata": {},
   "source": [
    "### Correlation matrix to visualise the correlation between the different features in the dataset"
   ]
  },
  {
   "cell_type": "code",
   "execution_count": 17,
   "metadata": {},
   "outputs": [
    {
     "data": {
      "text/plain": [
       "<matplotlib.axes._subplots.AxesSubplot at 0x16bd85ce7f0>"
      ]
     },
     "execution_count": 17,
     "metadata": {},
     "output_type": "execute_result"
    },
    {
     "data": {
      "image/png": "[encoded data removed]",
      "text/plain": [
       "<Figure size 432x288 with 2 Axes>"
      ]
     },
     "metadata": {
      "needs_background": "light"
     },
     "output_type": "display_data"
    }
   ],
   "source": [
    "correlation = df.corr()\n",
    "sns.heatmap(correlation) "
   ]
  },
  {
   "cell_type": "markdown",
   "metadata": {},
   "source": [
    "#### I can see here that there is quite a lot of correlation between the features, except of course the features that have different units (ETH and USDT). "
   ]
  },
  {
   "cell_type": "markdown",
   "metadata": {},
   "source": [
    "### I will plot some of the price and volume data to look at the trend of the data"
   ]
  },
  {
   "cell_type": "code",
   "execution_count": 18,
   "metadata": {},
   "outputs": [
    {
     "data": {
      "text/plain": [
       "[Text(0, 0.5, 'Close Price'),\n",
       " (17357.0, 18838.0),\n",
       " Text(0.5, 0, 'Date'),\n",
       " Text(0.5, 1.0, 'ETH Price')]"
      ]
     },
     "execution_count": 18,
     "metadata": {},
     "output_type": "execute_result"
    },
    {
     "data": {
      "image/png": "[encoded data removed]",
      "text/plain": [
       "<Figure size 1008x576 with 1 Axes>"
      ]
     },
     "metadata": {
      "needs_background": "light"
     },
     "output_type": "display_data"
    }
   ],
   "source": [
    "plt.figure(figsize=(14,8)) \n",
    "ax = df.groupby(['Close Date'])['Close'].mean().plot()\n",
    "ax.set(xlabel=\"Date\",\n",
    "       ylabel=\"Close Price\",\n",
    "       title=\"ETH Price\",\n",
    "       xlim=[\"2017-07-10\", \"2021-07-30\"])"
   ]
  },
  {
   "cell_type": "code",
   "execution_count": 19,
   "metadata": {},
   "outputs": [
    {
     "data": {
      "text/plain": [
       "[Text(0, 0.5, 'Volume'),\n",
       " (17357.0, 18838.0),\n",
       " Text(0.5, 0, 'Date'),\n",
       " Text(0.5, 1.0, 'Trading Volume for ETH')]"
      ]
     },
     "execution_count": 19,
     "metadata": {},
     "output_type": "execute_result"
    },
    {
     "data": {
      "image/png": "[encoded data removed]",
      "text/plain": [
       "<Figure size 1008x576 with 1 Axes>"
      ]
     },
     "metadata": {
      "needs_background": "light"
     },
     "output_type": "display_data"
    }
   ],
   "source": [
    "plt.figure(figsize=(14,8)) \n",
    "ax = df.groupby(['Close Date'])['Volume'].mean().plot()\n",
    "ax.set(xlabel=\"Date\",\n",
    "       ylabel=\"Volume\",\n",
    "       title=\"Trading Volume for ETH\",\n",
    "       xlim=[\"2017-07-10\", \"2021-07-30\"])"
   ]
  },
  {
   "cell_type": "code",
   "execution_count": 20,
   "metadata": {},
   "outputs": [
    {
     "name": "stderr",
     "output_type": "stream",
     "text": [
      "<ipython-input-20-e111f8750007>:2: SettingWithCopyWarning: \n",
      "A value is trying to be set on a copy of a slice from a DataFrame.\n",
      "Try using .loc[row_indexer,col_indexer] = value instead\n",
      "\n",
      "See the caveats in the documentation: https://pandas.pydata.org/pandas-docs/stable/user_guide/indexing.html#returning-a-view-versus-a-copy\n",
      "  subset['Year'] = pd.DatetimeIndex(subset['Close Date']).year\n"
     ]
    },
    {
     "data": {
      "text/plain": [
       "<matplotlib.axes._subplots.AxesSubplot at 0x16bd8828b80>"
      ]
     },
     "execution_count": 20,
     "metadata": {},
     "output_type": "execute_result"
    },
    {
     "data": {
      "image/png": "[encoded data removed]",
      "text/plain": [
       "<Figure size 1008x576 with 1 Axes>"
      ]
     },
     "metadata": {
      "needs_background": "light"
     },
     "output_type": "display_data"
    }
   ],
   "source": [
    "subset = df[['Close', 'Close Date']]\n",
    "subset['Year'] = pd.DatetimeIndex(subset['Close Date']).year\n",
    "\n",
    "fig, ax = plt.subplots(figsize=(14,8))\n",
    "\n",
    "years = mdates.YearLocator()\n",
    "ax.xaxis.set_major_locator(years)\n",
    "yearsFmt = mdates.DateFormatter('%Y')\n",
    "ax.xaxis.set_major_formatter(yearsFmt)\n",
    "\n",
    "plt.xlabel('Date')\n",
    "plt.ylabel('Close Price')\n",
    "plt.title('ETH Price')\n",
    "sns.lineplot(data=subset, x='Close Date', y='Close', hue='Year', palette='tab10')"
   ]
  },
  {
   "cell_type": "markdown",
   "metadata": {},
   "source": [
    "I can visualise the distribution of the with a histogram and a boxplot"
   ]
  },
  {
   "cell_type": "code",
   "execution_count": 21,
   "metadata": {},
   "outputs": [
    {
     "data": {
      "text/plain": [
       "<matplotlib.axes._subplots.AxesSubplot at 0x16bd88d5a30>"
      ]
     },
     "execution_count": 21,
     "metadata": {},
     "output_type": "execute_result"
    },
    {
     "data": {
      "image/png": "[encoded data removed]",
      "text/plain": [
       "<Figure size 1008x576 with 1 Axes>"
      ]
     },
     "metadata": {
      "needs_background": "light"
     },
     "output_type": "display_data"
    }
   ],
   "source": [
    "plt.figure(figsize=(14,8))\n",
    "plt.xlabel('Close Price')\n",
    "plt.title('Distribution of ETH dataset')\n",
    "sns.histplot(data=df, x=\"Close\", bins=30, log_scale=True, kde=True, stat='density')"
   ]
  },
  {
   "cell_type": "code",
   "execution_count": 22,
   "metadata": {},
   "outputs": [
    {
     "data": {
      "text/plain": [
       "<matplotlib.axes._subplots.AxesSubplot at 0x16bdb21bf70>"
      ]
     },
     "execution_count": 22,
     "metadata": {},
     "output_type": "execute_result"
    },
    {
     "data": {
      "image/png": "[encoded data removed]",
      "text/plain": [
       "<Figure size 1008x576 with 1 Axes>"
      ]
     },
     "metadata": {
      "needs_background": "light"
     },
     "output_type": "display_data"
    }
   ],
   "source": [
    "fig, ax = plt.subplots(figsize=(14,8))\n",
    "plt.xlabel('Close Price')\n",
    "plt.title('Distribution of ETH dataset per year')\n",
    "sns.boxplot(x = subset['Close'], y = subset['Year'], ax=ax, orient='h')"
   ]
  },
  {
   "cell_type": "markdown",
   "metadata": {},
   "source": [
    "From the two graphs above it looks like the dataset is not normally distributed. For quantitative support, I can use the Kolmogorov-Smirnov test for normality"
   ]
  },
  {
   "cell_type": "code",
   "execution_count": 23,
   "metadata": {},
   "outputs": [
    {
     "name": "stdout",
     "output_type": "stream",
     "text": [
      "t-statistic = 1.000 , p-value = 0.000\n"
     ]
    }
   ],
   "source": [
    "t_stat, p = kstest(df['Close'], 'norm')\n",
    "print('t-statistic = %.3f , p-value = %.3f' % (t_stat, p))"
   ]
  },
  {
   "cell_type": "markdown",
   "metadata": {},
   "source": [
    "#### p< 0.05 therefore the data is drawn from a non-normal distribution"
   ]
  },
  {
   "cell_type": "markdown",
   "metadata": {},
   "source": [
    "A lag plot can show if a dataset contains random values or not and also the correlation between data points"
   ]
  },
  {
   "cell_type": "code",
   "execution_count": 24,
   "metadata": {},
   "outputs": [
    {
     "data": {
      "image/png": "[encoded data removed]",
      "text/plain": [
       "<Figure size 1008x576 with 1 Axes>"
      ]
     },
     "metadata": {
      "needs_background": "light"
     },
     "output_type": "display_data"
    }
   ],
   "source": [
    "prices = df['Close']\n",
    "ser = pd.Series(prices)\n",
    "plt.figure(figsize=(14,8))\n",
    "pd.plotting.lag_plot(ser, lag= 1)\n",
    "plt.xlabel('Close Price at time t')\n",
    "plt.ylabel('Close Price at t + 1')\n",
    "plt.title('Lagged Correlation of ETH Close Price')\n",
    "plt.show()"
   ]
  },
  {
   "cell_type": "markdown",
   "metadata": {},
   "source": [
    "#### Shows moderate autocorrelation"
   ]
  },
  {
   "cell_type": "code",
   "execution_count": 25,
   "metadata": {},
   "outputs": [
    {
     "data": {
      "image/png": "[encoded data removed]",
      "text/plain": [
       "<Figure size 1008x576 with 1 Axes>"
      ]
     },
     "metadata": {
      "needs_background": "light"
     },
     "output_type": "display_data"
    }
   ],
   "source": [
    "df.set_index('Close Date', inplace=True)\n",
    "plt.rc(\"figure\", figsize=(14,8))\n",
    "sm.graphics.tsa.plot_acf(df['Close'].values, lags=365)\n",
    "plt.xlabel('Lag in Days')\n",
    "plt.ylabel('Autocorrelation')\n",
    "plt.title('Autocorrelation of ETH Close Price')\n",
    "plt.show()"
   ]
  },
  {
   "cell_type": "markdown",
   "metadata": {},
   "source": [
    "#### strong autocorrelation, gradually reducing. Not very noisy. Very good prediction capabilities when modelled. (https://www.itl.nist.gov/div898/handbook/eda/section3/autocop3.htm)"
   ]
  },
  {
   "cell_type": "markdown",
   "metadata": {},
   "source": [
    "### Decompose to visualise trend and seasonality"
   ]
  },
  {
   "cell_type": "code",
   "execution_count": 26,
   "metadata": {},
   "outputs": [
    {
     "data": {
      "image/png": "[encoded data removed]",
      "text/plain": [
       "<Figure size 1008x576 with 4 Axes>"
      ]
     },
     "metadata": {
      "needs_background": "light"
     },
     "output_type": "display_data"
    }
   ],
   "source": [
    "subset1 = subset.set_index('Close Date')\n",
    "subset1.drop(['Year'], axis=1, inplace = True)\n",
    "\n",
    "decomp = STL(subset1).fit()\n",
    "decomp.plot()\n",
    "plt.show()"
   ]
  },
  {
   "cell_type": "markdown",
   "metadata": {},
   "source": [
    "Based on the ACF plot it seems like the time series is non-stationary. It also seems that the timeseries has a non-constant variance.\n",
    "\n",
    "To quantitatively confirm the non-stationarity of the time series, I will carry out an Augmented Dickey-Fuller test and KPSS test. (https://www.statsmodels.org/stable/examples/notebooks/generated/stationarity_detrending_adf_kpss.html)"
   ]
  },
  {
   "cell_type": "code",
   "execution_count": 27,
   "metadata": {},
   "outputs": [],
   "source": [
    "def adf_test(timeseries):\n",
    "    print ('Dickey-Fuller Test Results:')\n",
    "    adftest = adfuller(timeseries, autolag='AIC')\n",
    "    adfoutput = pd.Series(adftest[0:4], index=['Test Statistic','p-value','#Lags Used','Number of Observations Used'])\n",
    "    for key,value in adftest[4].items():\n",
    "        adfoutput['Critical Value (%s)'%key] = value\n",
    "    print (adfoutput)"
   ]
  },
  {
   "cell_type": "code",
   "execution_count": 28,
   "metadata": {},
   "outputs": [
    {
     "name": "stdout",
     "output_type": "stream",
     "text": [
      "Dickey-Fuller Test Results:\n",
      "Test Statistic                   -0.245160\n",
      "p-value                           0.932920\n",
      "#Lags Used                       24.000000\n",
      "Number of Observations Used    1387.000000\n",
      "Critical Value (1%)              -3.435073\n",
      "Critical Value (5%)              -2.863626\n",
      "Critical Value (10%)             -2.567881\n",
      "dtype: float64\n"
     ]
    }
   ],
   "source": [
    "adf_test(df['Close'])"
   ]
  },
  {
   "cell_type": "markdown",
   "metadata": {},
   "source": [
    "p>0.05 and t-statistic is below all the critical values therefore accept null hypothesis. TIme series has a unit root and is NON-stationary. (https://machinelearningmastery.com/time-series-data-stationary-python/)"
   ]
  },
  {
   "cell_type": "code",
   "execution_count": 29,
   "metadata": {},
   "outputs": [],
   "source": [
    "def kpss_test(timeseries):\n",
    "    print ('KPSS Test Results:')\n",
    "    kpsstest = kpss(timeseries, regression='c', nlags=\"auto\")\n",
    "    kpss_output = pd.Series(kpsstest[0:3], index=['Test Statistic','p-value','Lags Used'])\n",
    "    for key,value in kpsstest[3].items():\n",
    "        kpss_output['Critical Value (%s)'%key] = value\n",
    "    print (kpss_output) "
   ]
  },
  {
   "cell_type": "code",
   "execution_count": 30,
   "metadata": {},
   "outputs": [
    {
     "name": "stdout",
     "output_type": "stream",
     "text": [
      "KPSS Test Results:\n",
      "Test Statistic            1.587103\n",
      "p-value                   0.010000\n",
      "Lags Used                24.000000\n",
      "Critical Value (10%)      0.347000\n",
      "Critical Value (5%)       0.463000\n",
      "Critical Value (2.5%)     0.574000\n",
      "Critical Value (1%)       0.739000\n",
      "dtype: float64\n"
     ]
    },
    {
     "name": "stderr",
     "output_type": "stream",
     "text": [
      "C:\\Users\\zara2\\anaconda3\\lib\\site-packages\\statsmodels\\tsa\\stattools.py:1685: InterpolationWarning: p-value is smaller than the indicated p-value\n",
      "  warn(\"p-value is smaller than the indicated p-value\", InterpolationWarning)\n"
     ]
    }
   ],
   "source": [
    "kpss_test(df['Close']) "
   ]
  },
  {
   "cell_type": "markdown",
   "metadata": {},
   "source": [
    "p<0.05 and t-statistic is above all the critical values therefore reject null hypothesis. Time series has a unit root and is NON-stationary."
   ]
  },
  {
   "cell_type": "markdown",
   "metadata": {},
   "source": [
    "# Split dataset"
   ]
  },
  {
   "cell_type": "markdown",
   "metadata": {},
   "source": [
    "#### I will now split the timeseries into training and test sets, before I scale it to prevent data leakage. https://machinelearningmastery.com/machine-learning-data-transforms-for-time-series-forecasting/\n",
    "#### I'll be splitting the data into three sets (Training, Validation and Test)  as per the holdout method to help with determining the generalisation ability of the model during model selection. \n",
    "#### 61.45% of the data will be used for training, 12.7% will be used as the validation set and the remaining 25.85% will be used as the test set"
   ]
  },
  {
   "cell_type": "code",
   "execution_count": 31,
   "metadata": {},
   "outputs": [
    {
     "data": {
      "text/html": [
       "<div>\n",
       "<style scoped>\n",
       "    .dataframe tbody tr th:only-of-type {\n",
       "        vertical-align: middle;\n",
       "    }\n",
       "\n",
       "    .dataframe tbody tr th {\n",
       "        vertical-align: top;\n",
       "    }\n",
       "\n",
       "    .dataframe thead th {\n",
       "        text-align: right;\n",
       "    }\n",
       "</style>\n",
       "<table border=\"1\" class=\"dataframe\">\n",
       "  <thead>\n",
       "    <tr style=\"text-align: right;\">\n",
       "      <th></th>\n",
       "      <th>Open</th>\n",
       "      <th>High</th>\n",
       "      <th>Low</th>\n",
       "      <th>Close</th>\n",
       "      <th>Volume</th>\n",
       "    </tr>\n",
       "    <tr>\n",
       "      <th>Close Date</th>\n",
       "      <th></th>\n",
       "      <th></th>\n",
       "      <th></th>\n",
       "      <th></th>\n",
       "      <th></th>\n",
       "    </tr>\n",
       "  </thead>\n",
       "  <tbody>\n",
       "    <tr>\n",
       "      <th>2017-08-17</th>\n",
       "      <td>301.13</td>\n",
       "      <td>312.18</td>\n",
       "      <td>298.00</td>\n",
       "      <td>302.00</td>\n",
       "      <td>2.154655e+06</td>\n",
       "    </tr>\n",
       "    <tr>\n",
       "      <th>2017-08-18</th>\n",
       "      <td>302.00</td>\n",
       "      <td>311.79</td>\n",
       "      <td>283.94</td>\n",
       "      <td>293.96</td>\n",
       "      <td>2.858947e+06</td>\n",
       "    </tr>\n",
       "    <tr>\n",
       "      <th>2017-08-19</th>\n",
       "      <td>293.31</td>\n",
       "      <td>299.90</td>\n",
       "      <td>278.00</td>\n",
       "      <td>290.91</td>\n",
       "      <td>6.200226e+05</td>\n",
       "    </tr>\n",
       "    <tr>\n",
       "      <th>2017-08-20</th>\n",
       "      <td>289.41</td>\n",
       "      <td>300.53</td>\n",
       "      <td>282.85</td>\n",
       "      <td>299.10</td>\n",
       "      <td>7.428479e+05</td>\n",
       "    </tr>\n",
       "    <tr>\n",
       "      <th>2017-08-21</th>\n",
       "      <td>299.10</td>\n",
       "      <td>346.52</td>\n",
       "      <td>294.60</td>\n",
       "      <td>323.29</td>\n",
       "      <td>1.689472e+06</td>\n",
       "    </tr>\n",
       "  </tbody>\n",
       "</table>\n",
       "</div>"
      ],
      "text/plain": [
       "              Open    High     Low   Close        Volume\n",
       "Close Date                                              \n",
       "2017-08-17  301.13  312.18  298.00  302.00  2.154655e+06\n",
       "2017-08-18  302.00  311.79  283.94  293.96  2.858947e+06\n",
       "2017-08-19  293.31  299.90  278.00  290.91  6.200226e+05\n",
       "2017-08-20  289.41  300.53  282.85  299.10  7.428479e+05\n",
       "2017-08-21  299.10  346.52  294.60  323.29  1.689472e+06"
      ]
     },
     "execution_count": 31,
     "metadata": {},
     "output_type": "execute_result"
    }
   ],
   "source": [
    "df.head()"
   ]
  },
  {
   "cell_type": "code",
   "execution_count": 32,
   "metadata": {},
   "outputs": [
    {
     "data": {
      "text/html": [
       "<div>\n",
       "<style scoped>\n",
       "    .dataframe tbody tr th:only-of-type {\n",
       "        vertical-align: middle;\n",
       "    }\n",
       "\n",
       "    .dataframe tbody tr th {\n",
       "        vertical-align: top;\n",
       "    }\n",
       "\n",
       "    .dataframe thead th {\n",
       "        text-align: right;\n",
       "    }\n",
       "</style>\n",
       "<table border=\"1\" class=\"dataframe\">\n",
       "  <thead>\n",
       "    <tr style=\"text-align: right;\">\n",
       "      <th></th>\n",
       "      <th>Volume</th>\n",
       "      <th>Open</th>\n",
       "      <th>High</th>\n",
       "      <th>Low</th>\n",
       "      <th>Close</th>\n",
       "    </tr>\n",
       "    <tr>\n",
       "      <th>Close Date</th>\n",
       "      <th></th>\n",
       "      <th></th>\n",
       "      <th></th>\n",
       "      <th></th>\n",
       "      <th></th>\n",
       "    </tr>\n",
       "  </thead>\n",
       "  <tbody>\n",
       "    <tr>\n",
       "      <th>2017-08-17</th>\n",
       "      <td>2.154655e+06</td>\n",
       "      <td>301.13</td>\n",
       "      <td>312.18</td>\n",
       "      <td>298.00</td>\n",
       "      <td>302.00</td>\n",
       "    </tr>\n",
       "    <tr>\n",
       "      <th>2017-08-18</th>\n",
       "      <td>2.858947e+06</td>\n",
       "      <td>302.00</td>\n",
       "      <td>311.79</td>\n",
       "      <td>283.94</td>\n",
       "      <td>293.96</td>\n",
       "    </tr>\n",
       "    <tr>\n",
       "      <th>2017-08-19</th>\n",
       "      <td>6.200226e+05</td>\n",
       "      <td>293.31</td>\n",
       "      <td>299.90</td>\n",
       "      <td>278.00</td>\n",
       "      <td>290.91</td>\n",
       "    </tr>\n",
       "    <tr>\n",
       "      <th>2017-08-20</th>\n",
       "      <td>7.428479e+05</td>\n",
       "      <td>289.41</td>\n",
       "      <td>300.53</td>\n",
       "      <td>282.85</td>\n",
       "      <td>299.10</td>\n",
       "    </tr>\n",
       "    <tr>\n",
       "      <th>2017-08-21</th>\n",
       "      <td>1.689472e+06</td>\n",
       "      <td>299.10</td>\n",
       "      <td>346.52</td>\n",
       "      <td>294.60</td>\n",
       "      <td>323.29</td>\n",
       "    </tr>\n",
       "  </tbody>\n",
       "</table>\n",
       "</div>"
      ],
      "text/plain": [
       "                  Volume    Open    High     Low   Close\n",
       "Close Date                                              \n",
       "2017-08-17  2.154655e+06  301.13  312.18  298.00  302.00\n",
       "2017-08-18  2.858947e+06  302.00  311.79  283.94  293.96\n",
       "2017-08-19  6.200226e+05  293.31  299.90  278.00  290.91\n",
       "2017-08-20  7.428479e+05  289.41  300.53  282.85  299.10\n",
       "2017-08-21  1.689472e+06  299.10  346.52  294.60  323.29"
      ]
     },
     "execution_count": 32,
     "metadata": {},
     "output_type": "execute_result"
    }
   ],
   "source": [
    "columns = df.columns.tolist()                  # want to change the order of columns so splitting into X and y will be easier\n",
    "columns = columns[-1:] + columns[:-1]\n",
    "df = df[columns]\n",
    "df.head()"
   ]
  },
  {
   "cell_type": "code",
   "execution_count": 33,
   "metadata": {},
   "outputs": [],
   "source": [
    "split = int(len(df)*0.6145)\n",
    "trainset = df[:split]\n",
    "subset = df[split:]\n",
    "\n",
    "split2 = int(len(subset)*0.3303)\n",
    "valset = subset[:split2]\n",
    "testset = subset[split2:]"
   ]
  },
  {
   "cell_type": "code",
   "execution_count": 34,
   "metadata": {},
   "outputs": [
    {
     "data": {
      "text/html": [
       "<div>\n",
       "<style scoped>\n",
       "    .dataframe tbody tr th:only-of-type {\n",
       "        vertical-align: middle;\n",
       "    }\n",
       "\n",
       "    .dataframe tbody tr th {\n",
       "        vertical-align: top;\n",
       "    }\n",
       "\n",
       "    .dataframe thead th {\n",
       "        text-align: right;\n",
       "    }\n",
       "</style>\n",
       "<table border=\"1\" class=\"dataframe\">\n",
       "  <thead>\n",
       "    <tr style=\"text-align: right;\">\n",
       "      <th></th>\n",
       "      <th>Volume</th>\n",
       "      <th>Open</th>\n",
       "      <th>High</th>\n",
       "      <th>Low</th>\n",
       "      <th>Close</th>\n",
       "    </tr>\n",
       "    <tr>\n",
       "      <th>Close Date</th>\n",
       "      <th></th>\n",
       "      <th></th>\n",
       "      <th></th>\n",
       "      <th></th>\n",
       "      <th></th>\n",
       "    </tr>\n",
       "  </thead>\n",
       "  <tbody>\n",
       "    <tr>\n",
       "      <th>2017-08-17</th>\n",
       "      <td>2.154655e+06</td>\n",
       "      <td>301.13</td>\n",
       "      <td>312.18</td>\n",
       "      <td>298.00</td>\n",
       "      <td>302.00</td>\n",
       "    </tr>\n",
       "    <tr>\n",
       "      <th>2017-08-18</th>\n",
       "      <td>2.858947e+06</td>\n",
       "      <td>302.00</td>\n",
       "      <td>311.79</td>\n",
       "      <td>283.94</td>\n",
       "      <td>293.96</td>\n",
       "    </tr>\n",
       "    <tr>\n",
       "      <th>2017-08-19</th>\n",
       "      <td>6.200226e+05</td>\n",
       "      <td>293.31</td>\n",
       "      <td>299.90</td>\n",
       "      <td>278.00</td>\n",
       "      <td>290.91</td>\n",
       "    </tr>\n",
       "    <tr>\n",
       "      <th>2017-08-20</th>\n",
       "      <td>7.428479e+05</td>\n",
       "      <td>289.41</td>\n",
       "      <td>300.53</td>\n",
       "      <td>282.85</td>\n",
       "      <td>299.10</td>\n",
       "    </tr>\n",
       "    <tr>\n",
       "      <th>2017-08-21</th>\n",
       "      <td>1.689472e+06</td>\n",
       "      <td>299.10</td>\n",
       "      <td>346.52</td>\n",
       "      <td>294.60</td>\n",
       "      <td>323.29</td>\n",
       "    </tr>\n",
       "    <tr>\n",
       "      <th>...</th>\n",
       "      <td>...</td>\n",
       "      <td>...</td>\n",
       "      <td>...</td>\n",
       "      <td>...</td>\n",
       "      <td>...</td>\n",
       "    </tr>\n",
       "    <tr>\n",
       "      <th>2019-12-27</th>\n",
       "      <td>3.002010e+07</td>\n",
       "      <td>125.58</td>\n",
       "      <td>127.10</td>\n",
       "      <td>121.91</td>\n",
       "      <td>126.29</td>\n",
       "    </tr>\n",
       "    <tr>\n",
       "      <th>2019-12-28</th>\n",
       "      <td>2.517712e+07</td>\n",
       "      <td>126.28</td>\n",
       "      <td>129.68</td>\n",
       "      <td>125.84</td>\n",
       "      <td>128.11</td>\n",
       "    </tr>\n",
       "    <tr>\n",
       "      <th>2019-12-29</th>\n",
       "      <td>4.189308e+07</td>\n",
       "      <td>128.11</td>\n",
       "      <td>138.07</td>\n",
       "      <td>127.52</td>\n",
       "      <td>134.36</td>\n",
       "    </tr>\n",
       "    <tr>\n",
       "      <th>2019-12-30</th>\n",
       "      <td>4.263656e+07</td>\n",
       "      <td>134.36</td>\n",
       "      <td>136.24</td>\n",
       "      <td>130.30</td>\n",
       "      <td>131.59</td>\n",
       "    </tr>\n",
       "    <tr>\n",
       "      <th>2019-12-31</th>\n",
       "      <td>3.467863e+07</td>\n",
       "      <td>131.61</td>\n",
       "      <td>133.68</td>\n",
       "      <td>128.17</td>\n",
       "      <td>129.16</td>\n",
       "    </tr>\n",
       "  </tbody>\n",
       "</table>\n",
       "<p>867 rows × 5 columns</p>\n",
       "</div>"
      ],
      "text/plain": [
       "                  Volume    Open    High     Low   Close\n",
       "Close Date                                              \n",
       "2017-08-17  2.154655e+06  301.13  312.18  298.00  302.00\n",
       "2017-08-18  2.858947e+06  302.00  311.79  283.94  293.96\n",
       "2017-08-19  6.200226e+05  293.31  299.90  278.00  290.91\n",
       "2017-08-20  7.428479e+05  289.41  300.53  282.85  299.10\n",
       "2017-08-21  1.689472e+06  299.10  346.52  294.60  323.29\n",
       "...                  ...     ...     ...     ...     ...\n",
       "2019-12-27  3.002010e+07  125.58  127.10  121.91  126.29\n",
       "2019-12-28  2.517712e+07  126.28  129.68  125.84  128.11\n",
       "2019-12-29  4.189308e+07  128.11  138.07  127.52  134.36\n",
       "2019-12-30  4.263656e+07  134.36  136.24  130.30  131.59\n",
       "2019-12-31  3.467863e+07  131.61  133.68  128.17  129.16\n",
       "\n",
       "[867 rows x 5 columns]"
      ]
     },
     "execution_count": 34,
     "metadata": {},
     "output_type": "execute_result"
    }
   ],
   "source": [
    "trainset"
   ]
  },
  {
   "cell_type": "code",
   "execution_count": 35,
   "metadata": {},
   "outputs": [
    {
     "data": {
      "text/html": [
       "<div>\n",
       "<style scoped>\n",
       "    .dataframe tbody tr th:only-of-type {\n",
       "        vertical-align: middle;\n",
       "    }\n",
       "\n",
       "    .dataframe tbody tr th {\n",
       "        vertical-align: top;\n",
       "    }\n",
       "\n",
       "    .dataframe thead th {\n",
       "        text-align: right;\n",
       "    }\n",
       "</style>\n",
       "<table border=\"1\" class=\"dataframe\">\n",
       "  <thead>\n",
       "    <tr style=\"text-align: right;\">\n",
       "      <th></th>\n",
       "      <th>Volume</th>\n",
       "      <th>Open</th>\n",
       "      <th>High</th>\n",
       "      <th>Low</th>\n",
       "      <th>Close</th>\n",
       "    </tr>\n",
       "    <tr>\n",
       "      <th>Close Date</th>\n",
       "      <th></th>\n",
       "      <th></th>\n",
       "      <th></th>\n",
       "      <th></th>\n",
       "      <th></th>\n",
       "    </tr>\n",
       "  </thead>\n",
       "  <tbody>\n",
       "    <tr>\n",
       "      <th>2020-01-01</th>\n",
       "      <td>1.895232e+07</td>\n",
       "      <td>129.16</td>\n",
       "      <td>133.05</td>\n",
       "      <td>128.68</td>\n",
       "      <td>130.77</td>\n",
       "    </tr>\n",
       "    <tr>\n",
       "      <th>2020-01-02</th>\n",
       "      <td>2.748685e+07</td>\n",
       "      <td>130.72</td>\n",
       "      <td>130.78</td>\n",
       "      <td>126.38</td>\n",
       "      <td>127.19</td>\n",
       "    </tr>\n",
       "    <tr>\n",
       "      <th>2020-01-03</th>\n",
       "      <td>5.413929e+07</td>\n",
       "      <td>127.19</td>\n",
       "      <td>135.14</td>\n",
       "      <td>125.88</td>\n",
       "      <td>134.35</td>\n",
       "    </tr>\n",
       "    <tr>\n",
       "      <th>2020-01-04</th>\n",
       "      <td>2.464114e+07</td>\n",
       "      <td>134.37</td>\n",
       "      <td>135.85</td>\n",
       "      <td>132.50</td>\n",
       "      <td>134.20</td>\n",
       "    </tr>\n",
       "    <tr>\n",
       "      <th>2020-01-05</th>\n",
       "      <td>3.459369e+07</td>\n",
       "      <td>134.20</td>\n",
       "      <td>138.19</td>\n",
       "      <td>134.19</td>\n",
       "      <td>135.37</td>\n",
       "    </tr>\n",
       "    <tr>\n",
       "      <th>...</th>\n",
       "      <td>...</td>\n",
       "      <td>...</td>\n",
       "      <td>...</td>\n",
       "      <td>...</td>\n",
       "      <td>...</td>\n",
       "    </tr>\n",
       "    <tr>\n",
       "      <th>2020-06-24</th>\n",
       "      <td>2.207630e+08</td>\n",
       "      <td>243.15</td>\n",
       "      <td>249.24</td>\n",
       "      <td>231.07</td>\n",
       "      <td>234.58</td>\n",
       "    </tr>\n",
       "    <tr>\n",
       "      <th>2020-06-25</th>\n",
       "      <td>1.426975e+08</td>\n",
       "      <td>234.57</td>\n",
       "      <td>235.39</td>\n",
       "      <td>227.56</td>\n",
       "      <td>232.50</td>\n",
       "    </tr>\n",
       "    <tr>\n",
       "      <th>2020-06-26</th>\n",
       "      <td>1.448055e+08</td>\n",
       "      <td>232.49</td>\n",
       "      <td>233.61</td>\n",
       "      <td>227.75</td>\n",
       "      <td>229.64</td>\n",
       "    </tr>\n",
       "    <tr>\n",
       "      <th>2020-06-27</th>\n",
       "      <td>1.452646e+08</td>\n",
       "      <td>229.66</td>\n",
       "      <td>231.42</td>\n",
       "      <td>216.00</td>\n",
       "      <td>220.94</td>\n",
       "    </tr>\n",
       "    <tr>\n",
       "      <th>2020-06-28</th>\n",
       "      <td>9.942354e+07</td>\n",
       "      <td>220.94</td>\n",
       "      <td>227.96</td>\n",
       "      <td>218.32</td>\n",
       "      <td>224.93</td>\n",
       "    </tr>\n",
       "  </tbody>\n",
       "</table>\n",
       "<p>180 rows × 5 columns</p>\n",
       "</div>"
      ],
      "text/plain": [
       "                  Volume    Open    High     Low   Close\n",
       "Close Date                                              \n",
       "2020-01-01  1.895232e+07  129.16  133.05  128.68  130.77\n",
       "2020-01-02  2.748685e+07  130.72  130.78  126.38  127.19\n",
       "2020-01-03  5.413929e+07  127.19  135.14  125.88  134.35\n",
       "2020-01-04  2.464114e+07  134.37  135.85  132.50  134.20\n",
       "2020-01-05  3.459369e+07  134.20  138.19  134.19  135.37\n",
       "...                  ...     ...     ...     ...     ...\n",
       "2020-06-24  2.207630e+08  243.15  249.24  231.07  234.58\n",
       "2020-06-25  1.426975e+08  234.57  235.39  227.56  232.50\n",
       "2020-06-26  1.448055e+08  232.49  233.61  227.75  229.64\n",
       "2020-06-27  1.452646e+08  229.66  231.42  216.00  220.94\n",
       "2020-06-28  9.942354e+07  220.94  227.96  218.32  224.93\n",
       "\n",
       "[180 rows x 5 columns]"
      ]
     },
     "execution_count": 35,
     "metadata": {},
     "output_type": "execute_result"
    }
   ],
   "source": [
    "valset"
   ]
  },
  {
   "cell_type": "code",
   "execution_count": 36,
   "metadata": {},
   "outputs": [
    {
     "data": {
      "text/html": [
       "<div>\n",
       "<style scoped>\n",
       "    .dataframe tbody tr th:only-of-type {\n",
       "        vertical-align: middle;\n",
       "    }\n",
       "\n",
       "    .dataframe tbody tr th {\n",
       "        vertical-align: top;\n",
       "    }\n",
       "\n",
       "    .dataframe thead th {\n",
       "        text-align: right;\n",
       "    }\n",
       "</style>\n",
       "<table border=\"1\" class=\"dataframe\">\n",
       "  <thead>\n",
       "    <tr style=\"text-align: right;\">\n",
       "      <th></th>\n",
       "      <th>Volume</th>\n",
       "      <th>Open</th>\n",
       "      <th>High</th>\n",
       "      <th>Low</th>\n",
       "      <th>Close</th>\n",
       "    </tr>\n",
       "    <tr>\n",
       "      <th>Close Date</th>\n",
       "      <th></th>\n",
       "      <th></th>\n",
       "      <th></th>\n",
       "      <th></th>\n",
       "      <th></th>\n",
       "    </tr>\n",
       "  </thead>\n",
       "  <tbody>\n",
       "    <tr>\n",
       "      <th>2020-06-29</th>\n",
       "      <td>1.345105e+08</td>\n",
       "      <td>224.89</td>\n",
       "      <td>229.96</td>\n",
       "      <td>221.26</td>\n",
       "      <td>227.93</td>\n",
       "    </tr>\n",
       "    <tr>\n",
       "      <th>2020-06-30</th>\n",
       "      <td>9.380221e+07</td>\n",
       "      <td>227.98</td>\n",
       "      <td>228.70</td>\n",
       "      <td>222.91</td>\n",
       "      <td>225.60</td>\n",
       "    </tr>\n",
       "    <tr>\n",
       "      <th>2020-07-01</th>\n",
       "      <td>1.183229e+08</td>\n",
       "      <td>225.59</td>\n",
       "      <td>232.71</td>\n",
       "      <td>224.16</td>\n",
       "      <td>230.99</td>\n",
       "    </tr>\n",
       "    <tr>\n",
       "      <th>2020-07-02</th>\n",
       "      <td>1.349770e+08</td>\n",
       "      <td>230.99</td>\n",
       "      <td>232.01</td>\n",
       "      <td>222.87</td>\n",
       "      <td>226.46</td>\n",
       "    </tr>\n",
       "    <tr>\n",
       "      <th>2020-07-03</th>\n",
       "      <td>7.128698e+07</td>\n",
       "      <td>226.46</td>\n",
       "      <td>228.13</td>\n",
       "      <td>223.97</td>\n",
       "      <td>224.87</td>\n",
       "    </tr>\n",
       "    <tr>\n",
       "      <th>...</th>\n",
       "      <td>...</td>\n",
       "      <td>...</td>\n",
       "      <td>...</td>\n",
       "      <td>...</td>\n",
       "      <td>...</td>\n",
       "    </tr>\n",
       "    <tr>\n",
       "      <th>2021-06-24</th>\n",
       "      <td>1.377800e+09</td>\n",
       "      <td>1967.95</td>\n",
       "      <td>2036.61</td>\n",
       "      <td>1884.79</td>\n",
       "      <td>1989.52</td>\n",
       "    </tr>\n",
       "    <tr>\n",
       "      <th>2021-06-25</th>\n",
       "      <td>1.612557e+09</td>\n",
       "      <td>1989.53</td>\n",
       "      <td>2019.99</td>\n",
       "      <td>1791.22</td>\n",
       "      <td>1808.82</td>\n",
       "    </tr>\n",
       "    <tr>\n",
       "      <th>2021-06-26</th>\n",
       "      <td>1.478551e+09</td>\n",
       "      <td>1808.97</td>\n",
       "      <td>1852.80</td>\n",
       "      <td>1717.32</td>\n",
       "      <td>1829.64</td>\n",
       "    </tr>\n",
       "    <tr>\n",
       "      <th>2021-06-27</th>\n",
       "      <td>1.299522e+09</td>\n",
       "      <td>1829.84</td>\n",
       "      <td>1984.50</td>\n",
       "      <td>1804.26</td>\n",
       "      <td>1982.28</td>\n",
       "    </tr>\n",
       "    <tr>\n",
       "      <th>2021-06-28</th>\n",
       "      <td>1.740555e+09</td>\n",
       "      <td>1982.27</td>\n",
       "      <td>2136.71</td>\n",
       "      <td>1960.52</td>\n",
       "      <td>2088.28</td>\n",
       "    </tr>\n",
       "  </tbody>\n",
       "</table>\n",
       "<p>365 rows × 5 columns</p>\n",
       "</div>"
      ],
      "text/plain": [
       "                  Volume     Open     High      Low    Close\n",
       "Close Date                                                  \n",
       "2020-06-29  1.345105e+08   224.89   229.96   221.26   227.93\n",
       "2020-06-30  9.380221e+07   227.98   228.70   222.91   225.60\n",
       "2020-07-01  1.183229e+08   225.59   232.71   224.16   230.99\n",
       "2020-07-02  1.349770e+08   230.99   232.01   222.87   226.46\n",
       "2020-07-03  7.128698e+07   226.46   228.13   223.97   224.87\n",
       "...                  ...      ...      ...      ...      ...\n",
       "2021-06-24  1.377800e+09  1967.95  2036.61  1884.79  1989.52\n",
       "2021-06-25  1.612557e+09  1989.53  2019.99  1791.22  1808.82\n",
       "2021-06-26  1.478551e+09  1808.97  1852.80  1717.32  1829.64\n",
       "2021-06-27  1.299522e+09  1829.84  1984.50  1804.26  1982.28\n",
       "2021-06-28  1.740555e+09  1982.27  2136.71  1960.52  2088.28\n",
       "\n",
       "[365 rows x 5 columns]"
      ]
     },
     "execution_count": 36,
     "metadata": {},
     "output_type": "execute_result"
    }
   ],
   "source": [
    "testset"
   ]
  },
  {
   "cell_type": "code",
   "execution_count": 48,
   "metadata": {},
   "outputs": [
    {
     "data": {
      "text/plain": [
       "<matplotlib.lines.Line2D at 0x16be076ce80>"
      ]
     },
     "execution_count": 48,
     "metadata": {},
     "output_type": "execute_result"
    },
    {
     "data": {
      "image/png": "[encoded data removed]",
      "text/plain": [
       "<Figure size 1008x576 with 1 Axes>"
      ]
     },
     "metadata": {
      "needs_background": "light"
     },
     "output_type": "display_data"
    }
   ],
   "source": [
    "fig, ax = plt.subplots(figsize=(14,8))\n",
    "\n",
    "ax = trainset['Close'].plot()\n",
    "valset['Close'].plot(ax=ax)\n",
    "testset['Close'].plot(ax=ax)\n",
    "ax.legend(['Train', 'Validation', 'Test'], fontsize = 'large')\n",
    "ax.set(xlabel=\"Date\",\n",
    "       ylabel=\"Close Price\",\n",
    "       title=\"ETH Dataset Split\",\n",
    "       xlim=[\"2017-07-10\", \"2021-07-30\"])\n",
    "plt.axvline(x=\"2019-12-31\", linestyle = '--', color='k')\n",
    "plt.axvline(x=\"2020-06-28\", linestyle = '--', color='k')"
   ]
  },
  {
   "cell_type": "markdown",
   "metadata": {},
   "source": [
    "#### The chronological order of values is maintained"
   ]
  },
  {
   "cell_type": "code",
   "execution_count": null,
   "metadata": {},
   "outputs": [],
   "source": []
  }
 ],
 "metadata": {
  "kernelspec": {
   "display_name": "Python 3",
   "language": "python",
   "name": "python3"
  },
  "language_info": {
   "codemirror_mode": {
    "name": "ipython",
    "version": 3
   },
   "file_extension": ".py",
   "mimetype": "text/x-python",
   "name": "python",
   "nbconvert_exporter": "python",
   "pygments_lexer": "ipython3",
   "version": "3.8.3"
  }
 },
 "nbformat": 4,
 "nbformat_minor": 4
}
